{
 "cells": [
  {
   "cell_type": "markdown",
   "metadata": {},
   "source": [
    "### Experimenting With Maxima and Lisp"
   ]
  },
  {
   "cell_type": "markdown",
   "metadata": {},
   "source": [
    "##### Load vect package to get express,laplacian,grad,div"
   ]
  },
  {
   "cell_type": "code",
   "execution_count": null,
   "metadata": {},
   "outputs": [],
   "source": [
    "load(vect);"
   ]
  },
  {
   "cell_type": "markdown",
   "metadata": {},
   "source": [
    "##### Enter Equation From \"Modern Coupled Mode Theory\" by Barybin and Dmitriev"
   ]
  },
  {
   "cell_type": "code",
   "execution_count": null,
   "metadata": {},
   "outputs": [],
   "source": [
    "T[D,z](m,v,k,z,t,p):='diff(p[1]*abs(a[v,1](v,k,z,t)^2+p[0]*a[v,0](v,k,z,t)^2,z,1);"
   ]
  },
  {
   "cell_type": "markdown",
   "metadata": {},
   "source": [
    "##### View And Work With Lisp Code For The CMT Equation"
   ]
  },
  {
   "cell_type": "code",
   "execution_count": null,
   "metadata": {},
   "outputs": [],
   "source": [
    "to_lisp();"
   ]
  },
  {
   "cell_type": "code",
   "execution_count": null,
   "metadata": {},
   "outputs": [],
   "source": [
    "|$%O14|"
   ]
  },
  {
   "cell_type": "code",
   "execution_count": 113,
   "metadata": {
    "scrolled": true
   },
   "outputs": [
    {
     "data": {
      "text/plain": [
       "(($T[D SIMP) Z] $MODE $FREQUENCY $WAVENUMBER $POSITION $TIME $PARITY)"
      ]
     },
     "execution_count": 113,
     "metadata": {},
     "output_type": "execute_result"
    }
   ],
   "source": [
    "(mfuncall '$T[D`,'z] '$mode '$frequency '$wavenumber '$position '$time '$parity)"
   ]
  },
  {
   "cell_type": "code",
   "execution_count": null,
   "metadata": {},
   "outputs": [],
   "source": []
  },
  {
   "cell_type": "code",
   "execution_count": null,
   "metadata": {},
   "outputs": [],
   "source": [
    "(to-maxima)"
   ]
  },
  {
   "cell_type": "code",
   "execution_count": null,
   "metadata": {},
   "outputs": [],
   "source": [
    "sin(x) + cos(x) + sin(x)/sec(x);"
   ]
  },
  {
   "cell_type": "code",
   "execution_count": null,
   "metadata": {},
   "outputs": [],
   "source": [
    "to_lisp();"
   ]
  },
  {
   "cell_type": "code",
   "execution_count": null,
   "metadata": {},
   "outputs": [],
   "source": [
    "|$%O3|"
   ]
  },
  {
   "cell_type": "code",
   "execution_count": null,
   "metadata": {},
   "outputs": [],
   "source": [
    "(to-maxima)"
   ]
  },
  {
   "cell_type": "code",
   "execution_count": null,
   "metadata": {},
   "outputs": [],
   "source": [
    "integrate(sin(x)*exp(x), x);"
   ]
  },
  {
   "cell_type": "code",
   "execution_count": null,
   "metadata": {},
   "outputs": [],
   "source": [
    "to_lisp();"
   ]
  },
  {
   "cell_type": "code",
   "execution_count": null,
   "metadata": {},
   "outputs": [],
   "source": [
    "|$%O7|"
   ]
  },
  {
   "cell_type": "code",
   "execution_count": null,
   "metadata": {},
   "outputs": [],
   "source": [
    "|$%I7|"
   ]
  },
  {
   "cell_type": "code",
   "execution_count": null,
   "metadata": {},
   "outputs": [],
   "source": [
    "($INTEGRATE (cadr |$%O7|) (caddr |$%O7|))"
   ]
  },
  {
   "cell_type": "code",
   "execution_count": null,
   "metadata": {},
   "outputs": [],
   "source": [
    "(to-maxima)"
   ]
  },
  {
   "cell_type": "code",
   "execution_count": null,
   "metadata": {},
   "outputs": [],
   "source": [
    "(+  2) "
   ]
  },
  {
   "cell_type": "code",
   "execution_count": null,
   "metadata": {},
   "outputs": [],
   "source": [
    "2+3;"
   ]
  },
  {
   "cell_type": "code",
   "execution_count": null,
   "metadata": {},
   "outputs": [],
   "source": [
    "diff(3*x^4,x,2);"
   ]
  },
  {
   "cell_type": "code",
   "execution_count": null,
   "metadata": {},
   "outputs": [],
   "source": [
    "to_lisp();"
   ]
  },
  {
   "cell_type": "code",
   "execution_count": null,
   "metadata": {},
   "outputs": [],
   "source": [
    "|$%O2|"
   ]
  },
  {
   "cell_type": "code",
   "execution_count": null,
   "metadata": {},
   "outputs": [],
   "source": [
    "|$%I2|"
   ]
  },
  {
   "cell_type": "code",
   "execution_count": null,
   "metadata": {},
   "outputs": [],
   "source": [
    "(to-maxima)"
   ]
  },
  {
   "cell_type": "code",
   "execution_count": null,
   "metadata": {},
   "outputs": [],
   "source": [
    "3 * 5;"
   ]
  },
  {
   "cell_type": "code",
   "execution_count": null,
   "metadata": {},
   "outputs": [],
   "source": [
    "to_lisp();"
   ]
  },
  {
   "cell_type": "code",
   "execution_count": null,
   "metadata": {},
   "outputs": [],
   "source": [
    "|$%O4|"
   ]
  },
  {
   "cell_type": "code",
   "execution_count": null,
   "metadata": {},
   "outputs": [],
   "source": [
    "|$%I4|"
   ]
  },
  {
   "cell_type": "code",
   "execution_count": null,
   "metadata": {},
   "outputs": [],
   "source": [
    "|$%O4|"
   ]
  },
  {
   "cell_type": "code",
   "execution_count": null,
   "metadata": {},
   "outputs": [],
   "source": [
    "(to-maxima)"
   ]
  },
  {
   "cell_type": "code",
   "execution_count": null,
   "metadata": {},
   "outputs": [],
   "source": [
    "b:4;"
   ]
  },
  {
   "cell_type": "code",
   "execution_count": null,
   "metadata": {},
   "outputs": [],
   "source": [
    "c:x + 7;"
   ]
  },
  {
   "cell_type": "code",
   "execution_count": null,
   "metadata": {},
   "outputs": [],
   "source": [
    "to_lisp();"
   ]
  },
  {
   "cell_type": "code",
   "execution_count": null,
   "metadata": {},
   "outputs": [],
   "source": [
    "|$%O8|"
   ]
  },
  {
   "cell_type": "code",
   "execution_count": null,
   "metadata": {},
   "outputs": [],
   "source": [
    "|$%I8|"
   ]
  },
  {
   "cell_type": "code",
   "execution_count": 106,
   "metadata": {},
   "outputs": [
    {
     "data": {
      "text/plain": [
       "((MLIST SIMP) $X $Y)"
      ]
     },
     "execution_count": 106,
     "metadata": {},
     "output_type": "execute_result"
    }
   ],
   "source": [
    "(msetq $foo #$[x,y]$)"
   ]
  },
  {
   "cell_type": "code",
   "execution_count": 107,
   "metadata": {},
   "outputs": [
    {
     "data": {
      "text/plain": [
       "((MLIST SIMP) $X $Y)"
      ]
     },
     "execution_count": 107,
     "metadata": {},
     "output_type": "execute_result"
    }
   ],
   "source": [
    "(msetq $foo #$[x, y]$)"
   ]
  },
  {
   "cell_type": "code",
   "execution_count": 108,
   "metadata": {},
   "outputs": [
    {
     "data": {
      "text/latex": [
       "\\[\\left[ x , y \\right] \\]"
      ],
      "text/plain": [
       "[x, y]"
      ],
      "text/x-maxima": [
       "[x,y]"
      ]
     },
     "metadata": {},
     "output_type": "display_data"
    },
    {
     "data": {
      "text/plain": [
       "T"
      ]
     },
     "execution_count": 108,
     "metadata": {},
     "output_type": "execute_result"
    }
   ],
   "source": [
    "(displa $FOO)"
   ]
  },
  {
   "cell_type": "markdown",
   "metadata": {},
   "source": [
    "##### From Richard Fateman\n",
    "\n",
    "I'm not sure what documentation says,  but basically you can write anything you want in lisp, and\n",
    "ask Maxima for help by calling meval.\n",
    "\n",
    "That is   ((mtimes) 3 5)    is not something lisp can execute, but\n",
    "\n",
    "(meval   '((mtimes) 3 5) )    returns 15.\n",
    "\n",
    "Some of maxima internal structure looks like lisp executable code but with some alterations...\n",
    "\n",
    "lisp   (f a b c)\n",
    "is sort of written in maxima as\n",
    "\n",
    "(($f ) a b c)     or\n",
    "\n",
    "($f  simp) a b c)   if it has been \"simplified\".\n",
    "\n",
    "The upper/lower case nonsense is a consequence of bad decisions\n",
    "by the Common Lisp standardization committee.   Note that if you\n",
    "do   :lisp   (defun $f (a b ) (* a b))\n",
    "\n",
    "then in maxima,  f(3,5)   returns 15\n"
   ]
  },
  {
   "cell_type": "markdown",
   "metadata": {},
   "source": [
    "##### From \"Minimal Maxima\"\n",
    "\n",
    "The Maxima symbolfoocorresponds to the Lisp symbol $foo, \n",
    "and \n",
    "the Lisp symbol foo corresponds to the Maxima symbol ?foo.\n",
    "\n",
    ":lisp(defun$foo (a) (. . .)) defines a Lisp function foo which evaluates its arguments. \n",
    "\n",
    "From Maxima, the function is called as foo(a)\n",
    "\n",
    ":lisp(defmspec$foo (e) (. . .)) defines a Lisp functionfoowhich quotes itsarguments. \n",
    "\n",
    "From Maxima, the function is called as foo(a). \n",
    "\n",
    "The argumentsof $foo are (cdre),and (caare) is always $foo itself.\n",
    "\n",
    "From Lisp, the construct (mfuncall′$foo a1. . . an) calls the function foo defined in Maxima.\n",
    "\n",
    "Let’s reach into Lisp from Maxima and vice versa.\n",
    "\n",
    "1. The construct:lisp expr tells the Lisp interpreter to evaluate an expr.\n",
    "\n",
    "(%i1) (aa + bb)^2;\n",
    "                    \n",
    "%o1) (bb + aa)^2\n",
    "\n",
    "(%i2) :lisp $%\n",
    "\n",
    "((MEXPT SIMP) ((MPLUS SIMP) $AA $BB) 2)\n",
    "\n",
    "2. :lisp(defun$foo (a) (. . .)) defines a Lisp function foo which evaluates it's arguments.\n",
    "\n",
    "(%i1) :lisp (defun $foo (a b) ‘((mplus) ((mtimes) ,a ,b) $%pi))\n",
    "$FOO\n",
    "\n",
    "(%i1) (p: x + y, q: x - y);\n",
    "\n",
    "(%o1) x - y\n",
    "\n",
    "(%i2) foo (p, q);(%o2)(x - y) (y + x) + %pi3.\n",
    "\n",
    ":lisp(defmspec $foo (e) (. . .)) defines a Lisp function foo which quotes its arguments.\n",
    "\n",
    "(%i1) :lisp (defmspec $bar (e) (let ((a (cdr e))) ‘((mplus) ((mtimes) ,@a) $ \n",
    "\n",
    "#<CLOSURE LAMBDA (E) (LET ((A (CDR E))) ‘((MPLUS) ((MTIMES) ,@A) $%PI))>\n",
    "\n",
    "(%i1) bar (p, q);\n",
    "\n",
    "(%o1) p q + %pi\n",
    "\n",
    "(%i2) bar (’’p, ’’q);\n",
    "\n",
    "(%o2) p q + %pi4.\n",
    "\n",
    "From Lisp, the construct (mfuncall′$foo a1. . . an) calls the function foo defined in Maxima.\n",
    "\n",
    "(%i1) blurf (x) := x^2;\n",
    "\n",
    "(%o1) blurf(x) := x^2\n",
    "\n",
    "(%i2) :lisp (displa (mfuncall ’$blurf ’((mplus) $grotz $mumble)))(mumble + grotz)^2\n",
    "NIL"
   ]
  },
  {
   "cell_type": "code",
   "execution_count": null,
   "metadata": {},
   "outputs": [],
   "source": [
    "(meval '((mtimes) 3 5) )"
   ]
  },
  {
   "cell_type": "code",
   "execution_count": null,
   "metadata": {},
   "outputs": [],
   "source": [
    "(defun $f (a b ) (* a b))"
   ]
  },
  {
   "cell_type": "code",
   "execution_count": null,
   "metadata": {},
   "outputs": [],
   "source": [
    "(to-maxima)"
   ]
  },
  {
   "cell_type": "code",
   "execution_count": null,
   "metadata": {},
   "outputs": [],
   "source": [
    "f(3,5);"
   ]
  },
  {
   "cell_type": "code",
   "execution_count": null,
   "metadata": {},
   "outputs": [],
   "source": [
    "to_lisp();"
   ]
  },
  {
   "cell_type": "code",
   "execution_count": null,
   "metadata": {},
   "outputs": [],
   "source": [
    "(mfuncall '$f 3 4)"
   ]
  },
  {
   "cell_type": "code",
   "execution_count": null,
   "metadata": {},
   "outputs": [
    {
     "ename": "END-OF-FILE",
     "evalue": "end of file on #<SB-IMPL::STRING-INPUT-STREAM {1004BC11E3}>",
     "output_type": "error",
     "traceback": []
    },
    {
     "name": "stderr",
     "output_type": "stream",
     "text": [
      "end of file on #<SB-IMPL::STRING-INPUT-STREAM {1004BC11E3}>\n",
      "   [Condition of type END-OF-FILE]\n",
      "\n",
      "#<ENVIRONMENT {1004BC18C3}>\n",
      "   [Environment of thread #<THREAD \"SHELL Thread\" RUNNING {1004E3BA03}>]\n",
      "\n",
      "\n",
      "Backtrace:\n",
      " 5: (SB-KERNEL::%SIGNAL end of file on #<SB-IMPL::STRING-INPUT-STREAM {1004BC11E3}>)\n",
      " 6: (ERROR END-OF-FILE STREAM #<STRING-INPUT-STREAM {1004BC11E3}>)\n",
      " 7: (SB-IMPL::STRING-INCH #<STRING-INPUT-STREAM {1004BC11E3}> T NIL)\n",
      " 8: (SB-IMPL::FLUSH-WHITESPACE #<STRING-INPUT-STREAM {1004BC11E3}>)\n",
      " 9: (SB-IMPL::READ-LIST #<STRING-INPUT-STREAM {1004BC11E3}> #<unused argument>)\n",
      " 10: (SB-IMPL::READ-MAYBE-NOTHING #<STRING-INPUT-STREAM {1004BC11E3}> ()\n",
      " 11: (SB-IMPL::%READ-PRESERVING-WHITESPACE #<STRING-INPUT-STREAM {1004BC11E3}> T (NIL) T)\n",
      " 12: (SB-IMPL::%READ-PRESERVING-WHITESPACE #<STRING-INPUT-STREAM {1004BC11E3}> T (NIL) NIL)\n",
      " 13: (READ #<STRING-INPUT-STREAM {1004BC11E3}> T NIL NIL)\n",
      " 14: (MAXIMA-JUPYTER::READ-AND-EVAL #<KERNEL {1003DC5903}> #<STRING-INPUT-STREAM {1004BC11E3}> NIL)\n",
      " 15: ((:METHOD JUPYTER:EVALUATE-CODE (MAXIMA-JUPYTER::KERNEL T)) #<KERNEL {1003DC5903}> (defmspec $bar (e) (let ((a (cdr e))) ‘((mplus) ((mtimes))) `,a) $\n",
      ")\n",
      " 16: (JUPYTER::HANDLE-EXECUTE-REQUEST #<KERNEL {1003DC5903}> #<MESSAGE {1004BAA043}>)\n",
      " 17: (JUPYTER::HANDLE-SHELL-MESSAGE #<KERNEL {1003DC5903}> #<MESSAGE {1004BAA043}>)\n",
      " 18: (JUPYTER::RUN-SHELL #<KERNEL {1003DC5903}>)\n",
      " 19: ((LAMBDA NIL :IN BORDEAUX-THREADS::BINDING-DEFAULT-SPECIALS))\n",
      " 20: ((FLET SB-UNIX::BODY :IN SB-THREAD::NEW-LISP-THREAD-TRAMPOLINE))\n",
      " 21: ((FLET \"WITHOUT-INTERRUPTS-BODY-4\" :IN SB-THREAD::NEW-LISP-THREAD-TRAMPOLINE))\n",
      " 22: ((FLET SB-THREAD::WITH-MUTEX-THUNK :IN SB-THREAD::NEW-LISP-THREAD-TRAMPOLINE))\n",
      " 23: ((FLET \"WITHOUT-INTERRUPTS-BODY-1\" :IN SB-THREAD::CALL-WITH-MUTEX))\n",
      " 24: (SB-THREAD::CALL-WITH-MUTEX #<CLOSURE (FLET SB-THREAD::WITH-MUTEX-THUNK :IN SB-THREAD::NEW-LISP-THREAD-TRAMPOLINE) {7F7FD1226D7B}> #<MUTEX \"thread result lock\" owner: #<SB-THREAD:THREAD \"SHELL Thread\" RUNNING {1004E3BA03}>> NIL T NIL)\n",
      " 25: (SB-THREAD::NEW-LISP-THREAD-TRAMPOLINE #<THREAD \"SHELL Thread\" RUNNING {1004E3BA03}> NIL #<CLOSURE (LAMBDA NIL :IN BORDEAUX-THREADS::BINDING-DEFAULT-SPECIALS) {1004E3B9AB}> NIL)\n",
      " 26: (\"foreign function: call_into_lisp\")\n",
      " 27: (\"foreign function: new_thread_trampoline\")"
     ]
    }
   ],
   "source": [
    "(defmspec $bar (e) (let ((a (cdr e))) ‘((mplus) ((mtimes))) `,a) $\n"
   ]
  },
  {
   "cell_type": "code",
   "execution_count": null,
   "metadata": {},
   "outputs": [],
   "source": []
  }
 ],
 "metadata": {
  "kernelspec": {
   "display_name": "Maxima",
   "language": "maxima",
   "name": "maxima"
  },
  "language_info": {
   "codemirror_mode": "maxima",
   "file_extension": ".mac",
   "mimetype": "text/x-maxima",
   "name": "maxima",
   "pygments_lexer": "maxima",
   "version": "5.44.0"
  }
 },
 "nbformat": 4,
 "nbformat_minor": 4
}
