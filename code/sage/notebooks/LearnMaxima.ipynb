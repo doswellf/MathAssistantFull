{
 "cells": [
  {
   "cell_type": "code",
   "execution_count": 3,
   "metadata": {},
   "outputs": [],
   "source": [
    "v1 = maxima.factor('x^5-y^5')"
   ]
  },
  {
   "cell_type": "code",
   "execution_count": 4,
   "metadata": {},
   "outputs": [
    {
     "data": {
      "text/plain": [
       "-(y-x)*(y^4+x*y^3+x^2*y^2+x^3*y+x^4)"
      ]
     },
     "execution_count": 4,
     "metadata": {},
     "output_type": "execute_result"
    }
   ],
   "source": [
    "v1"
   ]
  },
  {
   "cell_type": "code",
   "execution_count": 5,
   "metadata": {},
   "outputs": [
    {
     "data": {
      "text/plain": [
       "<class 'sage.interfaces.maxima.MaximaElement'>"
      ]
     },
     "execution_count": 5,
     "metadata": {},
     "output_type": "execute_result"
    }
   ],
   "source": [
    "type(v1)"
   ]
  },
  {
   "cell_type": "code",
   "execution_count": 6,
   "metadata": {},
   "outputs": [
    {
     "name": "stdout",
     "output_type": "stream",
     "text": [
      "                               4      3    2  2    3      4\r\n",
      "                   - (y - x) (y  + x y  + x  y  + x  y + x )\n"
     ]
    }
   ],
   "source": [
    "print(v1)"
   ]
  },
  {
   "cell_type": "code",
   "execution_count": 7,
   "metadata": {},
   "outputs": [
    {
     "data": {
      "text/plain": [
       "'-(y-x)*(y^4+x*y^3+x^2*y^2+x^3*y+x^4)'"
      ]
     },
     "execution_count": 7,
     "metadata": {},
     "output_type": "execute_result"
    }
   ],
   "source": [
    "repr(v1)"
   ]
  },
  {
   "cell_type": "code",
   "execution_count": 8,
   "metadata": {},
   "outputs": [
    {
     "data": {
      "text/plain": [
       "'-(y-x)*(y^4+x*y^3+x^2*y^2+x^3*y+x^4)'"
      ]
     },
     "execution_count": 8,
     "metadata": {},
     "output_type": "execute_result"
    }
   ],
   "source": [
    "v1.str()"
   ]
  },
  {
   "cell_type": "code",
   "execution_count": 9,
   "metadata": {},
   "outputs": [],
   "source": [
    "v2 = maxima.eval('factor(x^5-y^5)')"
   ]
  },
  {
   "cell_type": "code",
   "execution_count": 10,
   "metadata": {},
   "outputs": [
    {
     "data": {
      "text/plain": [
       "'-(y-x)*(y^4+x*y^3+x^2*y^2+x^3*y+x^4)'"
      ]
     },
     "execution_count": 10,
     "metadata": {},
     "output_type": "execute_result"
    }
   ],
   "source": [
    "v2"
   ]
  },
  {
   "cell_type": "code",
   "execution_count": 11,
   "metadata": {},
   "outputs": [],
   "source": [
    "f1 = maxima('x^5-y^5')"
   ]
  },
  {
   "cell_type": "code",
   "execution_count": 12,
   "metadata": {},
   "outputs": [
    {
     "data": {
      "text/plain": [
       "(x^5-y^5)^2"
      ]
     },
     "execution_count": 12,
     "metadata": {},
     "output_type": "execute_result"
    }
   ],
   "source": [
    "f1^2"
   ]
  },
  {
   "cell_type": "code",
   "execution_count": 13,
   "metadata": {},
   "outputs": [
    {
     "data": {
      "text/plain": [
       "-(y-x)*(y^4+x*y^3+x^2*y^2+x^3*y+x^4)"
      ]
     },
     "execution_count": 13,
     "metadata": {},
     "output_type": "execute_result"
    }
   ],
   "source": [
    "f1.factor()"
   ]
  },
  {
   "cell_type": "code",
   "execution_count": 14,
   "metadata": {},
   "outputs": [
    {
     "data": {
      "text/plain": [
       "1968329/1270080"
      ]
     },
     "execution_count": 14,
     "metadata": {},
     "output_type": "execute_result"
    }
   ],
   "source": [
    "maxima('sum(1/x^2, x, 1,10)')"
   ]
  },
  {
   "cell_type": "code",
   "execution_count": 15,
   "metadata": {},
   "outputs": [
    {
     "data": {
      "text/plain": [
       "'sum(1/x^2,x,minf,inf)"
      ]
     },
     "execution_count": 15,
     "metadata": {},
     "output_type": "execute_result"
    }
   ],
   "source": [
    "maxima('sum(1/x^2,x,minf,inf)')"
   ]
  },
  {
   "cell_type": "code",
   "execution_count": 16,
   "metadata": {},
   "outputs": [
    {
     "data": {
      "text/html": [
       "<html><script type=\"math/tex; mode=display\">\\newcommand{\\Bold}[1]{\\mathbf{#1}}\\sum_{x= -\\infty }^{\\infty }{{{1}\\over{x^2}}}</script></html>"
      ],
      "text/plain": [
       "'sum(1/x^2,x,minf,inf)"
      ]
     },
     "metadata": {},
     "output_type": "display_data"
    }
   ],
   "source": [
    "show(maxima('sum(1/x^2,x,minf,inf)'))"
   ]
  },
  {
   "cell_type": "code",
   "execution_count": 17,
   "metadata": {},
   "outputs": [
    {
     "data": {
      "text/plain": [
       "P_p1_s"
      ]
     },
     "execution_count": 17,
     "metadata": {},
     "output_type": "execute_result"
    }
   ],
   "source": [
    "var('P_p1_s')"
   ]
  },
  {
   "cell_type": "code",
   "execution_count": 18,
   "metadata": {},
   "outputs": [],
   "source": [
    "view(LatexExpr('P_{\\\\scriptscriptstyle{[+1,s]}}'))\n"
   ]
  },
  {
   "cell_type": "code",
   "execution_count": 19,
   "metadata": {},
   "outputs": [],
   "source": [
    "fn = maxima('fn(e, p, n) := ratcoef(e, p, n)');"
   ]
  },
  {
   "cell_type": "code",
   "execution_count": 20,
   "metadata": {},
   "outputs": [],
   "source": [
    "maxima.set('ge','7*a^3*x^5'); maxima.set('gp','x^5'); maxima.set('gn','1')"
   ]
  },
  {
   "cell_type": "code",
   "execution_count": 21,
   "metadata": {},
   "outputs": [],
   "source": [
    "cf_01 = maxima('fn(ge,gp,gn)')"
   ]
  },
  {
   "cell_type": "code",
   "execution_count": 22,
   "metadata": {},
   "outputs": [
    {
     "data": {
      "text/plain": [
       "7*a^3"
      ]
     },
     "execution_count": 22,
     "metadata": {},
     "output_type": "execute_result"
    }
   ],
   "source": [
    "cf_01"
   ]
  },
  {
   "cell_type": "code",
   "execution_count": 23,
   "metadata": {},
   "outputs": [],
   "source": [
    "cf_02=maxima('fn(ge,gp,gn)')"
   ]
  },
  {
   "cell_type": "code",
   "execution_count": 24,
   "metadata": {},
   "outputs": [
    {
     "data": {
      "text/plain": [
       "7*a^3"
      ]
     },
     "execution_count": 24,
     "metadata": {},
     "output_type": "execute_result"
    }
   ],
   "source": [
    "cf_02"
   ]
  },
  {
   "cell_type": "code",
   "execution_count": 25,
   "metadata": {},
   "outputs": [],
   "source": [
    "Psf=maxima(\"sremove(\\\"$\\\",ssubst(\\\"w_{\\\\\\\\scriptscriptstyle\\\\{s\\\\}\\\\}\\\",\\\"w\\\\\\\\_s\\\", ssubst(\\\"w_{\\\\\\\\scriptscriptstyle\\\\{p\\\\}\\\\}\\\", \\\"w\\\\\\\\_p\\\",ssubst(\\\"P_{\\\\\\\\scriptscriptstyle\\\\{\\\\[+1,s\\\\]\\\\}\\\\}\\\",\\\"Pp1s\\\",tex('diff(sum(Pp1s/(s*w_s+p*w_p),s,minf,inf),z),false)))))\")"
   ]
  },
  {
   "cell_type": "code",
   "execution_count": 26,
   "metadata": {},
   "outputs": [
    {
     "data": {
      "text/html": [
       "<html><script type=\"math/tex; mode=display\">\\newcommand{\\Bold}[1]{\\mathbf{#1}}{{{\\it \\partial}}\\over{{\\it \\partial}\\,z}}\\,\\left({\\it P_{\\scriptscriptstyle{[\\\r\n",
       "+1,s]}}}\\,\r\n",
       " \\sum_{s= -\\infty }^{\\infty }{{{1}\\over{s\\,{\\it w_{\\scriptscriptstyle{s}}}+p\\,\\\r\n",
       "{\\it w_{\\scriptscriptstyle{p}}}}}\r\n",
       " }\\right)</script></html>"
      ],
      "text/plain": [
       "{{{\\it \\partial}}\\over{{\\it \\partial}\\,z}}\\,\\left({\\it P_{\\scriptscriptstyle{[\\\r\n",
       "+1,s]}}}\\,\r\n",
       " \\sum_{s= -\\infty }^{\\infty }{{{1}\\over{s\\,{\\it w_{\\scriptscriptstyle{s}}}+p\\,\\\r\n",
       "{\\it w_{\\scriptscriptstyle{p}}}}}\r\n",
       " }\\right)"
      ]
     },
     "metadata": {},
     "output_type": "display_data"
    }
   ],
   "source": [
    "show(LatexExpr(Psf))"
   ]
  },
  {
   "cell_type": "code",
   "execution_count": 27,
   "metadata": {},
   "outputs": [],
   "source": [
    "Ps=maxima(\"sremove(\\\"$\\\",ssubst(\\\"P_{\\\\\\\\scriptscriptstyle\\\\{\\\\[+1,s\\\\]\\\\}\\\\}\\\",\\\"Pp1s\\\",tex('diff(sum(Pp1s/(s*w_s+p*w_p),s,minf,inf),z),false)))\")"
   ]
  },
  {
   "cell_type": "code",
   "execution_count": 28,
   "metadata": {},
   "outputs": [
    {
     "data": {
      "text/html": [
       "<html><script type=\"math/tex; mode=display\">\\newcommand{\\Bold}[1]{\\mathbf{#1}}{{{\\it \\partial}}\\over{{\\it \\partial}\\,z}}\\,\\left({\\it P_{\\scriptscriptstyle{[\\\r\n",
       "+1,s]}}}\\,\r\n",
       " \\sum_{s= -\\infty }^{\\infty }{{{1}\\over{s\\,{\\it w\\_s}+p\\,{\\it w\\_p}}}\r\n",
       " }\\right)</script></html>"
      ],
      "text/plain": [
       "{{{\\it \\partial}}\\over{{\\it \\partial}\\,z}}\\,\\left({\\it P_{\\scriptscriptstyle{[\\\r\n",
       "+1,s]}}}\\,\r\n",
       " \\sum_{s= -\\infty }^{\\infty }{{{1}\\over{s\\,{\\it w\\_s}+p\\,{\\it w\\_p}}}\r\n",
       " }\\right)"
      ]
     },
     "metadata": {},
     "output_type": "display_data"
    }
   ],
   "source": [
    "show(LatexExpr(Ps))"
   ]
  },
  {
   "cell_type": "code",
   "execution_count": 29,
   "metadata": {},
   "outputs": [
    {
     "data": {
      "text/html": [
       "<html><script type=\"math/tex; mode=display\">\\newcommand{\\Bold}[1]{\\mathbf{#1}}P_{\\scriptscriptstyle{[+1,s]}}</script></html>"
      ],
      "text/plain": [
       "P_{\\scriptscriptstyle{[+1,s]}}"
      ]
     },
     "metadata": {},
     "output_type": "display_data"
    }
   ],
   "source": [
    "show(LatexExpr(\"P_{\\\\scriptscriptstyle{[+1,s]}}\"))"
   ]
  },
  {
   "cell_type": "code",
   "execution_count": 30,
   "metadata": {},
   "outputs": [],
   "source": [
    "view(LatexExpr(Ps))"
   ]
  },
  {
   "cell_type": "code",
   "execution_count": 31,
   "metadata": {},
   "outputs": [],
   "source": [
    "maxima.set('fn','3*a^4 * x')"
   ]
  },
  {
   "cell_type": "code",
   "execution_count": 32,
   "metadata": {},
   "outputs": [],
   "source": [
    "maxima.set('vl','1')"
   ]
  },
  {
   "cell_type": "code",
   "execution_count": 33,
   "metadata": {},
   "outputs": [],
   "source": [
    "cf1=maxima('function(fn,vl)')"
   ]
  },
  {
   "cell_type": "code",
   "execution_count": 34,
   "metadata": {},
   "outputs": [
    {
     "data": {
      "text/plain": [
       "function(3*a^4*x,1)"
      ]
     },
     "execution_count": 34,
     "metadata": {},
     "output_type": "execute_result"
    }
   ],
   "source": [
    "cf1"
   ]
  },
  {
   "cell_type": "code",
   "execution_count": 35,
   "metadata": {},
   "outputs": [
    {
     "data": {
      "text/plain": [
       "1000"
      ]
     },
     "execution_count": 35,
     "metadata": {},
     "output_type": "execute_result"
    }
   ],
   "source": [
    "maxima('ev(x^3,x=10)')"
   ]
  },
  {
   "cell_type": "code",
   "execution_count": 36,
   "metadata": {},
   "outputs": [
    {
     "data": {
      "text/plain": [
       "a"
      ]
     },
     "execution_count": 36,
     "metadata": {},
     "output_type": "execute_result"
    }
   ],
   "source": [
    "maxima('ratcoef(a*x^3,x^3)')"
   ]
  },
  {
   "cell_type": "code",
   "execution_count": 37,
   "metadata": {},
   "outputs": [],
   "source": [
    "eqStr=r\"{{{\\it\\partial}}\\over{{\\it\\partial}\\,z}}\\,\\left({\\it~P\\_s}\\,\\sum_{s=-\\infty}^{\\infty}{{{1}\\over{s\\,~{~\\it~w\\_s~+~p\\,{~\\it~w\\_p}}}\\right)\""
   ]
  },
  {
   "cell_type": "code",
   "execution_count": 38,
   "metadata": {},
   "outputs": [
    {
     "data": {
      "text/plain": [
       "'{{{\\\\it\\\\partial}}\\\\over{{\\\\it\\\\partial}\\\\,z}}\\\\,\\\\left({\\\\it~P\\\\_s}\\\\,\\\\sum_{s=-\\\\infty}^{\\\\infty}{{{1}\\\\over{s\\\\,~{~\\\\it~w\\\\_s~+~p\\\\,{~\\\\it~w\\\\_p}}}\\\\right)'"
      ]
     },
     "execution_count": 38,
     "metadata": {},
     "output_type": "execute_result"
    }
   ],
   "source": [
    "eqStr"
   ]
  },
  {
   "cell_type": "code",
   "execution_count": 39,
   "metadata": {},
   "outputs": [
    {
     "data": {
      "text/plain": [
       "'{{{\\\\it\\\\partial}}\\\\over{{\\\\it\\\\partial}\\\\,z}}\\\\,\\\\left({\\\\it~P\\\\_s}\\\\,\\\\sum_{s=-\\\\infty}^{\\\\infty}{{{1}\\\\over{s\\\\,~{~\\\\it~w\\\\_s~+~p\\\\,{~\\\\it~w\\\\_p}}}\\\\right)'"
      ]
     },
     "execution_count": 39,
     "metadata": {},
     "output_type": "execute_result"
    }
   ],
   "source": [
    "eqStr.replace(\"\\\\\\\\\",\"\\\\\")"
   ]
  },
  {
   "cell_type": "code",
   "execution_count": 40,
   "metadata": {},
   "outputs": [
    {
     "data": {
      "text/plain": [
       "{{{\\it\\partial}}\\over{{\\it\\partial}\\,z}}\\,\\left({\\it~P\\_s}\\,\\sum_{s=-\\infty}^{\\infty}{{{1}\\over{s\\,~{~\\it~w\\_s~+~p\\,{~\\it~w\\_p}}}\\right)"
      ]
     },
     "execution_count": 40,
     "metadata": {},
     "output_type": "execute_result"
    }
   ],
   "source": [
    "LatexExpr(eqStr.replace(\"\\\\\\\\\",\"\\\\\"))"
   ]
  },
  {
   "cell_type": "code",
   "execution_count": 41,
   "metadata": {},
   "outputs": [
    {
     "data": {
      "text/plain": [
       "'\\\\frac{\\\\partial}{\\\\partial \\\\,z}'"
      ]
     },
     "execution_count": 41,
     "metadata": {},
     "output_type": "execute_result"
    }
   ],
   "source": [
    "r\"\\frac{\\partial}{\\partial \\,z}\""
   ]
  },
  {
   "cell_type": "code",
   "execution_count": 42,
   "metadata": {},
   "outputs": [
    {
     "data": {
      "text/plain": [
       "\\frac{\\partial}{\\partial \\,z}"
      ]
     },
     "execution_count": 42,
     "metadata": {},
     "output_type": "execute_result"
    }
   ],
   "source": [
    "LatexExpr(r\"\\frac{\\partial}{\\partial \\,z}\")"
   ]
  },
  {
   "cell_type": "code",
   "execution_count": 43,
   "metadata": {},
   "outputs": [
    {
     "data": {
      "text/html": [
       "<html><script type=\"math/tex; mode=display\">\\newcommand{\\Bold}[1]{\\mathbf{#1}}\\frac{\\partial}{\\partial \\,z}</script></html>"
      ],
      "text/plain": [
       "\\frac{\\partial}{\\partial \\,z}"
      ]
     },
     "metadata": {},
     "output_type": "display_data"
    }
   ],
   "source": [
    "show(LatexExpr(r\"\\frac{\\partial}{\\partial \\,z}\"))"
   ]
  },
  {
   "cell_type": "code",
   "execution_count": 44,
   "metadata": {},
   "outputs": [
    {
     "data": {
      "text/plain": [
       "'\\\\frac{\\\\textit{\\\\partial}}}{\\\\textit{\\\\partial{z}}}\\\\\\\\,'"
      ]
     },
     "execution_count": 44,
     "metadata": {},
     "output_type": "execute_result"
    }
   ],
   "source": [
    "r\"\\frac{\\textit{\\partial}}}{\\textit{\\partial{z}}}\\\\,\""
   ]
  },
  {
   "cell_type": "code",
   "execution_count": 45,
   "metadata": {},
   "outputs": [
    {
     "data": {
      "text/plain": [
       "\\frac{\\textit{\\partial}}}{\\textit{\\partial{z}}}\\\\,"
      ]
     },
     "execution_count": 45,
     "metadata": {},
     "output_type": "execute_result"
    }
   ],
   "source": [
    "LatexExpr(r\"\\frac{\\textit{\\partial}}}{\\textit{\\partial{z}}}\\\\,\")"
   ]
  },
  {
   "cell_type": "code",
   "execution_count": 46,
   "metadata": {},
   "outputs": [
    {
     "data": {
      "text/html": [
       "<html><script type=\"math/tex; mode=display\">\\newcommand{\\Bold}[1]{\\mathbf{#1}}\\frac{\\partial}{\\partial{z}}\\,</script></html>"
      ],
      "text/plain": [
       "\\frac{\\partial}{\\partial{z}}\\,"
      ]
     },
     "metadata": {},
     "output_type": "display_data"
    }
   ],
   "source": [
    "show(LatexExpr(r\"\\frac{\\partial}{\\partial{z}}\\,\"))"
   ]
  },
  {
   "cell_type": "code",
   "execution_count": 53,
   "metadata": {},
   "outputs": [
    {
     "data": {
      "text/html": [
       "<html><script type=\"math/tex; mode=display\">\\newcommand{\\Bold}[1]{\\mathbf{#1}}\\textit{D}</script></html>"
      ],
      "text/plain": [
       "\\textit{D}"
      ]
     },
     "metadata": {},
     "output_type": "display_data"
    }
   ],
   "source": [
    "show(LatexExpr(r\"\\textit{D}\"))"
   ]
  },
  {
   "cell_type": "markdown",
   "metadata": {},
   "source": [
    "##### Using Maxima Structs And Association Lists"
   ]
  },
  {
   "cell_type": "code",
   "execution_count": 61,
   "metadata": {},
   "outputs": [
    {
     "data": {
      "text/plain": [
       "\"/home/fraser/projects/Math/maxima/cmt_struct_sage_test_102.mac\""
      ]
     },
     "execution_count": 61,
     "metadata": {},
     "output_type": "execute_result"
    }
   ],
   "source": [
    "maxima('load(\"/home/fraser/projects/Math/maxima/cmt_struct_sage_test_102.mac\")')"
   ]
  },
  {
   "cell_type": "code",
   "execution_count": 62,
   "metadata": {},
   "outputs": [],
   "source": [
    "vc01_latex_math = maxima.get(\"assoc('math,vinfo_ch01@latex)\")"
   ]
  },
  {
   "cell_type": "code",
   "execution_count": 63,
   "metadata": {},
   "outputs": [
    {
     "data": {
      "text/plain": [
       "'\"P_{\\\\\\\\scriptscriptstyle{[+1,s]}}\"'"
      ]
     },
     "execution_count": 63,
     "metadata": {},
     "output_type": "execute_result"
    }
   ],
   "source": [
    "vc01_latex_math"
   ]
  },
  {
   "cell_type": "code",
   "execution_count": 64,
   "metadata": {},
   "outputs": [],
   "source": [
    "vc01_latex_text = maxima.get(\"assoc('text,vinfo_ch01@latex)\")"
   ]
  },
  {
   "cell_type": "code",
   "execution_count": 65,
   "metadata": {},
   "outputs": [
    {
     "data": {
      "text/plain": [
       "'\"P_{[+1,s]}\"'"
      ]
     },
     "execution_count": 65,
     "metadata": {},
     "output_type": "execute_result"
    }
   ],
   "source": [
    "vc01_latex_text"
   ]
  },
  {
   "cell_type": "code",
   "execution_count": 66,
   "metadata": {},
   "outputs": [
    {
     "data": {
      "text/plain": [
       "'P_p1_s'"
      ]
     },
     "execution_count": 66,
     "metadata": {},
     "output_type": "execute_result"
    }
   ],
   "source": [
    "vc01_name = maxima.get(\"vinfo_ch01@name\")\n",
    "vc01_name"
   ]
  },
  {
   "cell_type": "code",
   "execution_count": 67,
   "metadata": {},
   "outputs": [
    {
     "data": {
      "text/plain": [
       "'0.0531'"
      ]
     },
     "execution_count": 67,
     "metadata": {},
     "output_type": "execute_result"
    }
   ],
   "source": [
    "vc01_value = maxima.get(\"vinfo_ch01@value\")\n",
    "vc01_value"
   ]
  },
  {
   "cell_type": "code",
   "execution_count": 68,
   "metadata": {
    "scrolled": true
   },
   "outputs": [
    {
     "data": {
      "text/plain": [
       "P_{\\scriptscriptstyle{[+1,s]}}"
      ]
     },
     "execution_count": 68,
     "metadata": {},
     "output_type": "execute_result"
    }
   ],
   "source": [
    "LatexExpr(vc01_latex_math.replace(\"\\\\\\\\\",\"\\\\\").replace('\\\"',''))"
   ]
  },
  {
   "cell_type": "code",
   "execution_count": 69,
   "metadata": {},
   "outputs": [
    {
     "data": {
      "text/html": [
       "<html><script type=\"math/tex; mode=display\">\\newcommand{\\Bold}[1]{\\mathbf{#1}}P_{\\scriptscriptstyle{[+1,s]}}</script></html>"
      ],
      "text/plain": [
       "P_{\\scriptscriptstyle{[+1,s]}}"
      ]
     },
     "metadata": {},
     "output_type": "display_data"
    }
   ],
   "source": [
    "show(LatexExpr(vc01_latex_math.replace(\"\\\\\\\\\",\"\\\\\").replace('\\\"','')))"
   ]
  },
  {
   "cell_type": "code",
   "execution_count": 70,
   "metadata": {},
   "outputs": [
    {
     "data": {
      "text/plain": [
       "'\"P_{[+1,s]}\"'"
      ]
     },
     "execution_count": 70,
     "metadata": {},
     "output_type": "execute_result"
    }
   ],
   "source": [
    "vc02_latex_math='\"P_{[+1,s]}\"'\n",
    "vc02_latex_math"
   ]
  },
  {
   "cell_type": "code",
   "execution_count": 71,
   "metadata": {},
   "outputs": [
    {
     "data": {
      "text/plain": [
       "P_{[+1,s]}"
      ]
     },
     "execution_count": 71,
     "metadata": {},
     "output_type": "execute_result"
    }
   ],
   "source": [
    "LatexExpr(vc02_latex_math.replace('\\\"',''))"
   ]
  },
  {
   "cell_type": "code",
   "execution_count": 72,
   "metadata": {},
   "outputs": [
    {
     "data": {
      "text/html": [
       "<html><script type=\"math/tex; mode=display\">\\newcommand{\\Bold}[1]{\\mathbf{#1}}P_{[+1,s]}</script></html>"
      ],
      "text/plain": [
       "P_{[+1,s]}"
      ]
     },
     "metadata": {},
     "output_type": "display_data"
    }
   ],
   "source": [
    "show(LatexExpr(vc02_latex_math.replace('\\\"','')))"
   ]
  },
  {
   "cell_type": "code",
   "execution_count": 73,
   "metadata": {},
   "outputs": [],
   "source": [
    "fdv=maxima(\"finfo_Pdz_z@latex\")\n",
    "fds=maxima.eval(\"finfo_Pdz_z@latex\")"
   ]
  },
  {
   "cell_type": "code",
   "execution_count": 74,
   "metadata": {},
   "outputs": [
    {
     "data": {
      "text/plain": [
       "\"P_{dz}(z)~=~\\\\left|~\\\\omega_\\\\nu~\\\\right|~\\\\sum_{-\\\\infty}^{\\\\infty}~p_{m}~\\\\left|~a_{-\\\\nu}~(z)\\\\right|^2\""
      ]
     },
     "execution_count": 74,
     "metadata": {},
     "output_type": "execute_result"
    }
   ],
   "source": [
    "fdv"
   ]
  },
  {
   "cell_type": "code",
   "execution_count": 75,
   "metadata": {},
   "outputs": [
    {
     "data": {
      "text/plain": [
       "P_{dz}(z)~= ~\\left|~\\omega_\\nu~\\right|~\\sum_{-\\infty}^{\\infty}~p_{m}~\\left|~a_\\\r\n",
       "{-\\nu}~(z)\\right|^2"
      ]
     },
     "execution_count": 75,
     "metadata": {},
     "output_type": "execute_result"
    }
   ],
   "source": [
    "LatexExpr(fdv)"
   ]
  },
  {
   "cell_type": "code",
   "execution_count": 76,
   "metadata": {},
   "outputs": [
    {
     "data": {
      "text/html": [
       "<html><script type=\"math/tex; mode=display\">\\newcommand{\\Bold}[1]{\\mathbf{#1}}P_{dz}(z)~= ~\\left|~\\omega_\\nu~\\right|~\\sum_{-\\infty}^{\\infty}~p_{m}~\\left|~a_\\\r\n",
       "{-\\nu}~(z)\\right|^2</script></html>"
      ],
      "text/plain": [
       "P_{dz}(z)~= ~\\left|~\\omega_\\nu~\\right|~\\sum_{-\\infty}^{\\infty}~p_{m}~\\left|~a_\\\r\n",
       "{-\\nu}~(z)\\right|^2"
      ]
     },
     "metadata": {},
     "output_type": "display_data"
    }
   ],
   "source": [
    "show(LatexExpr(fdv))"
   ]
  },
  {
   "cell_type": "code",
   "execution_count": 77,
   "metadata": {},
   "outputs": [
    {
     "data": {
      "text/plain": [
       "'\"P_{dz}(z)~=~\\\\\\\\left|~\\\\\\\\omega_\\\\\\\\nu~\\\\\\\\right|~\\\\\\\\sum_{-\\\\\\\\infty}^{\\\\\\\\infty}~p_{m}~\\\\\\\\left|~a_{-\\\\\\\\nu}~(z)\\\\\\\\right|^2\"'"
      ]
     },
     "execution_count": 77,
     "metadata": {},
     "output_type": "execute_result"
    }
   ],
   "source": [
    "fds"
   ]
  },
  {
   "cell_type": "code",
   "execution_count": null,
   "metadata": {},
   "outputs": [],
   "source": [
    "LatexExpr(fds.replace(\"\\\\\\\\\",\"\\\\\").replace('\\\"'))"
   ]
  },
  {
   "cell_type": "code",
   "execution_count": null,
   "metadata": {},
   "outputs": [],
   "source": []
  },
  {
   "cell_type": "code",
   "execution_count": 79,
   "metadata": {},
   "outputs": [
    {
     "data": {
      "text/plain": [
       "P_\\nu(z)~=~\\left|\\omega_\\nu\\right|~\\sum_{-\\infty}^{\\infty}~p_{m}~\\left|~a_{-\\nu}~(z)\\right|^2"
      ]
     },
     "execution_count": 79,
     "metadata": {},
     "output_type": "execute_result"
    }
   ],
   "source": [
    "finfo_pvz_latex = maxima.get(\"finfo_Pv_z@latex\")\n",
    "fpvz_ltx_rep = finfo_pvz_latex.replace(\"\\\\\\\\\",\"\\\\\").replace('\\\"','')\n",
    "le_fpvz_ltx = LatexExpr(fpvz_ltx_rep)\n",
    "le_fpvz_ltx                                               "
   ]
  },
  {
   "cell_type": "code",
   "execution_count": 80,
   "metadata": {},
   "outputs": [
    {
     "data": {
      "text/html": [
       "<html><script type=\"math/tex; mode=display\">\\newcommand{\\Bold}[1]{\\mathbf{#1}}P_\\nu(z)~=~\\left|\\omega_\\nu\\right|~\\sum_{-\\infty}^{\\infty}~p_{m}~\\left|~a_{-\\nu}~(z)\\right|^2</script></html>"
      ],
      "text/plain": [
       "P_\\nu(z)~=~\\left|\\omega_\\nu\\right|~\\sum_{-\\infty}^{\\infty}~p_{m}~\\left|~a_{-\\nu}~(z)\\right|^2"
      ]
     },
     "metadata": {},
     "output_type": "display_data"
    }
   ],
   "source": [
    "show(le_fpvz_ltx)"
   ]
  },
  {
   "cell_type": "code",
   "execution_count": 81,
   "metadata": {},
   "outputs": [
    {
     "data": {
      "text/plain": [
       "'\"P_\\\\\\\\nu(z)~=~\\\\\\\\left|\\\\\\\\omega_\\\\\\\\nu\\\\\\\\right|~\\\\\\\\sum_{-\\\\\\\\infty}^{\\\\\\\\infty}~p_{m}~\\\\\\\\left|~a_{-\\\\\\\\nu}~(z)\\\\\\\\right|^2\"'"
      ]
     },
     "execution_count": 81,
     "metadata": {},
     "output_type": "execute_result"
    }
   ],
   "source": [
    "finfo_pvz_latex"
   ]
  },
  {
   "cell_type": "code",
   "execution_count": 82,
   "metadata": {},
   "outputs": [
    {
     "data": {
      "text/plain": [
       "'P_\\\\nu(z)~=~\\\\left|\\\\omega_\\\\nu\\\\right|~\\\\sum_{-\\\\infty}^{\\\\infty}~p_{m}~\\\\left|~a_{-\\\\nu}~(z)\\\\right|^2'"
      ]
     },
     "execution_count": 82,
     "metadata": {},
     "output_type": "execute_result"
    }
   ],
   "source": [
    "fpvz_ltx_rep"
   ]
  },
  {
   "cell_type": "code",
   "execution_count": 83,
   "metadata": {},
   "outputs": [
    {
     "data": {
      "text/plain": [
       "P_\\nu(z)~=~\\left|\\omega_\\nu\\right|~\\sum_{-\\infty}^{\\infty}~p_{m}~\\left|~a_{-\\nu}~(z)\\right|^2"
      ]
     },
     "execution_count": 83,
     "metadata": {},
     "output_type": "execute_result"
    }
   ],
   "source": [
    "le_fpvz_ltx"
   ]
  },
  {
   "cell_type": "code",
   "execution_count": 84,
   "metadata": {},
   "outputs": [
    {
     "data": {
      "text/html": [
       "<html><script type=\"math/tex; mode=display\">\\newcommand{\\Bold}[1]{\\mathbf{#1}}P_\\nu(z)~=~\\left|\\omega_\\nu\\right|~\\sum_{-\\infty}^{\\infty}~p_{m}~\\left|~a_{-\\nu}~(z)\\right|^2</script></html>"
      ],
      "text/plain": [
       "P_\\nu(z)~=~\\left|\\omega_\\nu\\right|~\\sum_{-\\infty}^{\\infty}~p_{m}~\\left|~a_{-\\nu}~(z)\\right|^2"
      ]
     },
     "metadata": {},
     "output_type": "display_data"
    }
   ],
   "source": [
    "show(LatexExpr(fpvz_ltx_rep))"
   ]
  },
  {
   "cell_type": "code",
   "execution_count": 85,
   "metadata": {},
   "outputs": [
    {
     "data": {
      "text/html": [
       "<html><script type=\"math/tex; mode=display\">\\newcommand{\\Bold}[1]{\\mathbf{#1}}P_\\nu(z)~=~\\left|\\omega_\\nu\\right|~\\sum_{-\\infty}^{\\infty}~p_{m}~\\left|~a_{-\\nu}~(z)\\right|^2</script></html>"
      ],
      "text/plain": [
       "P_\\nu(z)~=~\\left|\\omega_\\nu\\right|~\\sum_{-\\infty}^{\\infty}~p_{m}~\\left|~a_{-\\nu}~(z)\\right|^2"
      ]
     },
     "metadata": {},
     "output_type": "display_data"
    }
   ],
   "source": [
    "show(le_fpvz_ltx)"
   ]
  },
  {
   "cell_type": "code",
   "execution_count": 86,
   "metadata": {},
   "outputs": [],
   "source": [
    "vinfo_ch01_name = maxima.get(\"vinfo_ch01@name\")\t\n",
    "vinfo_ch01_latex = maxima.get(\"vinfo_ch01@latex\")\t\n",
    "vinfo_ch01_latex_math = maxima.eval(\"assoc('math,vinfo_ch01@latex)\")\t\n",
    "vinfo_ltx_math_rep = vinfo_ch01_latex_math.replace(\"\\\\\\\\\",\"\\\\\").replace('\\\"','')\n",
    "le_vc01_ltx_math = LatexExpr(vinfo_ltx_math_rep)\n"
   ]
  },
  {
   "cell_type": "code",
   "execution_count": 87,
   "metadata": {},
   "outputs": [
    {
     "data": {
      "text/plain": [
       "'P_p1_s'"
      ]
     },
     "execution_count": 87,
     "metadata": {},
     "output_type": "execute_result"
    }
   ],
   "source": [
    "vinfo_ch01_name"
   ]
  },
  {
   "cell_type": "code",
   "execution_count": 88,
   "metadata": {},
   "outputs": [
    {
     "data": {
      "text/plain": [
       "'[[math,\"P_{\\\\\\\\scriptscriptstyle{[+1,s]}}\"],[text,\"P_{[+1,s]}\"]]'"
      ]
     },
     "execution_count": 88,
     "metadata": {},
     "output_type": "execute_result"
    }
   ],
   "source": [
    "vinfo_ch01_latex"
   ]
  },
  {
   "cell_type": "code",
   "execution_count": 89,
   "metadata": {},
   "outputs": [
    {
     "data": {
      "text/plain": [
       "'\"P_{\\\\\\\\scriptscriptstyle{[+1,s]}}\"'"
      ]
     },
     "execution_count": 89,
     "metadata": {},
     "output_type": "execute_result"
    }
   ],
   "source": [
    "vinfo_ch01_latex_math"
   ]
  },
  {
   "cell_type": "code",
   "execution_count": 90,
   "metadata": {},
   "outputs": [
    {
     "data": {
      "text/plain": [
       "'P_{\\\\scriptscriptstyle{[+1,s]}}'"
      ]
     },
     "execution_count": 90,
     "metadata": {},
     "output_type": "execute_result"
    }
   ],
   "source": [
    "vinfo_ltx_math_rep"
   ]
  },
  {
   "cell_type": "code",
   "execution_count": 91,
   "metadata": {},
   "outputs": [
    {
     "data": {
      "text/html": [
       "<html><script type=\"math/tex; mode=display\">\\newcommand{\\Bold}[1]{\\mathbf{#1}}\\verb|P_{\\scriptscriptstyle{[+1,s]}}|</script></html>"
      ],
      "text/plain": [
       "'P_{\\\\scriptscriptstyle{[+1,s]}}'"
      ]
     },
     "metadata": {},
     "output_type": "display_data"
    }
   ],
   "source": [
    "show(vinfo_ltx_math_rep)"
   ]
  },
  {
   "cell_type": "code",
   "execution_count": 92,
   "metadata": {},
   "outputs": [
    {
     "data": {
      "text/plain": [
       "P_{\\scriptscriptstyle{[+1,s]}}"
      ]
     },
     "execution_count": 92,
     "metadata": {},
     "output_type": "execute_result"
    }
   ],
   "source": [
    "le_vc01_ltx_math"
   ]
  },
  {
   "cell_type": "code",
   "execution_count": 93,
   "metadata": {},
   "outputs": [
    {
     "data": {
      "text/html": [
       "<html><script type=\"math/tex; mode=display\">\\newcommand{\\Bold}[1]{\\mathbf{#1}}P_{\\scriptscriptstyle{[+1,s]}}</script></html>"
      ],
      "text/plain": [
       "P_{\\scriptscriptstyle{[+1,s]}}"
      ]
     },
     "metadata": {},
     "output_type": "display_data"
    }
   ],
   "source": [
    "show(le_vc01_ltx_math)"
   ]
  },
  {
   "cell_type": "code",
   "execution_count": 94,
   "metadata": {},
   "outputs": [
    {
     "data": {
      "text/plain": [
       "\"P_{\\\\scriptscriptstyle{[+1,s]}}\""
      ]
     },
     "execution_count": 94,
     "metadata": {},
     "output_type": "execute_result"
    }
   ],
   "source": [
    "LatexExpr(vinfo_ch01_latex_math)"
   ]
  },
  {
   "cell_type": "code",
   "execution_count": 95,
   "metadata": {},
   "outputs": [
    {
     "data": {
      "text/html": [
       "<html><script type=\"math/tex; mode=display\">\\newcommand{\\Bold}[1]{\\mathbf{#1}}\"P_{\\\\scriptscriptstyle{[+1,s]}}\"</script></html>"
      ],
      "text/plain": [
       "\"P_{\\\\scriptscriptstyle{[+1,s]}}\""
      ]
     },
     "metadata": {},
     "output_type": "display_data"
    }
   ],
   "source": [
    "show(LatexExpr(vinfo_ch01_latex_math))"
   ]
  },
  {
   "cell_type": "code",
   "execution_count": 96,
   "metadata": {},
   "outputs": [
    {
     "data": {
      "text/plain": [
       "P_{\\scriptscriptstyle{[+1,s]}}"
      ]
     },
     "execution_count": 96,
     "metadata": {},
     "output_type": "execute_result"
    }
   ],
   "source": [
    "LatexExpr(vinfo_ch01_latex_math.replace(\"\\\\\\\\\",\"\\\\\").replace('\\\"',''))"
   ]
  },
  {
   "cell_type": "code",
   "execution_count": 97,
   "metadata": {},
   "outputs": [
    {
     "data": {
      "text/html": [
       "<html><script type=\"math/tex; mode=display\">\\newcommand{\\Bold}[1]{\\mathbf{#1}}P_{\\scriptscriptstyle{[+1,s]}}</script></html>"
      ],
      "text/plain": [
       "P_{\\scriptscriptstyle{[+1,s]}}"
      ]
     },
     "metadata": {},
     "output_type": "display_data"
    }
   ],
   "source": [
    "show( LatexExpr(vinfo_ch01_latex_math.replace(\"\\\\\\\\\",\"\\\\\").replace('\\\"','')))"
   ]
  },
  {
   "cell_type": "code",
   "execution_count": 98,
   "metadata": {},
   "outputs": [
    {
     "data": {
      "text/plain": [
       "'P_{\\\\scriptscriptstyle{[+1,s]}}'"
      ]
     },
     "execution_count": 98,
     "metadata": {},
     "output_type": "execute_result"
    }
   ],
   "source": [
    "vinfo_ch01_latex_math.replace(\"\\\\\\\\\",\"\\\\\").replace('\\\"','')"
   ]
  },
  {
   "cell_type": "code",
   "execution_count": 99,
   "metadata": {},
   "outputs": [
    {
     "data": {
      "text/plain": [
       "P_{\\scriptscriptstyle{[+1,s]}}"
      ]
     },
     "execution_count": 99,
     "metadata": {},
     "output_type": "execute_result"
    }
   ],
   "source": [
    "LatexExpr(vinfo_ch01_latex_math.replace(\"\\\\\\\\\",\"\\\\\").replace('\\\"',''))"
   ]
  },
  {
   "cell_type": "code",
   "execution_count": 100,
   "metadata": {},
   "outputs": [
    {
     "data": {
      "text/html": [
       "<html><script type=\"math/tex; mode=display\">\\newcommand{\\Bold}[1]{\\mathbf{#1}}P_{\\scriptscriptstyle{[+1,s]}}</script></html>"
      ],
      "text/plain": [
       "P_{\\scriptscriptstyle{[+1,s]}}"
      ]
     },
     "metadata": {},
     "output_type": "display_data"
    }
   ],
   "source": [
    "show(LatexExpr(vinfo_ch01_latex_math.replace(\"\\\\\\\\\",\"\\\\\").replace('\\\"','')))"
   ]
  },
  {
   "cell_type": "code",
   "execution_count": 101,
   "metadata": {},
   "outputs": [],
   "source": [
    "\n",
    "\"P_{dz}(z)~= ~\\\\left|~\\\\omega_\\\\nu~\\\\right|~\\\\sum_{-\\\\infty}^{\\\\infty}~p_{m}~\\\\left|~a_{-\\\\nu}~(z)\\\\right|^2\";"
   ]
  }
 ],
 "metadata": {
  "kernelspec": {
   "display_name": "SageMath 9.1",
   "language": "sage",
   "name": "sagemath"
  },
  "language": "python",
  "language_info": {
   "codemirror_mode": {
    "name": "ipython",
    "version": 3
   },
   "file_extension": ".py",
   "mimetype": "text/x-python",
   "name": "python",
   "nbconvert_exporter": "python",
   "pygments_lexer": "ipython3",
   "version": "3.7.3"
  }
 },
 "nbformat": 4,
 "nbformat_minor": 2
}
