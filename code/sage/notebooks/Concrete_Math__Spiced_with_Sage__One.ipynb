{
 "cells": [
  {
   "cell_type": "markdown",
   "metadata": {},
   "source": [
    "<h1 style=\"text-align: center\">Concrete Mathematics, Spiced with Sage, Part 1<br>University of Victoria, CS 582/482<br>\n",
    "</h1><h2 style=\"text-align: center\">Robert A. Beezer<br>University of Puget Sound<br>May 20, 2012</h2><h3>1 What is Sage?</h3><p>\n",
    "<ol>\n",
    "<li>An open source system for advanced mathematics.</li>\n",
    "<li>An open source mathematics distribution (like Linux) with <em>Python</em> as the glue.</li>\n",
    "<li>A tool for learning and teaching mathematics.</li>\n",
    "<li>A tool for mathematics research.</li>\n",
    "</ol>\n",
    "</p><p style=\"text-align:center;\"><br><br><img src=\"sage-squared.png\" width=\"300px\"><br><br><br><br></p><p style=\"text-align:center;\"><span style=\"font-size:130%;\">Mission Statement<br>\n",
    "Create a viable free open source alternative to Magma, Maple, Mathematica, and Matlab.\n",
    "</span><br><br><br><br></p><h4>1.1 An Overview</h4><p>\n",
    "<ul>\n",
    "<li>Created in 2005 by William Stein.</li>\n",
    "<li>Free and open, GPL license.</li>\n",
    "<li>Includes about 100 open source packages.</li>\n",
    "<li>Now has around 500,000 lines of new code, by several hundred mathematician-programmers.</li>\n",
    "</ul>\n",
    "</p><p>Some of the 100 packages included:\n",
    "<ul>\n",
    "<li>Groups, Algorithms, Programming (GAP) - group theory</li>\n",
    "<li>PARI - rings, finite fields, field extensions</li>\n",
    "<li>Singular - commutative algebra</li>\n",
    "<li>SciPy/NumPy - scientific computing, numerical linear algebra</li>\n",
    "<li>Integer Matrix Library (IML) - integer, rational matrices</li>\n",
    "<li>CVXOPT - linear programming, optimization</li>\n",
    "<li>NetworkX - graph theory</li>\n",
    "<li>Pynac - symbolic manipulation</li>\n",
    "<li>Maxima - calculus, differential equations</li>\n",
    "</ul>\n",
    "</p><h3>2 The Sage Notebook</h3><p>The Sage Notebook is a web application that provides a convenient interface to Sage commands, components and features.</p><p>A symbolic derivative (from Maxima).</p>"
   ]
  },
  {
   "cell_type": "code",
   "execution_count": 2,
   "metadata": {},
   "outputs": [
    {
     "data": {
      "text/plain": [
       "x |--> -x^3*e^(-x) + 3*x^2*e^(-x)"
      ]
     },
     "execution_count": 2,
     "metadata": {},
     "output_type": "execute_result"
    }
   ],
   "source": [
    "f(x) = x^3*e^-x\n",
    "df = f.derivative()\n",
    "df"
   ]
  },
  {
   "cell_type": "markdown",
   "metadata": {},
   "source": [
    "<p>Derivative of a function is again a function, and can be evaluated.</p>"
   ]
  },
  {
   "cell_type": "code",
   "execution_count": 4,
   "metadata": {},
   "outputs": [
    {
     "data": {
      "text/plain": []
     },
     "execution_count": 4,
     "metadata": {},
     "output_type": "execute_result"
    }
   ],
   "source": [
    "slope = df(4)\n",
    "slope"
   ]
  },
  {
   "cell_type": "markdown",
   "metadata": {},
   "source": [
    "<p>Arbitrary precision numerical values on request (from MPmath).</p>"
   ]
  },
  {
   "cell_type": "code",
   "execution_count": 6,
   "metadata": {},
   "outputs": [
    {
     "data": {
      "text/plain": []
     },
     "execution_count": 6,
     "metadata": {},
     "output_type": "execute_result"
    }
   ],
   "source": [
    "N(slope, digits=20)"
   ]
  },
  {
   "cell_type": "markdown",
   "metadata": {},
   "source": [
    "<p>Can display plots in the notebook (matplotlib).</p>"
   ]
  },
  {
   "cell_type": "code",
   "execution_count": 8,
   "metadata": {},
   "outputs": [
    {
     "data": {
      "text/plain": []
     },
     "execution_count": 8,
     "metadata": {},
     "output_type": "execute_result"
    }
   ],
   "source": [
    "plot(df, 0, 10, color='red', thickness=5)"
   ]
  },
  {
   "cell_type": "markdown",
   "metadata": {},
   "source": [
    "<p>Study the multivariate integral $\\displaystyle\\int_{-4}^4\\int_0^{x^2} y^2-10x^2\\,dy\\,dx$.</p>"
   ]
  },
  {
   "cell_type": "code",
   "execution_count": 10,
   "metadata": {},
   "outputs": [
    {
     "data": {
      "text/plain": []
     },
     "execution_count": 10,
     "metadata": {},
     "output_type": "execute_result"
    }
   ],
   "source": [
    "var('x y z')\n",
    "integral(integral(y^2-10*x^2, (y, 0, x^2)), (x, -4, 4))"
   ]
  },
  {
   "cell_type": "code",
   "execution_count": 11,
   "metadata": {},
   "outputs": [
    {
     "data": {
      "text/plain": []
     },
     "execution_count": 11,
     "metadata": {},
     "output_type": "execute_result"
    }
   ],
   "source": [
    "surface = plot3d(y^2-10*x^2, (x, -4, 4), (y, 0, 16))\n",
    "show(surface)"
   ]
  },
  {
   "cell_type": "code",
   "execution_count": 12,
   "metadata": {},
   "outputs": [
    {
     "data": {
      "text/plain": []
     },
     "execution_count": 12,
     "metadata": {},
     "output_type": "execute_result"
    }
   ],
   "source": [
    "region = implicit_plot3d(y-x^2, (x, -4, 4), (y, 0, 16), (z, 0, 98), color='red', opacity=0.20)\n",
    "show(surface+region)"
   ]
  },
  {
   "cell_type": "markdown",
   "metadata": {},
   "source": [
    "<h4>2.1 Interactive Explorations</h4><p>Interactive demonstrations are easy to create with the “interact” decorator and modified function arguments.</p>"
   ]
  },
  {
   "cell_type": "code",
   "execution_count": 14,
   "metadata": {},
   "outputs": [
    {
     "data": {
      "text/plain": []
     },
     "execution_count": 14,
     "metadata": {},
     "output_type": "execute_result"
    }
   ],
   "source": [
    "@interact\n",
    "def plotter(maxdegree=range(2,40)):\n",
    "    import sage.plot.colors\n",
    "    colors = sage.plot.colors.rainbow(maxdegree+1)\n",
    "    var('x')\n",
    "    wholeplot = plot(x^1, (x, 0, 1), color=colors[1])\n",
    "    for i in range(2, maxdegree+1):\n",
    "        newplot = plot(x^i, (x, 0, 1), color=colors[i])\n",
    "        wholeplot = wholeplot + newplot\n",
    "    show(wholeplot)"
   ]
  },
  {
   "cell_type": "code",
   "execution_count": 15,
   "metadata": {},
   "outputs": [
    {
     "data": {
      "text/plain": []
     },
     "execution_count": 15,
     "metadata": {},
     "output_type": "execute_result"
    }
   ],
   "source": [
    "@interact\n",
    "def taylor(order=slider(1, 12, 1, default=Integer(2), label=\"Degree of polynomial $\\hat{f}$\")):\n",
    "  var('x')\n",
    "  x0  = 0\n",
    "  f   = sin(x)*e^(-x)\n",
    "  p   = plot(f, -1, 5, thickness=2)\n",
    "  dot = point((x0,f(x=x0)), pointsize=80, rgbcolor=(1,0,0))\n",
    "  ft  = f.taylor(x, x0 ,order)\n",
    "  pt  = plot(ft, -1, 5, color='green', thickness=2)\n",
    "  html(\"Taylor series approximation to ${0}$ of degree {1} at $x={2}$\".format(latex(f), Integer(order), x0) )\n",
    "  show(dot + p + pt, ymin = -0.5, ymax = 1)"
   ]
  },
  {
   "cell_type": "markdown",
   "metadata": {},
   "source": [
    "<h3>3 (Some) Areas of Mathematics</h3><p><em>Exclusive</em> of combinatorics (see Part 2).</p><h4>3.1 Group Theory</h4><p>Prototypical use of Sage:  permutation groups.  Built from the mature open source package GAP (Groups, Algorithms, Programming).</p><h5>Symmetries of a regular octagon</h5>"
   ]
  },
  {
   "cell_type": "code",
   "execution_count": 17,
   "metadata": {},
   "outputs": [
    {
     "data": {
      "text/plain": []
     },
     "execution_count": 17,
     "metadata": {},
     "output_type": "execute_result"
    }
   ],
   "source": [
    "G = DihedralGroup(8)\n",
    "G"
   ]
  },
  {
   "cell_type": "code",
   "execution_count": 18,
   "metadata": {},
   "outputs": [
    {
     "data": {
      "text/plain": []
     },
     "execution_count": 18,
     "metadata": {},
     "output_type": "execute_result"
    }
   ],
   "source": [
    "G.list()"
   ]
  },
  {
   "cell_type": "code",
   "execution_count": 19,
   "metadata": {},
   "outputs": [
    {
     "data": {
      "text/plain": []
     },
     "execution_count": 19,
     "metadata": {},
     "output_type": "execute_result"
    }
   ],
   "source": [
    "G.is_abelian()"
   ]
  },
  {
   "cell_type": "code",
   "execution_count": 20,
   "metadata": {},
   "outputs": [
    {
     "data": {
      "text/plain": []
     },
     "execution_count": 20,
     "metadata": {},
     "output_type": "execute_result"
    }
   ],
   "source": [
    "sg = G.subgroups()\n",
    "[H.order() for H in sg]"
   ]
  },
  {
   "cell_type": "code",
   "execution_count": 21,
   "metadata": {},
   "outputs": [
    {
     "data": {
      "text/plain": []
     },
     "execution_count": 21,
     "metadata": {},
     "output_type": "execute_result"
    }
   ],
   "source": [
    "H = sg[14]\n",
    "H.list()"
   ]
  },
  {
   "cell_type": "code",
   "execution_count": 22,
   "metadata": {},
   "outputs": [
    {
     "data": {
      "text/plain": []
     },
     "execution_count": 22,
     "metadata": {},
     "output_type": "execute_result"
    }
   ],
   "source": [
    "H.is_normal(G)"
   ]
  },
  {
   "cell_type": "markdown",
   "metadata": {},
   "source": [
    "<h4>3.2 Graph Theory</h4><p>Create graphs in a natural way:</p>"
   ]
  },
  {
   "cell_type": "code",
   "execution_count": 24,
   "metadata": {},
   "outputs": [
    {
     "data": {
      "text/plain": []
     },
     "execution_count": 24,
     "metadata": {},
     "output_type": "execute_result"
    }
   ],
   "source": [
    "harary = Graph([(0,1), (1,2), (2,3), (3,0), (1,3)])"
   ]
  },
  {
   "cell_type": "code",
   "execution_count": 25,
   "metadata": {},
   "outputs": [
    {
     "data": {
      "text/plain": []
     },
     "execution_count": 25,
     "metadata": {},
     "output_type": "execute_result"
    }
   ],
   "source": [
    "harary"
   ]
  },
  {
   "cell_type": "code",
   "execution_count": 26,
   "metadata": {},
   "outputs": [
    {
     "data": {
      "text/plain": []
     },
     "execution_count": 26,
     "metadata": {},
     "output_type": "execute_result"
    }
   ],
   "source": [
    "harary.plot()"
   ]
  },
  {
   "cell_type": "code",
   "execution_count": 27,
   "metadata": {},
   "outputs": [
    {
     "data": {
      "text/plain": []
     },
     "execution_count": 27,
     "metadata": {},
     "output_type": "execute_result"
    }
   ],
   "source": [
    "harary.num_verts(), harary.num_edges()"
   ]
  },
  {
   "cell_type": "code",
   "execution_count": 28,
   "metadata": {},
   "outputs": [
    {
     "data": {
      "text/plain": []
     },
     "execution_count": 28,
     "metadata": {},
     "output_type": "execute_result"
    }
   ],
   "source": [
    "harary.is_planar()"
   ]
  },
  {
   "cell_type": "code",
   "execution_count": 29,
   "metadata": {},
   "outputs": [
    {
     "data": {
      "text/plain": []
     },
     "execution_count": 29,
     "metadata": {},
     "output_type": "execute_result"
    }
   ],
   "source": [
    "H = harary.hamiltonian_cycle()\n",
    "H.plot()"
   ]
  },
  {
   "cell_type": "code",
   "execution_count": 30,
   "metadata": {},
   "outputs": [
    {
     "data": {
      "text/plain": []
     },
     "execution_count": 30,
     "metadata": {},
     "output_type": "execute_result"
    }
   ],
   "source": [
    "harary.degree_sequence()"
   ]
  },
  {
   "cell_type": "code",
   "execution_count": 31,
   "metadata": {},
   "outputs": [
    {
     "data": {
      "text/plain": []
     },
     "execution_count": 31,
     "metadata": {},
     "output_type": "execute_result"
    }
   ],
   "source": [
    "sorted(harary.degree_sequence())"
   ]
  },
  {
   "cell_type": "markdown",
   "metadata": {},
   "source": [
    "<p>There are many pre-defined graphs (digraphs, too):</p>"
   ]
  },
  {
   "cell_type": "code",
   "execution_count": 33,
   "metadata": {},
   "outputs": [
    {
     "data": {
      "text/plain": []
     },
     "execution_count": 33,
     "metadata": {},
     "output_type": "execute_result"
    }
   ],
   "source": [
    "graphs."
   ]
  },
  {
   "cell_type": "markdown",
   "metadata": {},
   "source": [
    "<p>“Constant time generation of free trees”, by B. Richmond, A. Odlyzko, B.D. McKay</p>"
   ]
  },
  {
   "cell_type": "code",
   "execution_count": 35,
   "metadata": {},
   "outputs": [
    {
     "data": {
      "text/plain": []
     },
     "execution_count": 35,
     "metadata": {},
     "output_type": "execute_result"
    }
   ],
   "source": [
    "trees_iterator = graphs.trees(8)\n",
    "T8 = list(trees_iterator)\n",
    "T8"
   ]
  },
  {
   "cell_type": "markdown",
   "metadata": {},
   "source": [
    "<p>From a path to a star:</p>"
   ]
  },
  {
   "cell_type": "code",
   "execution_count": 37,
   "metadata": {},
   "outputs": [
    {
     "data": {
      "text/plain": []
     },
     "execution_count": 37,
     "metadata": {},
     "output_type": "execute_result"
    }
   ],
   "source": [
    "[tree.diameter() for tree in T8]"
   ]
  },
  {
   "cell_type": "code",
   "execution_count": 38,
   "metadata": {},
   "outputs": [
    {
     "data": {
      "text/plain": []
     },
     "execution_count": 38,
     "metadata": {},
     "output_type": "execute_result"
    }
   ],
   "source": [
    "graphs_list.show_graphs(T8)"
   ]
  },
  {
   "cell_type": "markdown",
   "metadata": {},
   "source": [
    "<h5>Tower of Hanoi graph</h5><p style=\"text-align:center;\"><img src=\"4peghanoi.jpg\" width=\"600px\"></p><p>\n",
    "<ul>\n",
    "<li><span style=\"font-family: monospace\">graphs.HanoiTowerGraph(n, d)</span></li>\n",
    "<li>Generalize to $n$ pegs and $d$ disks</li>\n",
    "<li>State graph: intermediate configurations, edges are “one move”</li>\n",
    "<li>Labels: $d$-tuple, large disk to small disk; entries are peg numbers</li>\n",
    "<li>Example: $n=3$, $d=4$: $(2,0,2,1)$</li>\n",
    "</ul>\n",
    "</p>"
   ]
  },
  {
   "cell_type": "code",
   "execution_count": 40,
   "metadata": {},
   "outputs": [
    {
     "data": {
      "text/plain": []
     },
     "execution_count": 40,
     "metadata": {},
     "output_type": "execute_result"
    }
   ],
   "source": [
    "T = graphs.HanoiTowerGraph(3, 4, positions=True)\n",
    "T.show(figsize=12)"
   ]
  },
  {
   "cell_type": "markdown",
   "metadata": {},
   "source": [
    "<p>A solution is path between states ``all the disks on one peg'' and ``all the disks on another peg.''</p>"
   ]
  },
  {
   "cell_type": "code",
   "execution_count": 42,
   "metadata": {},
   "outputs": [
    {
     "data": {
      "text/plain": []
     },
     "execution_count": 42,
     "metadata": {},
     "output_type": "execute_result"
    }
   ],
   "source": [
    "solution=T.shortest_path((0,0,0,0), (1,1,1,1))\n",
    "solution"
   ]
  },
  {
   "cell_type": "markdown",
   "metadata": {},
   "source": [
    "<p>Minimum number of moves:</p>"
   ]
  },
  {
   "cell_type": "code",
   "execution_count": 44,
   "metadata": {},
   "outputs": [
    {
     "data": {
      "text/plain": []
     },
     "execution_count": 44,
     "metadata": {},
     "output_type": "execute_result"
    }
   ],
   "source": [
    "len(solution) - 1"
   ]
  },
  {
   "cell_type": "code",
   "execution_count": 45,
   "metadata": {},
   "outputs": [
    {
     "data": {
      "text/plain": []
     },
     "execution_count": 45,
     "metadata": {},
     "output_type": "execute_result"
    }
   ],
   "source": [
    "T.diameter()"
   ]
  },
  {
   "cell_type": "markdown",
   "metadata": {},
   "source": [
    "<p>More general:</p>"
   ]
  },
  {
   "cell_type": "code",
   "execution_count": 47,
   "metadata": {},
   "outputs": [
    {
     "data": {
      "text/plain": []
     },
     "execution_count": 47,
     "metadata": {},
     "output_type": "execute_result"
    }
   ],
   "source": [
    "T = graphs.HanoiTowerGraph(4, 3, positions=True)\n",
    "T.show(figsize=12)"
   ]
  },
  {
   "cell_type": "code",
   "execution_count": 48,
   "metadata": {},
   "outputs": [
    {
     "data": {
      "text/plain": []
     },
     "execution_count": 48,
     "metadata": {},
     "output_type": "execute_result"
    }
   ],
   "source": [
    "T = graphs.HanoiTowerGraph(4, 4, labels=False, positions=True)\n",
    "T.show(figsize=12)"
   ]
  },
  {
   "cell_type": "markdown",
   "metadata": {},
   "source": [
    "<p>Forget about graphics, work with graph itself.</p>"
   ]
  },
  {
   "cell_type": "code",
   "execution_count": 50,
   "metadata": {},
   "outputs": [
    {
     "data": {
      "text/plain": []
     },
     "execution_count": 50,
     "metadata": {},
     "output_type": "execute_result"
    }
   ],
   "source": [
    "T = graphs.HanoiTowerGraph(4, 8, labels=False, positions=False)\n",
    "T.num_verts()"
   ]
  },
  {
   "cell_type": "markdown",
   "metadata": {},
   "source": [
    "<p>Code vertices to integers: $d$-tuples, base $n$.  All disks on peg 0, move to all disks on peg 3.</p>"
   ]
  },
  {
   "cell_type": "code",
   "execution_count": 52,
   "metadata": {},
   "outputs": [
    {
     "data": {
      "text/plain": []
     },
     "execution_count": 52,
     "metadata": {},
     "output_type": "execute_result"
    }
   ],
   "source": [
    "solution = T.shortest_path(0, 4^8-1)\n",
    "solution"
   ]
  },
  {
   "cell_type": "code",
   "execution_count": 53,
   "metadata": {},
   "outputs": [
    {
     "data": {
      "text/plain": []
     },
     "execution_count": 53,
     "metadata": {},
     "output_type": "execute_result"
    }
   ],
   "source": [
    "len(solution)-1"
   ]
  },
  {
   "cell_type": "markdown",
   "metadata": {},
   "source": [
    "<p>Theorem: automorphisms of the state graph are just the obvious ones (renumber pegs)</p>"
   ]
  },
  {
   "cell_type": "code",
   "execution_count": 55,
   "metadata": {},
   "outputs": [
    {
     "data": {
      "text/plain": []
     },
     "execution_count": 55,
     "metadata": {},
     "output_type": "execute_result"
    }
   ],
   "source": [
    "T = graphs.HanoiTowerGraph(4, 6, labels=False, positions=False)\n",
    "A = T.automorphism_group()\n",
    "A.order()"
   ]
  },
  {
   "cell_type": "code",
   "execution_count": 56,
   "metadata": {},
   "outputs": [
    {
     "data": {
      "text/plain": []
     },
     "execution_count": 56,
     "metadata": {},
     "output_type": "execute_result"
    }
   ],
   "source": [
    "S4 = SymmetricGroup(4)\n",
    "S4.is_isomorphic(A)"
   ]
  },
  {
   "cell_type": "markdown",
   "metadata": {},
   "source": [
    "<p>Automorphisms are computed via Brendan McKay's <span style=\"font-family: monospace\">nauty</span> algorithm, re-implemented as <span style=\"font-family: monospace\">NICE</span>.</p><h4>3.3 Linear Algebra</h4><h5>Exact linear algebra</h5><p>Many possible fields and rings: finite fields, field extensions, algebraic numbers.<br>\n",
    "Over the integers and rationals powered by Integer Matrix Library (IML).</p>"
   ]
  },
  {
   "cell_type": "code",
   "execution_count": 58,
   "metadata": {},
   "outputs": [
    {
     "data": {
      "text/plain": []
     },
     "execution_count": 58,
     "metadata": {},
     "output_type": "execute_result"
    }
   ],
   "source": [
    "A = matrix(QQ,\n",
    "[[1, -2, 3, 2, -1, -4, -3, 4],\n",
    "[3, -2, 2, 5, 0, 6, -5, -5],\n",
    "[0, -1, 2, 1, -2, -4, -1, 4],\n",
    "[-3, 2, -1, -1, -6, -3, 5, 3],\n",
    "[3, -4, 4, 0, 7, -7, -7, 6]])\n",
    "A"
   ]
  },
  {
   "cell_type": "code",
   "execution_count": 59,
   "metadata": {},
   "outputs": [
    {
     "data": {
      "text/plain": []
     },
     "execution_count": 59,
     "metadata": {},
     "output_type": "execute_result"
    }
   ],
   "source": [
    "A.rref()"
   ]
  },
  {
   "cell_type": "code",
   "execution_count": 60,
   "metadata": {},
   "outputs": [
    {
     "data": {
      "text/plain": []
     },
     "execution_count": 60,
     "metadata": {},
     "output_type": "execute_result"
    }
   ],
   "source": [
    "b = vector(QQ, [2, -1, 3, 4, -3])\n",
    "A.solve_right(b)"
   ]
  },
  {
   "cell_type": "markdown",
   "metadata": {},
   "source": [
    "<p>And it is fast.</p>"
   ]
  },
  {
   "cell_type": "code",
   "execution_count": 62,
   "metadata": {},
   "outputs": [
    {
     "data": {
      "text/plain": []
     },
     "execution_count": 62,
     "metadata": {},
     "output_type": "execute_result"
    }
   ],
   "source": [
    "A = random_matrix(ZZ, 1000, 1000)\n",
    "time A.determinant()"
   ]
  },
  {
   "cell_type": "markdown",
   "metadata": {},
   "source": [
    "<p>We can combine linear algebra with graph theory (aka “algebraic graph theory”).</p>"
   ]
  },
  {
   "cell_type": "code",
   "execution_count": 64,
   "metadata": {},
   "outputs": [
    {
     "data": {
      "text/plain": []
     },
     "execution_count": 64,
     "metadata": {},
     "output_type": "execute_result"
    }
   ],
   "source": [
    "K = graphs.KneserGraph(8,3)\n",
    "K.plot()"
   ]
  },
  {
   "cell_type": "code",
   "execution_count": 65,
   "metadata": {},
   "outputs": [
    {
     "data": {
      "text/plain": []
     },
     "execution_count": 65,
     "metadata": {},
     "output_type": "execute_result"
    }
   ],
   "source": [
    "adj = K.adjacency_matrix()\n",
    "adj"
   ]
  },
  {
   "cell_type": "code",
   "execution_count": 66,
   "metadata": {},
   "outputs": [
    {
     "data": {
      "text/plain": []
     },
     "execution_count": 66,
     "metadata": {},
     "output_type": "execute_result"
    }
   ],
   "source": [
    "K.spectrum()"
   ]
  },
  {
   "cell_type": "markdown",
   "metadata": {},
   "source": [
    "<p>A small “singular graph.”  (I. Sciriha, 2007)</p>"
   ]
  },
  {
   "cell_type": "code",
   "execution_count": 68,
   "metadata": {},
   "outputs": [
    {
     "data": {
      "text/plain": []
     },
     "execution_count": 68,
     "metadata": {},
     "output_type": "execute_result"
    }
   ],
   "source": [
    "S = graphs.CycleGraph(4)\n",
    "S.add_vertices([4, 5, 6])\n",
    "S.add_edges([(2,4), (2,5), (2,6)])\n",
    "S.add_edges([(3,4), (3,5), (3,6)])\n",
    "S.plot()"
   ]
  },
  {
   "cell_type": "code",
   "execution_count": 69,
   "metadata": {},
   "outputs": [
    {
     "data": {
      "text/plain": []
     },
     "execution_count": 69,
     "metadata": {},
     "output_type": "execute_result"
    }
   ],
   "source": [
    "adj = S.adjacency_matrix()\n",
    "ker = adj.kernel()\n",
    "ker"
   ]
  },
  {
   "cell_type": "markdown",
   "metadata": {},
   "source": [
    "<p>Notice this is the kernel over the integers, and is computed as a module.  It is easy to upgrade to the rationals.</p>"
   ]
  },
  {
   "cell_type": "code",
   "execution_count": 71,
   "metadata": {},
   "outputs": [
    {
     "data": {
      "text/plain": []
     },
     "execution_count": 71,
     "metadata": {},
     "output_type": "execute_result"
    }
   ],
   "source": [
    "adjQ = adj.change_ring(QQ)\n",
    "kerQ = adjQ.kernel()\n",
    "kerQ"
   ]
  },
  {
   "cell_type": "markdown",
   "metadata": {},
   "source": [
    "<p>A matrix kernel (null space) is a vector space, and has all the attendant properties.</p>"
   ]
  },
  {
   "cell_type": "code",
   "execution_count": 73,
   "metadata": {},
   "outputs": [
    {
     "data": {
      "text/plain": []
     },
     "execution_count": 73,
     "metadata": {},
     "output_type": "execute_result"
    }
   ],
   "source": [
    "kerQ.dimension()"
   ]
  },
  {
   "cell_type": "code",
   "execution_count": 74,
   "metadata": {},
   "outputs": [
    {
     "data": {
      "text/plain": []
     },
     "execution_count": 74,
     "metadata": {},
     "output_type": "execute_result"
    }
   ],
   "source": [
    "kerQ.basis()"
   ]
  },
  {
   "cell_type": "markdown",
   "metadata": {},
   "source": [
    "<h5>Numerical linear algebra</h5><p>Numerical linear algebra is supplied by SciPy, through to LAPACK, ATLAS, BLAS.</p><p>A matrix of double-floating point real numbers (RDF).</p>"
   ]
  },
  {
   "cell_type": "code",
   "execution_count": 76,
   "metadata": {},
   "outputs": [
    {
     "data": {
      "text/plain": []
     },
     "execution_count": 76,
     "metadata": {},
     "output_type": "execute_result"
    }
   ],
   "source": [
    "B = matrix(RDF,\n",
    "[[0.4706, 0.3436, 0.7156, 0.1706, 0.3863, 0.222, -0.9673],\n",
    "[0.9433, -0.7333, -0.2906, -0.5203, 0.3548, 0.7577, 0.3936],\n",
    "[-0.8998, 0.9269, -0.9646, -0.2294, -0.8171, 0.4568, 0.5949],\n",
    "[0.8814, 0.89, -0.2059, 0.7434, -0.1642, 0.6918, 0.7113],\n",
    "[-0.0034, -0.9842, 0.7213, -0.7196, -0.7422, 0.3335, 0.5829],\n",
    "[-0.5676, 0.6433, -0.2296, 0.2681, 0.2992, 0.6988, 0.3332],\n",
    "[0.0366, -0.5788, 0.5882, 0.1559, -0.6434, 0.871, -0.6518]])\n",
    "B"
   ]
  },
  {
   "cell_type": "markdown",
   "metadata": {},
   "source": [
    "<p>And the QR decomposition of <span style=\"font-family: monospace\">B</span>.</p>"
   ]
  },
  {
   "cell_type": "code",
   "execution_count": 78,
   "metadata": {},
   "outputs": [
    {
     "data": {
      "text/plain": []
     },
     "execution_count": 78,
     "metadata": {},
     "output_type": "execute_result"
    }
   ],
   "source": [
    "Q, R = B.QR()"
   ]
  },
  {
   "cell_type": "code",
   "execution_count": 79,
   "metadata": {},
   "outputs": [
    {
     "data": {
      "text/plain": []
     },
     "execution_count": 79,
     "metadata": {},
     "output_type": "execute_result"
    }
   ],
   "source": [
    "Q"
   ]
  },
  {
   "cell_type": "code",
   "execution_count": 80,
   "metadata": {},
   "outputs": [
    {
     "data": {
      "text/plain": []
     },
     "execution_count": 80,
     "metadata": {},
     "output_type": "execute_result"
    }
   ],
   "source": [
    "(Q.conjugate_transpose()*Q).round(4)"
   ]
  },
  {
   "cell_type": "code",
   "execution_count": 81,
   "metadata": {},
   "outputs": [
    {
     "data": {
      "text/plain": []
     },
     "execution_count": 81,
     "metadata": {},
     "output_type": "execute_result"
    }
   ],
   "source": [
    "R.round(4)"
   ]
  },
  {
   "cell_type": "code",
   "execution_count": 82,
   "metadata": {},
   "outputs": [
    {
     "data": {
      "text/plain": []
     },
     "execution_count": 82,
     "metadata": {},
     "output_type": "execute_result"
    }
   ],
   "source": [
    "(Q*R-B).round(4)"
   ]
  },
  {
   "cell_type": "markdown",
   "metadata": {},
   "source": [
    "<h5>Digital compression with the singular value decomposition</h5>"
   ]
  },
  {
   "cell_type": "code",
   "execution_count": 84,
   "metadata": {},
   "outputs": [
    {
     "data": {
      "text/plain": []
     },
     "execution_count": 84,
     "metadata": {},
     "output_type": "execute_result"
    }
   ],
   "source": [
    "import pylab\n",
    "A_image = pylab.mean(pylab.imread(DATA + 'mystery.png'), 2)\n",
    "@interact\n",
    "def svd_image(i=(1,(1..50)), display_axes=True):\n",
    "    u,s,v = pylab.linalg.svd(A_image)\n",
    "    A     = sum(s[j]*pylab.outer(u[0:,j], v[j,0:]) for j in range(i))\n",
    "    # g = graphics_array([matrix_plot(A),matrix_plot(A_image)])\n",
    "    show(matrix_plot(A), axes=display_axes, figsize=(6,8))\n",
    "    html('Compressed using %s singular values'%i)"
   ]
  },
  {
   "cell_type": "markdown",
   "metadata": {},
   "source": [
    "<h3>4 Goodies</h3><h4>4.1 LaTeX Integration</h4><p>$\\dots$is superb.</p>"
   ]
  },
  {
   "cell_type": "code",
   "execution_count": 86,
   "metadata": {},
   "outputs": [
    {
     "data": {
      "text/plain": []
     },
     "execution_count": 86,
     "metadata": {},
     "output_type": "execute_result"
    }
   ],
   "source": [
    "latex(integrate(sec(x), x))"
   ]
  },
  {
   "cell_type": "code",
   "execution_count": 87,
   "metadata": {},
   "outputs": [
    {
     "data": {
      "text/plain": []
     },
     "execution_count": 87,
     "metadata": {},
     "output_type": "execute_result"
    }
   ],
   "source": [
    "A = random_matrix(QQ, 6, num_bound=9, den_bound=9)\n",
    "latex(A)"
   ]
  },
  {
   "cell_type": "markdown",
   "metadata": {},
   "source": [
    "<p>With \"typeset\" button checked.</p>"
   ]
  },
  {
   "cell_type": "code",
   "execution_count": 89,
   "metadata": {},
   "outputs": [
    {
     "data": {
      "text/plain": []
     },
     "execution_count": 89,
     "metadata": {},
     "output_type": "execute_result"
    }
   ],
   "source": [
    "A = random_matrix(QQ, 6, num_bound=9, den_bound=9)\n",
    "A"
   ]
  },
  {
   "cell_type": "markdown",
   "metadata": {},
   "source": [
    "<p>Note to self: un-check \"typeset\" button.</p><h5>LaTeX versions of graphs</h5>"
   ]
  },
  {
   "cell_type": "code",
   "execution_count": 91,
   "metadata": {},
   "outputs": [
    {
     "data": {
      "text/plain": []
     },
     "execution_count": 91,
     "metadata": {},
     "output_type": "execute_result"
    }
   ],
   "source": [
    "P = graphs.PetersenGraph()\n",
    "P.set_latex_options(vertex_shape='diamond', vertex_color='red', vertex_label_color='gold', edge_color='blue')"
   ]
  },
  {
   "cell_type": "code",
   "execution_count": 92,
   "metadata": {},
   "outputs": [
    {
     "data": {
      "text/plain": []
     },
     "execution_count": 92,
     "metadata": {},
     "output_type": "execute_result"
    }
   ],
   "source": [
    "latex(P)"
   ]
  },
  {
   "cell_type": "markdown",
   "metadata": {},
   "source": [
    "<h5>Embedded word processor</h5><p>“Shift-Click” on blue bar to activate.  TeX-aware.</p><p>We can add text to our notebooks using TeX syntax and dollar signs.  Previous multivariate integral:<br><br>\n",
    "<span style=\"font-family: monospace\">\\int_0^4\\int_0^{x^2} y^2-10x^2\\,dy\\,dx</span></p>"
   ]
  },
  {
   "cell_type": "code",
   "execution_count": 94,
   "metadata": {},
   "outputs": [
    {
     "data": {
      "text/plain": []
     },
     "execution_count": 94,
     "metadata": {},
     "output_type": "execute_result"
    }
   ],
   "source": []
  },
  {
   "cell_type": "markdown",
   "metadata": {},
   "source": [
    "<p>Can embed images this way also.</p><h5>SageTeX</h5><p>SageTeX allows you to call Sage to compute values, expressions or plots for automatic inclusion in your LaTeX document. (And will write your papers for you!)</p><p>LaTeX source:  <span style=\"font-family: monospace\">Today's date, 2012-05-22 = 20120522, factors as \\sage{factor(20110212)}.</span></p><p>Final Document: Today's date, 2012-05-22 = 20120522, factors as $2 \\cdot 338 \\cdot 26267$.</p><h5>Authoring worksheets</h5><p>Can author in the worksheet or in LaTeX, ReStructured Text, XML to produce worksheets (this is an example).</p><h4>4.2 Help, Doctests, Source Code</h4><p>A huge number of examples are provided for (a) learning to use Sage commands, and (b) to test Sage commands.  We call these ``doctests.''</p>"
   ]
  },
  {
   "cell_type": "code",
   "execution_count": 96,
   "metadata": {},
   "outputs": [
    {
     "data": {
      "text/plain": []
     },
     "execution_count": 96,
     "metadata": {},
     "output_type": "execute_result"
    }
   ],
   "source": [
    "M = matrix(QQ, [[1, -2, 2], [-4, 5, 6], [1, 2, 4]])\n",
    "M"
   ]
  },
  {
   "cell_type": "markdown",
   "metadata": {},
   "source": [
    "<p>Illustrate tab-completion (rational form), help (doctests, <span style=\"font-family: monospace\">zig-zag form</span>), source code.</p>"
   ]
  },
  {
   "cell_type": "code",
   "execution_count": 98,
   "metadata": {},
   "outputs": [
    {
     "data": {
      "text/plain": []
     },
     "execution_count": 98,
     "metadata": {},
     "output_type": "execute_result"
    }
   ],
   "source": [
    "M."
   ]
  },
  {
   "cell_type": "markdown",
   "metadata": {},
   "source": [
    "<h4>4.3 Cython</h4><p>A Sage-inspired project to convert Python to C, then compile.</p><p>Factorial, Python-style.</p>"
   ]
  },
  {
   "cell_type": "code",
   "execution_count": 100,
   "metadata": {},
   "outputs": [
    {
     "data": {
      "text/plain": []
     },
     "execution_count": 100,
     "metadata": {},
     "output_type": "execute_result"
    }
   ],
   "source": [
    "def py_fact(n):\n",
    "    fact = 1\n",
    "    for i in range(n):\n",
    "        fact = fact*(i+1)\n",
    "    return fact"
   ]
  },
  {
   "cell_type": "code",
   "execution_count": 101,
   "metadata": {},
   "outputs": [
    {
     "data": {
      "text/plain": []
     },
     "execution_count": 101,
     "metadata": {},
     "output_type": "execute_result"
    }
   ],
   "source": [
    "py_fact(12)"
   ]
  },
  {
   "cell_type": "code",
   "execution_count": 102,
   "metadata": {},
   "outputs": [
    {
     "data": {
      "text/plain": []
     },
     "execution_count": 102,
     "metadata": {},
     "output_type": "execute_result"
    }
   ],
   "source": [
    "timeit('py_fact(12)')"
   ]
  },
  {
   "cell_type": "markdown",
   "metadata": {},
   "source": [
    "<p>Cython-style. (cdef, long in header)</p>"
   ]
  },
  {
   "cell_type": "code",
   "execution_count": 104,
   "metadata": {},
   "outputs": [
    {
     "data": {
      "text/plain": []
     },
     "execution_count": 104,
     "metadata": {},
     "output_type": "execute_result"
    }
   ],
   "source": [
    "%%cython\n",
    "def cy_fact(n):\n",
    "    cdef:\n",
    "        long fact, i\n",
    "    fact = 1\n",
    "    for i in range(n):\n",
    "        fact = fact*(i+1)\n",
    "    return fact"
   ]
  },
  {
   "cell_type": "code",
   "execution_count": 105,
   "metadata": {},
   "outputs": [
    {
     "data": {
      "text/plain": []
     },
     "execution_count": 105,
     "metadata": {},
     "output_type": "execute_result"
    }
   ],
   "source": [
    "cy_fact(12)"
   ]
  },
  {
   "cell_type": "code",
   "execution_count": 106,
   "metadata": {},
   "outputs": [
    {
     "data": {
      "text/plain": []
     },
     "execution_count": 106,
     "metadata": {},
     "output_type": "execute_result"
    }
   ],
   "source": [
    "timeit('cy_fact(12)')"
   ]
  },
  {
   "cell_type": "markdown",
   "metadata": {},
   "source": [
    "<h4>4.4 Sage Single Cell Server</h4><p>See <a href=\"http://buzzard.ups.edu\">Beezer's Home Page</a>.</p><p>This worksheet available at: <a href=\"http://buzzard.ups.edu/talks.html\">http://buzzard.ups.edu/talks.html</a></p>"
   ]
  },
  {
   "cell_type": "code",
   "execution_count": 108,
   "metadata": {},
   "outputs": [
    {
     "data": {
      "text/plain": [
       "z"
      ]
     },
     "execution_count": 108,
     "metadata": {},
     "output_type": "execute_result"
    }
   ],
   "source": [
    "var('z')"
   ]
  },
  {
   "cell_type": "code",
   "execution_count": 109,
   "metadata": {},
   "outputs": [
    {
     "data": {
      "text/plain": [
       "z^{12}"
      ]
     },
     "execution_count": 109,
     "metadata": {},
     "output_type": "execute_result"
    }
   ],
   "source": [
    "latex(z^12)"
   ]
  },
  {
   "cell_type": "code",
   "execution_count": 110,
   "metadata": {},
   "outputs": [
    {
     "data": {
      "text/plain": []
     },
     "execution_count": 110,
     "metadata": {},
     "output_type": "execute_result"
    }
   ],
   "source": []
  }
 ],
 "metadata": {
  "kernelspec": {
   "display_name": "SageMath 8.8",
   "language": "sage",
   "name": "sagemath"
  },
  "language": "python"
 },
 "nbformat": 4,
 "nbformat_minor": 2
}
