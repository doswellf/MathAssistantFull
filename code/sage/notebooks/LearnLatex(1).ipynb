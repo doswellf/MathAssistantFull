{
 "cells": [
  {
   "cell_type": "code",
   "execution_count": 1,
   "metadata": {},
   "outputs": [
    {
     "data": {
      "text/plain": [
       "z"
      ]
     },
     "execution_count": 1,
     "metadata": {},
     "output_type": "execute_result"
    }
   ],
   "source": [
    "var('z')"
   ]
  },
  {
   "cell_type": "code",
   "execution_count": 2,
   "metadata": {},
   "outputs": [
    {
     "data": {
      "text/plain": [
       "z^{12}"
      ]
     },
     "execution_count": 2,
     "metadata": {},
     "output_type": "execute_result"
    }
   ],
   "source": [
    "latex(z^12)"
   ]
  },
  {
   "cell_type": "code",
   "execution_count": 3,
   "metadata": {},
   "outputs": [
    {
     "data": {
      "text/plain": [
       "\"/home/fraser/projects/Math/maxima/cmt_struct_sage_test_102.mac\""
      ]
     },
     "execution_count": 3,
     "metadata": {},
     "output_type": "execute_result"
    }
   ],
   "source": [
    "maxima('load(\"/home/fraser/projects/Math/maxima/cmt_struct_sage_test_102.mac\")')"
   ]
  },
  {
   "cell_type": "code",
   "execution_count": 4,
   "metadata": {},
   "outputs": [],
   "source": [
    "fpv=maxima(\"finfo_Pv_z@latex\")\n",
    "fps=maxima.eval(\"finfo_Pv_z@latex\")"
   ]
  },
  {
   "cell_type": "markdown",
   "metadata": {},
   "source": [
    "##### Getting Latex In Maxima Object Vs Latex In String \n",
    "\n",
    "Extra Step For Maxima Objects Required\n",
    "\n",
    "Have To Convert Maxima Object To String For Consistent Results"
   ]
  },
  {
   "cell_type": "code",
   "execution_count": 5,
   "metadata": {},
   "outputs": [
    {
     "data": {
      "text/plain": [
       "\"P_\\\\nu(z)~=~\\\\left|\\\\omega_\\\\nu\\\\right|~\\\\sum_{-\\\\infty}^{\\\\infty}~p_{m}~\\\\left|~a_{-\\\\nu}~(z)\\\\right|^2\""
      ]
     },
     "execution_count": 5,
     "metadata": {},
     "output_type": "execute_result"
    }
   ],
   "source": [
    "fpv"
   ]
  },
  {
   "cell_type": "code",
   "execution_count": 6,
   "metadata": {},
   "outputs": [
    {
     "data": {
      "text/plain": [
       "<class 'sage.interfaces.maxima.MaximaElement'>"
      ]
     },
     "execution_count": 6,
     "metadata": {},
     "output_type": "execute_result"
    }
   ],
   "source": [
    "type(fpv)"
   ]
  },
  {
   "cell_type": "code",
   "execution_count": 7,
   "metadata": {},
   "outputs": [
    {
     "data": {
      "text/plain": [
       "'\"P_\\\\\\\\nu(z)~=~\\\\\\\\left|\\\\\\\\omega_\\\\\\\\nu\\\\\\\\right|~\\\\\\\\sum_{-\\\\\\\\infty}^{\\\\\\\\infty}~p_{m}~\\\\\\\\left|~a_{-\\\\\\\\nu}~(z)\\\\\\\\right|^2\"'"
      ]
     },
     "execution_count": 7,
     "metadata": {},
     "output_type": "execute_result"
    }
   ],
   "source": [
    "fpv_str = fpv.str()\n",
    "fpv_str"
   ]
  },
  {
   "cell_type": "code",
   "execution_count": 8,
   "metadata": {},
   "outputs": [
    {
     "data": {
      "text/plain": [
       "'P_\\\\nu(z)~=~\\\\left|\\\\omega_\\\\nu\\\\right|~\\\\sum_{-\\\\infty}^{\\\\infty}~p_{m}~\\\\left|~a_{-\\\\nu}~(z)\\\\right|^2'"
      ]
     },
     "execution_count": 8,
     "metadata": {},
     "output_type": "execute_result"
    }
   ],
   "source": [
    "fpv_str_rep = fpv_str.replace(\"\\\\\\\\\",\"\\\\\").replace('\\\"','')\n",
    "fpv_str_rep"
   ]
  },
  {
   "cell_type": "code",
   "execution_count": 9,
   "metadata": {},
   "outputs": [
    {
     "data": {
      "text/plain": [
       "P_\\nu(z)~=~\\left|\\omega_\\nu\\right|~\\sum_{-\\infty}^{\\infty}~p_{m}~\\left|~a_{-\\nu}~(z)\\right|^2"
      ]
     },
     "execution_count": 9,
     "metadata": {},
     "output_type": "execute_result"
    }
   ],
   "source": [
    "LatexExpr(fpv_str_rep)"
   ]
  },
  {
   "cell_type": "code",
   "execution_count": 10,
   "metadata": {},
   "outputs": [
    {
     "data": {
      "text/html": [
       "<html><script type=\"math/tex; mode=display\">\\newcommand{\\Bold}[1]{\\mathbf{#1}}P_\\nu(z)~=~\\left|\\omega_\\nu\\right|~\\sum_{-\\infty}^{\\infty}~p_{m}~\\left|~a_{-\\nu}~(z)\\right|^2</script></html>"
      ],
      "text/plain": [
       "P_\\nu(z)~=~\\left|\\omega_\\nu\\right|~\\sum_{-\\infty}^{\\infty}~p_{m}~\\left|~a_{-\\nu}~(z)\\right|^2"
      ]
     },
     "metadata": {},
     "output_type": "display_data"
    }
   ],
   "source": [
    "show(LatexExpr(fpv_str_rep))"
   ]
  },
  {
   "cell_type": "markdown",
   "metadata": {},
   "source": [
    "##### What Can Happen When Using Maxima Object Directly"
   ]
  },
  {
   "cell_type": "code",
   "execution_count": 11,
   "metadata": {},
   "outputs": [
    {
     "data": {
      "text/html": [
       "<html><script type=\"math/tex; mode=display\">\\newcommand{\\Bold}[1]{\\mathbf{#1}}P_\\nu(z)~=~\\left| \\omega_\\nu \\right|~\\sum_{-\\infty}^{\\infty}~p_{m}~\\left|~a_{-\\\r\n",
       "\\nu}~(z)\\right|^2</script></html>"
      ],
      "text/plain": [
       "P_\\nu(z)~=~\\left| \\omega_\\nu \\right|~\\sum_{-\\infty}^{\\infty}~p_{m}~\\left|~a_{-\\\r\n",
       "\\nu}~(z)\\right|^2"
      ]
     },
     "metadata": {},
     "output_type": "display_data"
    }
   ],
   "source": [
    "show(LatexExpr(fpv))"
   ]
  },
  {
   "cell_type": "markdown",
   "metadata": {},
   "source": [
    "##### Using String From maxima.eval()"
   ]
  },
  {
   "cell_type": "code",
   "execution_count": 12,
   "metadata": {},
   "outputs": [
    {
     "data": {
      "text/plain": [
       "'\"P_\\\\\\\\nu(z)~=~\\\\\\\\left|\\\\\\\\omega_\\\\\\\\nu\\\\\\\\right|~\\\\\\\\sum_{-\\\\\\\\infty}^{\\\\\\\\infty}~p_{m}~\\\\\\\\left|~a_{-\\\\\\\\nu}~(z)\\\\\\\\right|^2\"'"
      ]
     },
     "execution_count": 12,
     "metadata": {},
     "output_type": "execute_result"
    }
   ],
   "source": [
    "fps"
   ]
  },
  {
   "cell_type": "code",
   "execution_count": 13,
   "metadata": {},
   "outputs": [
    {
     "data": {
      "text/plain": [
       "<class 'str'>"
      ]
     },
     "execution_count": 13,
     "metadata": {},
     "output_type": "execute_result"
    }
   ],
   "source": [
    "type(fps)"
   ]
  },
  {
   "cell_type": "code",
   "execution_count": 14,
   "metadata": {},
   "outputs": [
    {
     "data": {
      "text/plain": [
       "'P_\\\\nu(z)~=~\\\\left|\\\\omega_\\\\nu\\\\right|~\\\\sum_{-\\\\infty}^{\\\\infty}~p_{m}~\\\\left|~a_{-\\\\nu}~(z)\\\\right|^2'"
      ]
     },
     "execution_count": 14,
     "metadata": {},
     "output_type": "execute_result"
    }
   ],
   "source": [
    "fps_rep=fps.replace(\"\\\\\\\\\",\"\\\\\").replace('\\\"','')\n",
    "fps_rep"
   ]
  },
  {
   "cell_type": "code",
   "execution_count": 15,
   "metadata": {},
   "outputs": [
    {
     "data": {
      "text/plain": [
       "P_\\nu(z)~=~\\left|\\omega_\\nu\\right|~\\sum_{-\\infty}^{\\infty}~p_{m}~\\left|~a_{-\\nu}~(z)\\right|^2"
      ]
     },
     "execution_count": 15,
     "metadata": {},
     "output_type": "execute_result"
    }
   ],
   "source": [
    "LatexExpr(fps_rep)"
   ]
  },
  {
   "cell_type": "code",
   "execution_count": 16,
   "metadata": {},
   "outputs": [
    {
     "data": {
      "text/html": [
       "<html><script type=\"math/tex; mode=display\">\\newcommand{\\Bold}[1]{\\mathbf{#1}}P_\\nu(z)~=~\\left|\\omega_\\nu\\right|~\\sum_{-\\infty}^{\\infty}~p_{m}~\\left|~a_{-\\nu}~(z)\\right|^2</script></html>"
      ],
      "text/plain": [
       "P_\\nu(z)~=~\\left|\\omega_\\nu\\right|~\\sum_{-\\infty}^{\\infty}~p_{m}~\\left|~a_{-\\nu}~(z)\\right|^2"
      ]
     },
     "metadata": {},
     "output_type": "display_data"
    }
   ],
   "source": [
    "show(LatexExpr(fps_rep))"
   ]
  },
  {
   "cell_type": "markdown",
   "metadata": {},
   "source": [
    "##### Getting Latex Display For Maxima Functions"
   ]
  },
  {
   "cell_type": "code",
   "execution_count": 17,
   "metadata": {},
   "outputs": [],
   "source": [
    "fdv=maxima(\"finfo_Pdz_z@latex\")\n",
    "fds=maxima.eval(\"finfo_Pdz_z@latex\")"
   ]
  },
  {
   "cell_type": "code",
   "execution_count": 18,
   "metadata": {},
   "outputs": [
    {
     "data": {
      "text/plain": [
       "\"P_{dz}(z)~=~\\\\left|~\\\\omega_\\\\nu~\\\\right|~\\\\sum_{-\\\\infty}^{\\\\infty}~p_{m}~\\\\left|~a_{-\\\\nu}~(z)\\\\right|^2\""
      ]
     },
     "execution_count": 18,
     "metadata": {},
     "output_type": "execute_result"
    }
   ],
   "source": [
    "fdv"
   ]
  },
  {
   "cell_type": "code",
   "execution_count": 19,
   "metadata": {},
   "outputs": [
    {
     "data": {
      "text/plain": [
       "'\"P_{dz}(z)~=~\\\\\\\\left|~\\\\\\\\omega_\\\\\\\\nu~\\\\\\\\right|~\\\\\\\\sum_{-\\\\\\\\infty}^{\\\\\\\\infty}~p_{m}~\\\\\\\\left|~a_{-\\\\\\\\nu}~(z)\\\\\\\\right|^2\"'"
      ]
     },
     "execution_count": 19,
     "metadata": {},
     "output_type": "execute_result"
    }
   ],
   "source": [
    "fds"
   ]
  },
  {
   "cell_type": "code",
   "execution_count": 20,
   "metadata": {},
   "outputs": [
    {
     "data": {
      "text/plain": [
       "P_{dz}(z)~= ~\\left|~\\omega_\\nu~\\right|~\\sum_{-\\infty}^{\\infty}~p_{m}~\\left|~a_\\\r\n",
       "{-\\nu}~(z)\\right|^2"
      ]
     },
     "execution_count": 20,
     "metadata": {},
     "output_type": "execute_result"
    }
   ],
   "source": [
    "LatexExpr(fdv)"
   ]
  },
  {
   "cell_type": "code",
   "execution_count": 21,
   "metadata": {},
   "outputs": [
    {
     "data": {
      "text/plain": [
       "'\"P_{dz}(z)~=~\\\\\\\\left|~\\\\\\\\omega_\\\\\\\\nu~\\\\\\\\right|~\\\\\\\\sum_{-\\\\\\\\infty}^{\\\\\\\\infty}~p_{m}~\\\\\\\\left|~a_{-\\\\\\\\nu}~(z)\\\\\\\\right|^2\"'"
      ]
     },
     "execution_count": 21,
     "metadata": {},
     "output_type": "execute_result"
    }
   ],
   "source": [
    "fdv_str=fdv.str()\n",
    "fdv_str"
   ]
  },
  {
   "cell_type": "code",
   "execution_count": 22,
   "metadata": {},
   "outputs": [
    {
     "data": {
      "text/plain": [
       "'P_{dz}(z)~=~\\\\left|~\\\\omega_\\\\nu~\\\\right|~\\\\sum_{-\\\\infty}^{\\\\infty}~p_{m}~\\\\left|~a_{-\\\\nu}~(z)\\\\right|^2'"
      ]
     },
     "execution_count": 22,
     "metadata": {},
     "output_type": "execute_result"
    }
   ],
   "source": [
    "fdv_str_rep =fdv_str.replace(\"\\\\\\\\\",\"\\\\\").replace('\\\"','')\n",
    "fdv_str_rep"
   ]
  },
  {
   "cell_type": "code",
   "execution_count": 23,
   "metadata": {},
   "outputs": [
    {
     "data": {
      "text/plain": [
       "P_{dz}(z)~=~\\left|~\\omega_\\nu~\\right|~\\sum_{-\\infty}^{\\infty}~p_{m}~\\left|~a_{-\\nu}~(z)\\right|^2"
      ]
     },
     "execution_count": 23,
     "metadata": {},
     "output_type": "execute_result"
    }
   ],
   "source": [
    "LatexExpr(fdv_str_rep)"
   ]
  },
  {
   "cell_type": "code",
   "execution_count": 24,
   "metadata": {},
   "outputs": [
    {
     "data": {
      "text/html": [
       "<html><script type=\"math/tex; mode=display\">\\newcommand{\\Bold}[1]{\\mathbf{#1}}P_{dz}(z)~=~\\left|~\\omega_\\nu~\\right|~\\sum_{-\\infty}^{\\infty}~p_{m}~\\left|~a_{-\\nu}~(z)\\right|^2</script></html>"
      ],
      "text/plain": [
       "P_{dz}(z)~=~\\left|~\\omega_\\nu~\\right|~\\sum_{-\\infty}^{\\infty}~p_{m}~\\left|~a_{-\\nu}~(z)\\right|^2"
      ]
     },
     "metadata": {},
     "output_type": "display_data"
    }
   ],
   "source": [
    "show(LatexExpr(fdv_str_rep))"
   ]
  },
  {
   "cell_type": "markdown",
   "metadata": {},
   "source": [
    "##### Using String From maxima.eval()"
   ]
  },
  {
   "cell_type": "code",
   "execution_count": 25,
   "metadata": {},
   "outputs": [
    {
     "data": {
      "text/plain": [
       "'\"P_{dz}(z)~=~\\\\\\\\left|~\\\\\\\\omega_\\\\\\\\nu~\\\\\\\\right|~\\\\\\\\sum_{-\\\\\\\\infty}^{\\\\\\\\infty}~p_{m}~\\\\\\\\left|~a_{-\\\\\\\\nu}~(z)\\\\\\\\right|^2\"'"
      ]
     },
     "execution_count": 25,
     "metadata": {},
     "output_type": "execute_result"
    }
   ],
   "source": [
    "fds"
   ]
  },
  {
   "cell_type": "code",
   "execution_count": 26,
   "metadata": {},
   "outputs": [
    {
     "data": {
      "text/plain": [
       "\"P_{dz}(z)~=~\\\\left|~\\\\omega_\\\\nu~\\\\right|~\\\\sum_{-\\\\infty}^{\\\\infty}~p_{m}~\\\\left|~a_{-\\\\nu}~(z)\\\\right|^2\""
      ]
     },
     "execution_count": 26,
     "metadata": {},
     "output_type": "execute_result"
    }
   ],
   "source": [
    "LatexExpr(fds)"
   ]
  },
  {
   "cell_type": "code",
   "execution_count": 27,
   "metadata": {},
   "outputs": [
    {
     "data": {
      "text/html": [
       "<html><script type=\"math/tex; mode=display\">\\newcommand{\\Bold}[1]{\\mathbf{#1}}\"P_{dz}(z)~=~\\\\left|~\\\\omega_\\\\nu~\\\\right|~\\\\sum_{-\\\\infty}^{\\\\infty}~p_{m}~\\\\left|~a_{-\\\\nu}~(z)\\\\right|^2\"</script></html>"
      ],
      "text/plain": [
       "\"P_{dz}(z)~=~\\\\left|~\\\\omega_\\\\nu~\\\\right|~\\\\sum_{-\\\\infty}^{\\\\infty}~p_{m}~\\\\left|~a_{-\\\\nu}~(z)\\\\right|^2\""
      ]
     },
     "metadata": {},
     "output_type": "display_data"
    }
   ],
   "source": [
    "show(LatexExpr(fds))"
   ]
  },
  {
   "cell_type": "code",
   "execution_count": 28,
   "metadata": {},
   "outputs": [
    {
     "data": {
      "text/plain": [
       "'P_{dz}(z)~=~\\\\left|~\\\\omega_\\\\nu~\\\\right|~\\\\sum_{-\\\\infty}^{\\\\infty}~p_{m}~\\\\left|~a_{-\\\\nu}~(z)\\\\right|^2'"
      ]
     },
     "execution_count": 28,
     "metadata": {},
     "output_type": "execute_result"
    }
   ],
   "source": [
    "fds_rep=fds.replace(\"\\\\\\\\\",\"\\\\\").replace('\\\"','')\n",
    "fds_rep"
   ]
  },
  {
   "cell_type": "code",
   "execution_count": 29,
   "metadata": {},
   "outputs": [
    {
     "data": {
      "text/plain": [
       "P_{dz}(z)~=~\\left|~\\omega_\\nu~\\right|~\\sum_{-\\infty}^{\\infty}~p_{m}~\\left|~a_{-\\nu}~(z)\\right|^2"
      ]
     },
     "execution_count": 29,
     "metadata": {},
     "output_type": "execute_result"
    }
   ],
   "source": [
    "LatexExpr(fds_rep)"
   ]
  },
  {
   "cell_type": "code",
   "execution_count": 30,
   "metadata": {},
   "outputs": [
    {
     "data": {
      "text/html": [
       "<html><script type=\"math/tex; mode=display\">\\newcommand{\\Bold}[1]{\\mathbf{#1}}P_{dz}(z)~=~\\left|~\\omega_\\nu~\\right|~\\sum_{-\\infty}^{\\infty}~p_{m}~\\left|~a_{-\\nu}~(z)\\right|^2</script></html>"
      ],
      "text/plain": [
       "P_{dz}(z)~=~\\left|~\\omega_\\nu~\\right|~\\sum_{-\\infty}^{\\infty}~p_{m}~\\left|~a_{-\\nu}~(z)\\right|^2"
      ]
     },
     "metadata": {},
     "output_type": "display_data"
    }
   ],
   "source": [
    "show(LatexExpr(fds_rep))"
   ]
  },
  {
   "cell_type": "code",
   "execution_count": 31,
   "metadata": {},
   "outputs": [
    {
     "data": {
      "text/plain": [
       "\"P_{dz}(z)~=~\\left|~\\omega_\\nu~\\right|~\\sum_{-\\infty}^{\\infty}~p_{m}~\\left|~a_{-\\nu}~(z)\\right|^2\""
      ]
     },
     "execution_count": 31,
     "metadata": {},
     "output_type": "execute_result"
    }
   ],
   "source": [
    "LatexExpr(fds.replace(\"\\\\\\\\\",\"\\\\\"))"
   ]
  },
  {
   "cell_type": "code",
   "execution_count": 32,
   "metadata": {},
   "outputs": [
    {
     "data": {
      "text/html": [
       "<html><script type=\"math/tex; mode=display\">\\newcommand{\\Bold}[1]{\\mathbf{#1}}P_{dz}(z)~=~\\left|~\\omega_\\nu~\\right|~\\sum_{-\\infty}^{\\infty}~p_{m}~\\left|~a_{-\\nu}~(z)\\right|^2</script></html>"
      ],
      "text/plain": [
       "P_{dz}(z)~=~\\left|~\\omega_\\nu~\\right|~\\sum_{-\\infty}^{\\infty}~p_{m}~\\left|~a_{-\\nu}~(z)\\right|^2"
      ]
     },
     "metadata": {},
     "output_type": "display_data"
    }
   ],
   "source": [
    "show(LatexExpr(fds.replace(\"\\\\\\\\\",\"\\\\\").replace('\\\"','')))"
   ]
  },
  {
   "cell_type": "code",
   "execution_count": 33,
   "metadata": {},
   "outputs": [
    {
     "data": {
      "text/plain": [
       "'P_{dz}(z)~=~\\\\left|~\\\\omega_\\\\nu~\\\\right|~\\\\sum_{-\\\\infty}^{\\\\infty}~p_{m}~\\\\left|~a_{-\\\\nu}~(z)\\\\right|^2'"
      ]
     },
     "execution_count": 33,
     "metadata": {},
     "output_type": "execute_result"
    }
   ],
   "source": [
    "fdr=fds.replace(\"\\\\\\\\\",\"\\\\\").replace('\\\"','')\n",
    "fdr"
   ]
  },
  {
   "cell_type": "code",
   "execution_count": 34,
   "metadata": {},
   "outputs": [
    {
     "data": {
      "text/plain": [
       "P_{dz}(z)~=~\\left|~\\omega_\\nu~\\right|~\\sum_{-\\infty}^{\\infty}~p_{m}~\\left|~a_{-\\nu}~(z)\\right|^2"
      ]
     },
     "execution_count": 34,
     "metadata": {},
     "output_type": "execute_result"
    }
   ],
   "source": [
    "LatexExpr(fdr)"
   ]
  },
  {
   "cell_type": "code",
   "execution_count": 35,
   "metadata": {},
   "outputs": [
    {
     "data": {
      "text/html": [
       "<html><script type=\"math/tex; mode=display\">\\newcommand{\\Bold}[1]{\\mathbf{#1}}P_{dz}(z)~=~\\left|~\\omega_\\nu~\\right|~\\sum_{-\\infty}^{\\infty}~p_{m}~\\left|~a_{-\\nu}~(z)\\right|^2</script></html>"
      ],
      "text/plain": [
       "P_{dz}(z)~=~\\left|~\\omega_\\nu~\\right|~\\sum_{-\\infty}^{\\infty}~p_{m}~\\left|~a_{-\\nu}~(z)\\right|^2"
      ]
     },
     "metadata": {},
     "output_type": "display_data"
    }
   ],
   "source": [
    "show(LatexExpr(fdr))"
   ]
  },
  {
   "cell_type": "code",
   "execution_count": 36,
   "metadata": {},
   "outputs": [
    {
     "data": {
      "text/plain": [
       "'\"P_{dz}(z)~=~\\\\\\\\left|~\\\\\\\\omega_\\\\\\\\nu~\\\\\\\\right|~\\\\\\\\sum_{-\\\\\\\\infty}^{\\\\\\\\infty}~p_{m}~\\\\\\\\left|~a_{-\\\\\\\\nu}~(z)\\\\\\\\right|^2\"'"
      ]
     },
     "execution_count": 36,
     "metadata": {},
     "output_type": "execute_result"
    }
   ],
   "source": [
    "fdg = maxima.get(\"finfo_Pdz_z@latex\")\n",
    "fdg"
   ]
  },
  {
   "cell_type": "code",
   "execution_count": 37,
   "metadata": {},
   "outputs": [
    {
     "data": {
      "text/plain": [
       "'P_{dz}(z)~=~\\\\left|~\\\\omega_\\\\nu~\\\\right|~\\\\sum_{-\\\\infty}^{\\\\infty}~p_{m}~\\\\left|~a_{-\\\\nu}~(z)\\\\right|^2'"
      ]
     },
     "execution_count": 37,
     "metadata": {},
     "output_type": "execute_result"
    }
   ],
   "source": [
    "fdg_rep = fdg.replace(\"\\\\\\\\\",\"\\\\\").replace('\\\"','')\n",
    "fdg_rep"
   ]
  },
  {
   "cell_type": "code",
   "execution_count": 38,
   "metadata": {},
   "outputs": [
    {
     "data": {
      "text/plain": [
       "P_{dz}(z)~=~\\left|~\\omega_\\nu~\\right|~\\sum_{-\\infty}^{\\infty}~p_{m}~\\left|~a_{-\\nu}~(z)\\right|^2"
      ]
     },
     "execution_count": 38,
     "metadata": {},
     "output_type": "execute_result"
    }
   ],
   "source": [
    "LatexExpr(fdg_rep)"
   ]
  },
  {
   "cell_type": "code",
   "execution_count": 39,
   "metadata": {},
   "outputs": [
    {
     "data": {
      "text/html": [
       "<html><script type=\"math/tex; mode=display\">\\newcommand{\\Bold}[1]{\\mathbf{#1}}P_{dz}(z)~=~\\left|~\\omega_\\nu~\\right|~\\sum_{-\\infty}^{\\infty}~p_{m}~\\left|~a_{-\\nu}~(z)\\right|^2</script></html>"
      ],
      "text/plain": [
       "P_{dz}(z)~=~\\left|~\\omega_\\nu~\\right|~\\sum_{-\\infty}^{\\infty}~p_{m}~\\left|~a_{-\\nu}~(z)\\right|^2"
      ]
     },
     "metadata": {},
     "output_type": "display_data"
    }
   ],
   "source": [
    "show(LatexExpr(fdg_rep))"
   ]
  },
  {
   "cell_type": "markdown",
   "metadata": {},
   "source": [
    "##### Symbolic Solution From Sage Tutorial"
   ]
  },
  {
   "cell_type": "code",
   "execution_count": 40,
   "metadata": {},
   "outputs": [],
   "source": [
    "var('a,b,c')\n",
    "eqn = [a+b*c==1, b-a*c==0, a+b==5]\n",
    "s = solve(eqn, a,b,c)"
   ]
  },
  {
   "cell_type": "code",
   "execution_count": 41,
   "metadata": {},
   "outputs": [
    {
     "data": {
      "text/plain": [
       "[a == -1/4*I*sqrt(79) + 11/4,\n",
       " b == 1/4*I*sqrt(79) + 9/4,\n",
       " c == 1/10*I*sqrt(79) + 1/10]"
      ]
     },
     "execution_count": 41,
     "metadata": {},
     "output_type": "execute_result"
    }
   ],
   "source": [
    "s[0]"
   ]
  },
  {
   "cell_type": "code",
   "execution_count": 42,
   "metadata": {},
   "outputs": [
    {
     "data": {
      "text/plain": [
       "[a == 1/4*I*sqrt(79) + 11/4,\n",
       " b == -1/4*I*sqrt(79) + 9/4,\n",
       " c == -1/10*I*sqrt(79) + 1/10]"
      ]
     },
     "execution_count": 42,
     "metadata": {},
     "output_type": "execute_result"
    }
   ],
   "source": [
    "s[1]"
   ]
  },
  {
   "cell_type": "markdown",
   "metadata": {},
   "source": [
    "##### Direct Testing Of Latex String In SageMath \n",
    "\n",
    "Used To Debug Latex \n",
    "\n",
    "\\scriptscriptstyle{} does not work as: P_\\scriptscriptstyle{dz}(z) for some reason\n",
    "\n",
    "Just use P_{dz}(z)"
   ]
  },
  {
   "cell_type": "code",
   "execution_count": 43,
   "metadata": {},
   "outputs": [],
   "source": [
    "ts = \"P_\\\\nu(z)~=~\\\\left| \\\\omega_\\\\nu \\\\right|~\\\\sum_{-\\\\infty}^{\\\\infty}~p_{\\\\scriptscriptstyle{-}}~\\\\left|~a_{\\\\scriptscriptstyle{-\\\\nu}}~(z)\\\\right|^2\""
   ]
  },
  {
   "cell_type": "code",
   "execution_count": 44,
   "metadata": {},
   "outputs": [
    {
     "data": {
      "text/plain": [
       "'P_\\\\nu(z)~=~\\\\left| \\\\omega_\\\\nu \\\\right|~\\\\sum_{-\\\\infty}^{\\\\infty}~p_{\\\\scriptscriptstyle{-}}~\\\\left|~a_{\\\\scriptscriptstyle{-\\\\nu}}~(z)\\\\right|^2'"
      ]
     },
     "execution_count": 44,
     "metadata": {},
     "output_type": "execute_result"
    }
   ],
   "source": [
    "ts"
   ]
  },
  {
   "cell_type": "code",
   "execution_count": 45,
   "metadata": {},
   "outputs": [
    {
     "data": {
      "text/plain": [
       "P_\\nu(z)~=~\\left| \\omega_\\nu \\right|~\\sum_{-\\infty}^{\\infty}~p_{\\scriptscriptstyle{-}}~\\left|~a_{\\scriptscriptstyle{-\\nu}}~(z)\\right|^2"
      ]
     },
     "execution_count": 45,
     "metadata": {},
     "output_type": "execute_result"
    }
   ],
   "source": [
    "LatexExpr(ts)"
   ]
  },
  {
   "cell_type": "code",
   "execution_count": 46,
   "metadata": {},
   "outputs": [
    {
     "data": {
      "text/html": [
       "<html><script type=\"math/tex; mode=display\">\\newcommand{\\Bold}[1]{\\mathbf{#1}}P_\\nu(z)~=~\\left| \\omega_\\nu \\right|~\\sum_{-\\infty}^{\\infty}~p_{\\scriptscriptstyle{-}}~\\left|~a_{\\scriptscriptstyle{-\\nu}}~(z)\\right|^2</script></html>"
      ],
      "text/plain": [
       "P_\\nu(z)~=~\\left| \\omega_\\nu \\right|~\\sum_{-\\infty}^{\\infty}~p_{\\scriptscriptstyle{-}}~\\left|~a_{\\scriptscriptstyle{-\\nu}}~(z)\\right|^2"
      ]
     },
     "metadata": {},
     "output_type": "display_data"
    }
   ],
   "source": [
    "show(LatexExpr(ts))"
   ]
  },
  {
   "cell_type": "code",
   "execution_count": 47,
   "metadata": {},
   "outputs": [],
   "source": [
    "fstr=\"P_{dz}(z)~=~\\\\left| \\\\omega_\\\\nu \\\\right|~\\\\sum_{-\\\\infty}^{\\\\infty}~p_{\\\\scriptscriptstyle{-}}~\\\\left|~a_{\\\\scriptscriptstyle{-\\\\nu}}~(z)\\\\right|^2\"\n"
   ]
  },
  {
   "cell_type": "code",
   "execution_count": 48,
   "metadata": {},
   "outputs": [],
   "source": [
    "vb=\"P_{dz}(z)~=~\\\\left| \\\\omega_\\\\nu \\\\right|~\\\\sum_{-\\\\infty}^{\\\\infty}~p_{\\\\scriptscriptstyle{-}}~\\\\left|~a_{\\\\scriptscriptstyle{-\\\\nu}}~(z)\\\\right|^2\""
   ]
  },
  {
   "cell_type": "code",
   "execution_count": 49,
   "metadata": {},
   "outputs": [
    {
     "data": {
      "text/plain": [
       "'P_{dz}(z)~=~\\\\left| \\\\omega_\\\\nu \\\\right|~\\\\sum_{-\\\\infty}^{\\\\infty}~p_{\\\\scriptscriptstyle{-}}~\\\\left|~a_{\\\\scriptscriptstyle{-\\\\nu}}~(z)\\\\right|^2'"
      ]
     },
     "execution_count": 49,
     "metadata": {},
     "output_type": "execute_result"
    }
   ],
   "source": [
    "vb"
   ]
  },
  {
   "cell_type": "code",
   "execution_count": 50,
   "metadata": {},
   "outputs": [
    {
     "data": {
      "text/plain": [
       "P_{dz}(z)~=~\\left| \\omega_\\nu \\right|~\\sum_{-\\infty}^{\\infty}~p_{\\scriptscriptstyle{-}}~\\left|~a_{\\scriptscriptstyle{-\\nu}}~(z)\\right|^2"
      ]
     },
     "execution_count": 50,
     "metadata": {},
     "output_type": "execute_result"
    }
   ],
   "source": [
    "LatexExpr(vb)"
   ]
  },
  {
   "cell_type": "code",
   "execution_count": 51,
   "metadata": {},
   "outputs": [
    {
     "data": {
      "text/html": [
       "<html><script type=\"math/tex; mode=display\">\\newcommand{\\Bold}[1]{\\mathbf{#1}}P_{dz}(z)~=~\\left| \\omega_\\nu \\right|~\\sum_{-\\infty}^{\\infty}~p_{\\scriptscriptstyle{-}}~\\left|~a_{\\scriptscriptstyle{-\\nu}}~(z)\\right|^2</script></html>"
      ],
      "text/plain": [
       "P_{dz}(z)~=~\\left| \\omega_\\nu \\right|~\\sum_{-\\infty}^{\\infty}~p_{\\scriptscriptstyle{-}}~\\left|~a_{\\scriptscriptstyle{-\\nu}}~(z)\\right|^2"
      ]
     },
     "metadata": {},
     "output_type": "display_data"
    }
   ],
   "source": [
    "show(LatexExpr(vb))"
   ]
  },
  {
   "cell_type": "code",
   "execution_count": 52,
   "metadata": {},
   "outputs": [
    {
     "data": {
      "text/html": [
       "<html><script type=\"math/tex; mode=display\">\\newcommand{\\Bold}[1]{\\mathbf{#1}}P_{dz}(z)~=~\\left| \\omega_\\nu \\right|~\\sum_{-\\infty}^{\\infty}~p_{\\scriptscriptstyle{-}}~\\left|~a_{\\scriptscriptstyle{-\\nu}}~(z)\\right|^2</script></html>"
      ],
      "text/plain": [
       "P_{dz}(z)~=~\\left| \\omega_\\nu \\right|~\\sum_{-\\infty}^{\\infty}~p_{\\scriptscriptstyle{-}}~\\left|~a_{\\scriptscriptstyle{-\\nu}}~(z)\\right|^2"
      ]
     },
     "metadata": {},
     "output_type": "display_data"
    }
   ],
   "source": [
    "show(LatexExpr(vb))"
   ]
  },
  {
   "cell_type": "markdown",
   "metadata": {},
   "source": [
    "##### Using maxima's assoc function from sage"
   ]
  },
  {
   "cell_type": "code",
   "execution_count": 53,
   "metadata": {},
   "outputs": [
    {
     "data": {
      "text/plain": [
       "var_info(name,value,latex)"
      ]
     },
     "execution_count": 53,
     "metadata": {},
     "output_type": "execute_result"
    }
   ],
   "source": [
    "struct_vinfo = maxima(\"defstruct(var_info(name,value,latex))\")\n",
    "struct_vinfo[0]"
   ]
  },
  {
   "cell_type": "code",
   "execution_count": 54,
   "metadata": {},
   "outputs": [
    {
     "data": {
      "text/plain": [
       "<class 'sage.interfaces.maxima.MaximaElement'>"
      ]
     },
     "execution_count": 54,
     "metadata": {},
     "output_type": "execute_result"
    }
   ],
   "source": [
    "type(struct_vinfo)"
   ]
  },
  {
   "cell_type": "markdown",
   "metadata": {},
   "source": [
    "struct_vinfo.name\n"
   ]
  },
  {
   "cell_type": "code",
   "execution_count": 55,
   "metadata": {},
   "outputs": [
    {
     "data": {
      "text/plain": [
       "var_info(name,value,latex)"
      ]
     },
     "execution_count": 55,
     "metadata": {},
     "output_type": "execute_result"
    }
   ],
   "source": [
    "inst_vinfo_ch01=maxima(\"vinfo_ch01:new(var_info)\")\n",
    "inst_vinfo_ch01"
   ]
  },
  {
   "cell_type": "code",
   "execution_count": 56,
   "metadata": {},
   "outputs": [
    {
     "data": {
      "text/plain": [
       "P_p1_s"
      ]
     },
     "execution_count": 56,
     "metadata": {},
     "output_type": "execute_result"
    }
   ],
   "source": [
    "maxima(\"vinfo_ch01@name:P_p1_s\")"
   ]
  },
  {
   "cell_type": "code",
   "execution_count": 57,
   "metadata": {},
   "outputs": [
    {
     "data": {
      "text/plain": [
       "P_p1_s"
      ]
     },
     "execution_count": 57,
     "metadata": {},
     "output_type": "execute_result"
    }
   ],
   "source": [
    "maxima(\"vinfo_ch01@name\")"
   ]
  },
  {
   "cell_type": "code",
   "execution_count": 58,
   "metadata": {},
   "outputs": [
    {
     "data": {
      "text/plain": [
       "0.0531"
      ]
     },
     "execution_count": 58,
     "metadata": {},
     "output_type": "execute_result"
    }
   ],
   "source": [
    "maxima(\"vinfo_ch01@value:0.0531\")\n"
   ]
  },
  {
   "cell_type": "code",
   "execution_count": 59,
   "metadata": {},
   "outputs": [
    {
     "data": {
      "text/plain": [
       "0.0531"
      ]
     },
     "execution_count": 59,
     "metadata": {},
     "output_type": "execute_result"
    }
   ],
   "source": [
    "maxima(\"vinfo_ch01@value\")"
   ]
  },
  {
   "cell_type": "code",
   "execution_count": 60,
   "metadata": {},
   "outputs": [
    {
     "data": {
      "text/plain": [
       "[[math,\"P_{scriptscriptstyle{[+1,s]}}\"],[text,\"P_{[+1,s]}\"]]"
      ]
     },
     "execution_count": 60,
     "metadata": {},
     "output_type": "execute_result"
    }
   ],
   "source": [
    "maxima(\"vinfo_ch01@latex:[[\\'math,\\\"P_{\\\\scriptscriptstyle{[+1,s]}}\\\"],[\\'text,\\\"P_{[+1,s]}\\\"]]\")"
   ]
  },
  {
   "cell_type": "code",
   "execution_count": 61,
   "metadata": {},
   "outputs": [
    {
     "data": {
      "text/plain": [
       "[[math,\"P_{\\\\scriptscriptstyle{[+1,s]}}\"],[text,\"P_{[+1,s]}\"]]"
      ]
     },
     "execution_count": 61,
     "metadata": {},
     "output_type": "execute_result"
    }
   ],
   "source": [
    "maxima(\"vinfo_ch01@latex:[ [\\'math,\\\"P_{\\\\\\\\scriptscriptstyle{[+1,s]}}\\\"],[\\'text,\\\"P_{[+1,s]}\\\"]]\")"
   ]
  },
  {
   "cell_type": "code",
   "execution_count": 62,
   "metadata": {},
   "outputs": [
    {
     "data": {
      "text/plain": [
       "\"P_{\\\\scriptscriptstyle{[+1,s]}}\""
      ]
     },
     "execution_count": 62,
     "metadata": {},
     "output_type": "execute_result"
    }
   ],
   "source": [
    "mavc01=maxima(\"assoc(\\'math,vinfo_ch01@latex)\")\n",
    "mavc01"
   ]
  },
  {
   "cell_type": "code",
   "execution_count": 63,
   "metadata": {},
   "outputs": [
    {
     "data": {
      "text/plain": [
       "                        P_{\\scriptscriptstyle{[+1,s]}}"
      ]
     },
     "execution_count": 63,
     "metadata": {},
     "output_type": "execute_result"
    }
   ],
   "source": [
    "LatexExpr(mavc01)"
   ]
  },
  {
   "cell_type": "code",
   "execution_count": 64,
   "metadata": {},
   "outputs": [
    {
     "data": {
      "text/html": [
       "<html><script type=\"math/tex; mode=display\">\\newcommand{\\Bold}[1]{\\mathbf{#1}}                        P_{\\scriptscriptstyle{[+1,s]}}</script></html>"
      ],
      "text/plain": [
       "                        P_{\\scriptscriptstyle{[+1,s]}}"
      ]
     },
     "metadata": {},
     "output_type": "display_data"
    }
   ],
   "source": [
    "show(LatexExpr(mavc01))"
   ]
  },
  {
   "cell_type": "code",
   "execution_count": 65,
   "metadata": {},
   "outputs": [
    {
     "data": {
      "text/plain": [
       "'\"P_{\\\\\\\\scriptscriptstyle{[+1,s]}}\"'"
      ]
     },
     "execution_count": 65,
     "metadata": {},
     "output_type": "execute_result"
    }
   ],
   "source": [
    "str_mavc01=mavc01.str()\n",
    "str_mavc01"
   ]
  },
  {
   "cell_type": "code",
   "execution_count": 66,
   "metadata": {},
   "outputs": [
    {
     "data": {
      "text/html": [
       "<html><script type=\"math/tex; mode=display\">\\newcommand{\\Bold}[1]{\\mathbf{#1}}\"P_{\\\\scriptscriptstyle{[+1,s]}}\"</script></html>"
      ],
      "text/plain": [
       "\"P_{\\\\scriptscriptstyle{[+1,s]}}\""
      ]
     },
     "metadata": {},
     "output_type": "display_data"
    }
   ],
   "source": [
    "show(LatexExpr(str_mavc01))"
   ]
  },
  {
   "cell_type": "code",
   "execution_count": 67,
   "metadata": {},
   "outputs": [
    {
     "data": {
      "text/html": [
       "<html><script type=\"math/tex; mode=display\">\\newcommand{\\Bold}[1]{\\mathbf{#1}}P_{\\scriptscriptstyle{[+1,s]}}</script></html>"
      ],
      "text/plain": [
       "P_{\\scriptscriptstyle{[+1,s]}}"
      ]
     },
     "metadata": {},
     "output_type": "display_data"
    }
   ],
   "source": [
    "show(LatexExpr(str_mavc01.replace(\"\\\\\\\\\",\"\\\\\").replace('\\\"','')))"
   ]
  },
  {
   "cell_type": "code",
   "execution_count": 68,
   "metadata": {},
   "outputs": [
    {
     "data": {
      "text/plain": [
       "\"P_{[+1,s]}\""
      ]
     },
     "execution_count": 68,
     "metadata": {},
     "output_type": "execute_result"
    }
   ],
   "source": [
    "maxima(\"assoc(\\'text,vinfo_ch01@latex)\")"
   ]
  },
  {
   "cell_type": "code",
   "execution_count": 69,
   "metadata": {},
   "outputs": [
    {
     "data": {
      "text/plain": [
       "\"P_{[+1,s]}\""
      ]
     },
     "execution_count": 69,
     "metadata": {},
     "output_type": "execute_result"
    }
   ],
   "source": [
    "tavc01 = maxima(\"assoc('text,vinfo_ch01@latex)\")\n",
    "tavc01\n"
   ]
  },
  {
   "cell_type": "code",
   "execution_count": 70,
   "metadata": {},
   "outputs": [
    {
     "data": {
      "text/plain": [
       "                                  P_{[+1,s]}"
      ]
     },
     "execution_count": 70,
     "metadata": {},
     "output_type": "execute_result"
    }
   ],
   "source": [
    "LatexExpr(tavc01)"
   ]
  },
  {
   "cell_type": "code",
   "execution_count": 71,
   "metadata": {},
   "outputs": [
    {
     "data": {
      "text/html": [
       "<html><script type=\"math/tex; mode=display\">\\newcommand{\\Bold}[1]{\\mathbf{#1}}                                  P_{[+1,s]}</script></html>"
      ],
      "text/plain": [
       "                                  P_{[+1,s]}"
      ]
     },
     "metadata": {},
     "output_type": "display_data"
    }
   ],
   "source": [
    "show(LatexExpr(tavc01))"
   ]
  },
  {
   "cell_type": "code",
   "execution_count": 72,
   "metadata": {},
   "outputs": [
    {
     "data": {
      "text/plain": [
       "'\"P_{[+1,s]}\"'"
      ]
     },
     "execution_count": 72,
     "metadata": {},
     "output_type": "execute_result"
    }
   ],
   "source": [
    "str_tavc01=tavc01.str()\n",
    "str_tavc01"
   ]
  },
  {
   "cell_type": "code",
   "execution_count": 73,
   "metadata": {},
   "outputs": [
    {
     "data": {
      "text/plain": [
       "\"P_{[+1,s]}\""
      ]
     },
     "execution_count": 73,
     "metadata": {},
     "output_type": "execute_result"
    }
   ],
   "source": [
    "LatexExpr(str_tavc01)"
   ]
  },
  {
   "cell_type": "code",
   "execution_count": 74,
   "metadata": {},
   "outputs": [
    {
     "data": {
      "text/html": [
       "<html><script type=\"math/tex; mode=display\">\\newcommand{\\Bold}[1]{\\mathbf{#1}}\"P_{[+1,s]}\"</script></html>"
      ],
      "text/plain": [
       "\"P_{[+1,s]}\""
      ]
     },
     "metadata": {},
     "output_type": "display_data"
    }
   ],
   "source": [
    "show(LatexExpr(str_tavc01))"
   ]
  },
  {
   "cell_type": "code",
   "execution_count": 75,
   "metadata": {},
   "outputs": [
    {
     "data": {
      "text/html": [
       "<html><script type=\"math/tex; mode=display\">\\newcommand{\\Bold}[1]{\\mathbf{#1}}P_{[+1,s]}</script></html>"
      ],
      "text/plain": [
       "P_{[+1,s]}"
      ]
     },
     "metadata": {},
     "output_type": "display_data"
    }
   ],
   "source": [
    "show(LatexExpr(str_tavc01.replace('\\\"','')))"
   ]
  },
  {
   "cell_type": "code",
   "execution_count": 76,
   "metadata": {},
   "outputs": [
    {
     "data": {
      "text/plain": [
       "'false@ftyp'"
      ]
     },
     "execution_count": 76,
     "metadata": {},
     "output_type": "execute_result"
    }
   ],
   "source": [
    "af_01_ftyp =maxima.get(\"arr_funs[H_r_t_z]@ftyp\")\n",
    "af_01_ftyp"
   ]
  },
  {
   "cell_type": "code",
   "execution_count": 77,
   "metadata": {},
   "outputs": [
    {
     "data": {
      "text/plain": [
       "'false@name'"
      ]
     },
     "execution_count": 77,
     "metadata": {},
     "output_type": "execute_result"
    }
   ],
   "source": [
    "af_01_name =maxima.get(\"arr_funs[H_r_t_z]@name\")\n",
    "af_01_name"
   ]
  },
  {
   "cell_type": "code",
   "execution_count": 78,
   "metadata": {},
   "outputs": [
    {
     "data": {
      "text/plain": [
       "'false@fargs'"
      ]
     },
     "execution_count": 78,
     "metadata": {},
     "output_type": "execute_result"
    }
   ],
   "source": [
    "af_01_fargs =maxima.get(\"arr_funs[H_r_t_z]@fargs\")\n",
    "af_01_fargs"
   ]
  },
  {
   "cell_type": "code",
   "execution_count": 79,
   "metadata": {},
   "outputs": [
    {
     "data": {
      "text/plain": [
       "'false@body'"
      ]
     },
     "execution_count": 79,
     "metadata": {},
     "output_type": "execute_result"
    }
   ],
   "source": [
    "af_01_body =maxima.get(\"arr_funs[H_r_t_z]@body\")\n",
    "af_01_body"
   ]
  },
  {
   "cell_type": "code",
   "execution_count": 80,
   "metadata": {},
   "outputs": [
    {
     "data": {
      "text/plain": [
       "'false@latex'"
      ]
     },
     "execution_count": 80,
     "metadata": {},
     "output_type": "execute_result"
    }
   ],
   "source": [
    "af_01_latex =maxima.get(\"arr_funs[H_r_t_z]@latex\")\n",
    "af_01_latex"
   ]
  },
  {
   "cell_type": "code",
   "execution_count": 81,
   "metadata": {},
   "outputs": [
    {
     "data": {
      "text/plain": [
       "false@latex"
      ]
     },
     "execution_count": 81,
     "metadata": {},
     "output_type": "execute_result"
    }
   ],
   "source": [
    "le_af_01_latex=LatexExpr(af_01_latex.replace(\"\\\\\\\\\",\"\\\\\").replace('\\\"',''))\n",
    "le_af_01_latex"
   ]
  },
  {
   "cell_type": "code",
   "execution_count": null,
   "metadata": {},
   "outputs": [],
   "source": []
  },
  {
   "cell_type": "code",
   "execution_count": 82,
   "metadata": {},
   "outputs": [
    {
     "data": {
      "text/html": [
       "<html><script type=\"math/tex; mode=display\">\\newcommand{\\Bold}[1]{\\mathbf{#1}}false@latex</script></html>"
      ],
      "text/plain": [
       "false@latex"
      ]
     },
     "metadata": {},
     "output_type": "display_data"
    }
   ],
   "source": [
    "show(le_af_01_latex)"
   ]
  },
  {
   "cell_type": "code",
   "execution_count": 83,
   "metadata": {},
   "outputs": [
    {
     "data": {
      "text/plain": [
       "'P^{\\\\left( \\\\nu \\\\right)}(z)=\\\\left|w_v \\\\right| \\\\sum_{m=-\\\\infty}^{\\\\infty}p_m~\\\\left|a_m^{\\\\left(\\\\nu\\\\right)}(z)\\\\right|^2'"
      ]
     },
     "execution_count": 83,
     "metadata": {},
     "output_type": "execute_result"
    }
   ],
   "source": [
    "af_02=r\"P^{\\left( \\nu \\right)}(z)=\\left|w_v \\right| \\sum_{m=-\\infty}^{\\infty}p_m~\\left|a_m^{\\left(\\nu\\right)}(z)\\right|^2\"\n",
    "af_02"
   ]
  },
  {
   "cell_type": "code",
   "execution_count": 84,
   "metadata": {},
   "outputs": [
    {
     "data": {
      "text/plain": [
       "P^{\\left( \\nu \\right)}(z)=\\left|w_v \\right| \\sum_{m=-\\infty}^{\\infty}p_m~\\left|a_m^{\\left(\\nu\\right)}(z)\\right|^2"
      ]
     },
     "execution_count": 84,
     "metadata": {},
     "output_type": "execute_result"
    }
   ],
   "source": [
    "le_af_02=LatexExpr(af_02)\n",
    "le_af_02"
   ]
  },
  {
   "cell_type": "code",
   "execution_count": 85,
   "metadata": {},
   "outputs": [
    {
     "data": {
      "text/html": [
       "<html><script type=\"math/tex; mode=display\">\\newcommand{\\Bold}[1]{\\mathbf{#1}}P^{\\left( \\nu \\right)}(z)=\\left|w_v \\right| \\sum_{m=-\\infty}^{\\infty}p_m~\\left|a_m^{\\left(\\nu\\right)}(z)\\right|^2</script></html>"
      ],
      "text/plain": [
       "P^{\\left( \\nu \\right)}(z)=\\left|w_v \\right| \\sum_{m=-\\infty}^{\\infty}p_m~\\left|a_m^{\\left(\\nu\\right)}(z)\\right|^2"
      ]
     },
     "metadata": {},
     "output_type": "display_data"
    }
   ],
   "source": [
    "show(le_af_02)"
   ]
  },
  {
   "cell_type": "code",
   "execution_count": 86,
   "metadata": {},
   "outputs": [
    {
     "data": {
      "text/plain": [
       "'P^{\\\\left( \\\\nu \\\\right)}(z)= \\\\left|w_v \\\\right| \\\\sum_{m=-\\\\infty}^{\\\\infty}p_m~\\\\left|a_m^{\\\\left(\\\\nu\\\\right)}(z)\\\\right|^2'"
      ]
     },
     "execution_count": 86,
     "metadata": {},
     "output_type": "execute_result"
    }
   ],
   "source": [
    "af_03=\"P^{\\\\left( \\\\nu \\\\right)}(z)= \\\\left|w_v \\\\right| \\\\sum_{m=-\\\\infty}^{\\\\infty}p_m~\\\\left|a_m^{\\\\left(\\\\nu\\\\right)}(z)\\\\right|^2\"\n",
    "af_03"
   ]
  },
  {
   "cell_type": "code",
   "execution_count": 87,
   "metadata": {},
   "outputs": [],
   "source": [
    "le_af_03=LatexExpr(af_03)"
   ]
  },
  {
   "cell_type": "code",
   "execution_count": 88,
   "metadata": {},
   "outputs": [
    {
     "data": {
      "text/plain": [
       "P^{\\left( \\nu \\right)}(z)= \\left|w_v \\right| \\sum_{m=-\\infty}^{\\infty}p_m~\\left|a_m^{\\left(\\nu\\right)}(z)\\right|^2"
      ]
     },
     "execution_count": 88,
     "metadata": {},
     "output_type": "execute_result"
    }
   ],
   "source": [
    "le_af_03"
   ]
  },
  {
   "cell_type": "code",
   "execution_count": 89,
   "metadata": {},
   "outputs": [
    {
     "data": {
      "text/html": [
       "<html><script type=\"math/tex; mode=display\">\\newcommand{\\Bold}[1]{\\mathbf{#1}}P^{\\left( \\nu \\right)}(z)= \\left|w_v \\right| \\sum_{m=-\\infty}^{\\infty}p_m~\\left|a_m^{\\left(\\nu\\right)}(z)\\right|^2</script></html>"
      ],
      "text/plain": [
       "P^{\\left( \\nu \\right)}(z)= \\left|w_v \\right| \\sum_{m=-\\infty}^{\\infty}p_m~\\left|a_m^{\\left(\\nu\\right)}(z)\\right|^2"
      ]
     },
     "metadata": {},
     "output_type": "display_data"
    }
   ],
   "source": [
    "show(le_af_03)"
   ]
  },
  {
   "cell_type": "code",
   "execution_count": 90,
   "metadata": {},
   "outputs": [
    {
     "data": {
      "text/plain": [
       "'\"SYMBOLIC\"'"
      ]
     },
     "execution_count": 90,
     "metadata": {},
     "output_type": "execute_result"
    }
   ],
   "source": [
    "af_04_ftyp =maxima.get(\"arr_funs[EQ_1242_B]@ftyp\")\n",
    "af_04_ftyp"
   ]
  },
  {
   "cell_type": "code",
   "execution_count": 91,
   "metadata": {},
   "outputs": [
    {
     "data": {
      "text/plain": [
       "'EQ_1242_B'"
      ]
     },
     "execution_count": 91,
     "metadata": {},
     "output_type": "execute_result"
    }
   ],
   "source": [
    "af_04_name =maxima.get(\"arr_funs[EQ_1242_B]@name\")\n",
    "af_04_name "
   ]
  },
  {
   "cell_type": "code",
   "execution_count": 92,
   "metadata": {},
   "outputs": [
    {
     "data": {
      "text/plain": [
       "'[z]'"
      ]
     },
     "execution_count": 92,
     "metadata": {},
     "output_type": "execute_result"
    }
   ],
   "source": [
    "af_04_fargs =maxima.get(\"arr_funs[EQ_1242_B]@fargs\")\n",
    "af_04_fargs"
   ]
  },
  {
   "cell_type": "code",
   "execution_count": 93,
   "metadata": {},
   "outputs": [
    {
     "data": {
      "text/plain": [
       "'\"abs(w_v)*sum(p_m*abs(a_vm(z))^2,m,minf,inf)\"'"
      ]
     },
     "execution_count": 93,
     "metadata": {},
     "output_type": "execute_result"
    }
   ],
   "source": [
    "af_04_body =maxima.get(\"arr_funs[EQ_1242_B]@body\")\n",
    "af_04_body"
   ]
  },
  {
   "cell_type": "code",
   "execution_count": 94,
   "metadata": {},
   "outputs": [
    {
     "data": {
      "text/plain": [
       "'\"P^{\\\\\\\\left(\\\\\\\\nu\\\\\\\\right)}(z)=\\\\\\\\left|w_v\\\\\\\\right|\\\\\\\\sum_{m=-\\\\\\\\infty}^{\\\\\\\\infty}p_m~\\\\\\\\left|a_m^{\\\\\\\\left(\\\\\\\\nu\\\\\\\\right)}(z)\\\\\\\\right|^2\"'"
      ]
     },
     "execution_count": 94,
     "metadata": {},
     "output_type": "execute_result"
    }
   ],
   "source": [
    "af_04_latex =maxima.get(\"arr_funs[EQ_1242_B]@latex\")\n",
    "af_04_latex"
   ]
  },
  {
   "cell_type": "code",
   "execution_count": 95,
   "metadata": {},
   "outputs": [
    {
     "data": {
      "text/plain": [
       "'P^{\\\\left(\\\\nu\\\\right)}(z)=\\\\left|w_v\\\\right|\\\\sum_{m=-\\\\infty}^{\\\\infty}p_m~\\\\left|a_m^{\\\\left(\\\\nu\\\\right)}(z)\\\\right|^2'"
      ]
     },
     "execution_count": 95,
     "metadata": {},
     "output_type": "execute_result"
    }
   ],
   "source": [
    "af_04_latex_rep=af_04_latex.replace(\"\\\\\\\\\",\"\\\\\").replace('\\\"','')\n",
    "af_04_latex_rep"
   ]
  },
  {
   "cell_type": "code",
   "execution_count": 96,
   "metadata": {},
   "outputs": [
    {
     "data": {
      "text/plain": [
       "P^{\\left(\\nu\\right)}(z)=\\left|w_v\\right|\\sum_{m=-\\infty}^{\\infty}p_m~\\left|a_m^{\\left(\\nu\\right)}(z)\\right|^2"
      ]
     },
     "execution_count": 96,
     "metadata": {},
     "output_type": "execute_result"
    }
   ],
   "source": [
    "le_af_04_latex=LatexExpr(af_04_latex_rep)\n",
    "le_af_04_latex"
   ]
  },
  {
   "cell_type": "code",
   "execution_count": 97,
   "metadata": {},
   "outputs": [
    {
     "data": {
      "text/html": [
       "<html><script type=\"math/tex; mode=display\">\\newcommand{\\Bold}[1]{\\mathbf{#1}}P^{\\left(\\nu\\right)}(z)=\\left|w_v\\right|\\sum_{m=-\\infty}^{\\infty}p_m~\\left|a_m^{\\left(\\nu\\right)}(z)\\right|^2</script></html>"
      ],
      "text/plain": [
       "P^{\\left(\\nu\\right)}(z)=\\left|w_v\\right|\\sum_{m=-\\infty}^{\\infty}p_m~\\left|a_m^{\\left(\\nu\\right)}(z)\\right|^2"
      ]
     },
     "metadata": {},
     "output_type": "display_data"
    }
   ],
   "source": [
    "show(le_af_04_latex)"
   ]
  },
  {
   "cell_type": "code",
   "execution_count": 98,
   "metadata": {},
   "outputs": [
    {
     "data": {
      "text/plain": [
       "'E(r_t,z,t)~=~\\\\sum_{k=-\\\\infty}^{\\\\infty}A_k(A_0,k_A,z)~E_k(r_t)~e^{\\\\left(i~\\\\omega~t-\\\\gamma_kz\\\\right)}'"
      ]
     },
     "execution_count": 98,
     "metadata": {},
     "output_type": "execute_result"
    }
   ],
   "source": [
    "af_05_latex=maxima.get(\"arr_funs[E_r_t_z_t]@latex\")\n",
    "af_05_latex_rep=af_05_latex.replace(\"\\\\\\\\\",\"\\\\\").replace('\\\"','')\n",
    "af_05_latex_rep\n"
   ]
  },
  {
   "cell_type": "code",
   "execution_count": 99,
   "metadata": {},
   "outputs": [
    {
     "data": {
      "text/plain": [
       "E(r_t,z,t)~=~\\sum_{k=-\\infty}^{\\infty}A_k(A_0,k_A,z)~E_k(r_t)~e^{\\left(i~\\omega~t-\\gamma_kz\\right)}"
      ]
     },
     "execution_count": 99,
     "metadata": {},
     "output_type": "execute_result"
    }
   ],
   "source": [
    "le_af_05_latex_rep=LatexExpr(af_05_latex_rep)\n",
    "le_af_05_latex_rep"
   ]
  },
  {
   "cell_type": "code",
   "execution_count": 100,
   "metadata": {},
   "outputs": [
    {
     "data": {
      "text/html": [
       "<html><script type=\"math/tex; mode=display\">\\newcommand{\\Bold}[1]{\\mathbf{#1}}E(r_t,z,t)~=~\\sum_{k=-\\infty}^{\\infty}A_k(A_0,k_A,z)~E_k(r_t)~e^{\\left(i~\\omega~t-\\gamma_kz\\right)}</script></html>"
      ],
      "text/plain": [
       "E(r_t,z,t)~=~\\sum_{k=-\\infty}^{\\infty}A_k(A_0,k_A,z)~E_k(r_t)~e^{\\left(i~\\omega~t-\\gamma_kz\\right)}"
      ]
     },
     "metadata": {},
     "output_type": "display_data"
    }
   ],
   "source": [
    "show(le_af_05_latex_rep)"
   ]
  },
  {
   "cell_type": "code",
   "execution_count": 101,
   "metadata": {},
   "outputs": [
    {
     "data": {
      "text/plain": [
       "'H(r_t,z,t)~=~\\\\sum_{k=-\\\\infty}^{\\\\infty}A_k(A_0,k_A,z)~H_k(r_t)~e^{\\\\left(i\\\\omega~t-\\\\gamma_kz\\\\right)}'"
      ]
     },
     "execution_count": 101,
     "metadata": {},
     "output_type": "execute_result"
    }
   ],
   "source": [
    "af_06_latex=maxima.get(\"arr_funs[H_r_t_z_t]@latex\")\n",
    "af_06_latex_rep=af_06_latex.replace(\"\\\\\\\\\",\"\\\\\").replace('\\\"','')\n",
    "af_06_latex_rep\n"
   ]
  },
  {
   "cell_type": "code",
   "execution_count": 102,
   "metadata": {},
   "outputs": [
    {
     "data": {
      "text/plain": [
       "H(r_t,z,t)~=~\\sum_{k=-\\infty}^{\\infty}A_k(A_0,k_A,z)~H_k(r_t)~e^{\\left(i\\omega~t-\\gamma_kz\\right)}"
      ]
     },
     "execution_count": 102,
     "metadata": {},
     "output_type": "execute_result"
    }
   ],
   "source": [
    "le_af_06_latex_rep=LatexExpr(af_06_latex_rep)\n",
    "le_af_06_latex_rep"
   ]
  },
  {
   "cell_type": "code",
   "execution_count": 103,
   "metadata": {},
   "outputs": [
    {
     "data": {
      "text/html": [
       "<html><script type=\"math/tex; mode=display\">\\newcommand{\\Bold}[1]{\\mathbf{#1}}H(r_t,z,t)~=~\\sum_{k=-\\infty}^{\\infty}A_k(A_0,k_A,z)~H_k(r_t)~e^{\\left(i\\omega~t-\\gamma_kz\\right)}</script></html>"
      ],
      "text/plain": [
       "H(r_t,z,t)~=~\\sum_{k=-\\infty}^{\\infty}A_k(A_0,k_A,z)~H_k(r_t)~e^{\\left(i\\omega~t-\\gamma_kz\\right)}"
      ]
     },
     "metadata": {},
     "output_type": "display_data"
    }
   ],
   "source": [
    "show(le_af_06_latex_rep)"
   ]
  },
  {
   "cell_type": "code",
   "execution_count": 104,
   "metadata": {},
   "outputs": [
    {
     "data": {
      "text/plain": [
       "avg_t \\left( I_P,N \\right) = \\frac{1}{2}~avg_t \\left( E \\cdot \\frac{\\partial{P}}{\\partial{t}} \\right) - P \\cdot \\frac{\\partial{E}}{\\partial{t}},N \\right)"
      ]
     },
     "execution_count": 104,
     "metadata": {},
     "output_type": "execute_result"
    }
   ],
   "source": [
    "LatexExpr(\"avg_t \\\\left( I_P,N \\\\right) = \\\\frac{1}{2}~avg_t \\\\left( E \\\\cdot \\\\frac{\\\\partial{P}}{\\\\partial{t}} \\\\right) - P \\\\cdot \\\\frac{\\\\partial{E}}{\\\\partial{t}},N \\\\right)\")"
   ]
  },
  {
   "cell_type": "code",
   "execution_count": 105,
   "metadata": {},
   "outputs": [
    {
     "data": {
      "text/html": [
       "<html><script type=\"math/tex; mode=display\">\\newcommand{\\Bold}[1]{\\mathbf{#1}}\\big\\langle I_P \\big\\rangle = \\frac{1}{2}~\\bigg\\langle E \\cdot \\frac{\\partial{P}}{\\partial{t}} - P \\cdot \\frac{\\partial{E}}{\\partial{t}}\\bigg\\rangle</script></html>"
      ],
      "text/plain": [
       "\\big\\langle I_P \\big\\rangle = \\frac{1}{2}~\\bigg\\langle E \\cdot \\frac{\\partial{P}}{\\partial{t}} - P \\cdot \\frac{\\partial{E}}{\\partial{t}}\\bigg\\rangle"
      ]
     },
     "metadata": {},
     "output_type": "display_data"
    }
   ],
   "source": [
    "show(LatexExpr(\"\\\\big\\\\langle I_P \\\\big\\\\rangle = \\\\frac{1}{2}~\\\\bigg\\\\langle E \\\\cdot \\\\frac{\\\\partial{P}}{\\\\partial{t}} - P \\\\cdot \\\\frac{\\\\partial{E}}{\\\\partial{t}}\\\\bigg\\\\rangle\" ))"
   ]
  },
  {
   "cell_type": "code",
   "execution_count": 106,
   "metadata": {},
   "outputs": [
    {
     "data": {
      "text/plain": [
       "'\\\\big\\\\langle I_P \\\\big\\\\rangle = \\\\frac{1}{2}~\\\\bigg\\\\langle E \\\\cdot \\\\frac{\\\\partial{P}}{\\\\partial{t}} - P \\\\cdot \\\\frac{\\\\partial{E}}{\\\\partial{t}}\\\\bigg\\\\rangle'"
      ]
     },
     "execution_count": 106,
     "metadata": {},
     "output_type": "execute_result"
    }
   ],
   "source": [
    "r\"\\big\\langle I_P \\big\\rangle = \\frac{1}{2}~\\bigg\\langle E \\cdot \\frac{\\partial{P}}{\\partial{t}} - P \\cdot \\frac{\\partial{E}}{\\partial{t}}\\bigg\\rangle\""
   ]
  },
  {
   "cell_type": "code",
   "execution_count": 107,
   "metadata": {},
   "outputs": [
    {
     "data": {
      "text/html": [
       "<html><script type=\"math/tex; mode=display\">\\newcommand{\\Bold}[1]{\\mathbf{#1}}\\big\\langle I_P \\big\\rangle = \\frac{1}{2}~\\bigg\\langle E \\cdot \\frac{\\partial{P}}{\\partial{t}} - P \\cdot \\frac{\\partial{E}}{\\partial{t}}\\bigg\\rangle</script></html>"
      ],
      "text/plain": [
       "\\big\\langle I_P \\big\\rangle = \\frac{1}{2}~\\bigg\\langle E \\cdot \\frac{\\partial{P}}{\\partial{t}} - P \\cdot \\frac{\\partial{E}}{\\partial{t}}\\bigg\\rangle"
      ]
     },
     "metadata": {},
     "output_type": "display_data"
    }
   ],
   "source": [
    "show(LatexExpr(\"\\\\big\\\\langle I_P \\\\big\\\\rangle = \\\\frac{1}{2}~\\\\bigg\\\\langle E \\\\cdot \\\\frac{\\\\partial{P}}{\\\\partial{t}} - P \\\\cdot \\\\frac{\\\\partial{E}}{\\\\partial{t}}\\\\bigg\\\\rangle\"))"
   ]
  },
  {
   "cell_type": "code",
   "execution_count": 108,
   "metadata": {},
   "outputs": [
    {
     "data": {
      "text/html": [
       "<html><script type=\"math/tex; mode=display\">\\newcommand{\\Bold}[1]{\\mathbf{#1}}\\big\\langle I_P \\big\\rangle = \\frac{1}{2}\\bigg\\langle E \\cdot \\frac{\\partial{D}}{\\partial{t}} - D \\cdot \\frac{\\partial{E}}{\\partial{t}} \\bigg\\rangle</script></html>"
      ],
      "text/plain": [
       "\\big\\langle I_P \\big\\rangle = \\frac{1}{2}\\bigg\\langle E \\cdot \\frac{\\partial{D}}{\\partial{t}} - D \\cdot \\frac{\\partial{E}}{\\partial{t}} \\bigg\\rangle"
      ]
     },
     "metadata": {},
     "output_type": "display_data"
    }
   ],
   "source": [
    "show(LatexExpr(\"\\\\big\\\\langle I_P \\\\big\\\\rangle = \\\\frac{1}{2}\\\\bigg\\\\langle E \\\\cdot \\\\frac{\\\\partial{D}}{\\\\partial{t}} - D \\\\cdot \\\\frac{\\\\partial{E}}{\\\\partial{t}} \\\\bigg\\\\rangle\"))"
   ]
  },
  {
   "cell_type": "code",
   "execution_count": 109,
   "metadata": {},
   "outputs": [
    {
     "data": {
      "text/html": [
       "<html><script type=\"math/tex; mode=display\">\\newcommand{\\Bold}[1]{\\mathbf{#1}}\\big\\langle I_P \\big\\rangle  = \\frac{1}{4}~Re \\big\\langle \\overline{E} \\cdot \\left(i \\omega D \\right)  - \\overline{D} \\cdot \\left( i \\omega E \\right) \\big\\rangle</script></html>"
      ],
      "text/plain": [
       "\\big\\langle I_P \\big\\rangle  = \\frac{1}{4}~Re \\big\\langle \\overline{E} \\cdot \\left(i \\omega D \\right)  - \\overline{D} \\cdot \\left( i \\omega E \\right) \\big\\rangle"
      ]
     },
     "metadata": {},
     "output_type": "display_data"
    }
   ],
   "source": [
    "show(LatexExpr(\"\\\\big\\\\langle I_P \\\\big\\\\rangle  = \\\\frac{1}{4}~Re \\\\big\\\\langle \\\\overline{E} \\\\cdot \\\\left(i \\\\omega D \\\\right)  - \\\\overline{D} \\\\cdot \\\\left( i \\\\omega E \\\\right) \\\\big\\\\rangle\"\n",
    "))"
   ]
  },
  {
   "cell_type": "code",
   "execution_count": 110,
   "metadata": {},
   "outputs": [
    {
     "data": {
      "text/html": [
       "<html><script type=\"math/tex; mode=display\">\\newcommand{\\Bold}[1]{\\mathbf{#1}}P_dz \\left( z \\right) = \\frac {\\partial}{\\partial{z}}{ \\sum_{m=-\\infty}^{\\infty}q_vp_m\\left|~a_m^{\\left( \\nu \\right)}(z)\\right|^2}</script></html>"
      ],
      "text/plain": [
       "P_dz \\left( z \\right) = \\frac {\\partial}{\\partial{z}}{ \\sum_{m=-\\infty}^{\\infty}q_vp_m\\left|~a_m^{\\left( \\nu \\right)}(z)\\right|^2}"
      ]
     },
     "metadata": {},
     "output_type": "display_data"
    }
   ],
   "source": [
    "show(LatexExpr(\"P_dz \\\\left( z \\\\right) = \\\\frac {\\\\partial}{\\\\partial{z}}{ \\\\sum_{m=-\\\\infty}^{\\\\infty}q_vp_m\\\\left|~a_m^{\\\\left( \\\\nu \\\\right)}(z)\\\\right|^2}\"))"
   ]
  },
  {
   "cell_type": "code",
   "execution_count": 111,
   "metadata": {},
   "outputs": [
    {
     "data": {
      "text/html": [
       "<html><script type=\"math/tex; mode=display\">\\newcommand{\\Bold}[1]{\\mathbf{#1}}\\big\\langle I_P \\big\\rangle = \\frac{1}{4}~Re \\left( \\overline{E} \\cdot \\left(i \\omega D \\right)  - \\overline{D} \\cdot \\left( i \\omega E \\right) \\right)</script></html>"
      ],
      "text/plain": [
       "\\big\\langle I_P \\big\\rangle = \\frac{1}{4}~Re \\left( \\overline{E} \\cdot \\left(i \\omega D \\right)  - \\overline{D} \\cdot \\left( i \\omega E \\right) \\right)"
      ]
     },
     "metadata": {},
     "output_type": "display_data"
    }
   ],
   "source": [
    "show(LatexExpr(\"\\\\big\\\\langle I_P \\\\big\\\\rangle = \\\\frac{1}{4}~Re \\\\left( \\\\overline{E} \\\\cdot \\\\left(i \\\\omega D \\\\right)  - \\\\overline{D} \\\\cdot \\\\left( i \\\\omega E \\\\right) \\\\right)\"\n",
    "))"
   ]
  },
  {
   "cell_type": "code",
   "execution_count": 112,
   "metadata": {},
   "outputs": [
    {
     "data": {
      "text/html": [
       "<html><script type=\"math/tex; mode=display\">\\newcommand{\\Bold}[1]{\\mathbf{#1}}\\big\\langle I_P \\big\\rangle = \\frac{1}{4}~Re \\big\\{ i \\omega E^{*} \\cdot \\left( \\bar{\\epsilon} - \\bar{\\epsilon}^{\\dagger} \\right) \\cdot E + 2 E^{*} \\cdot \\bar{\\xi} \\cdot H \\big\\}</script></html>"
      ],
      "text/plain": [
       "\\big\\langle I_P \\big\\rangle = \\frac{1}{4}~Re \\big\\{ i \\omega E^{*} \\cdot \\left( \\bar{\\epsilon} - \\bar{\\epsilon}^{\\dagger} \\right) \\cdot E + 2 E^{*} \\cdot \\bar{\\xi} \\cdot H \\big\\}"
      ]
     },
     "metadata": {},
     "output_type": "display_data"
    }
   ],
   "source": [
    "show(LatexExpr(\"\\\\big\\\\langle I_P \\\\big\\\\rangle = \\\\frac{1}{4}~Re \\\\big\\\\{ i \\\\omega E^{*} \\\\cdot \\\\left( \\\\bar{\\\\epsilon} - \\\\bar{\\\\epsilon}^{\\\\dagger} \\\\right) \\\\cdot E + 2 E^{*} \\\\cdot \\\\bar{\\\\xi} \\\\cdot H \\\\big\\\\}\"))"
   ]
  },
  {
   "cell_type": "code",
   "execution_count": 113,
   "metadata": {},
   "outputs": [
    {
     "data": {
      "text/html": [
       "<html><script type=\"math/tex; mode=display\">\\newcommand{\\Bold}[1]{\\mathbf{#1}}\\big\\langle I_P\\big\\rangle = \\frac{1}{2} Re \\big\\{ i \\omega \\left( \\bar{\\epsilon}^{~a} : EE^{*} + \\xi : HE^{*} \\right)  \\big\\}</script></html>"
      ],
      "text/plain": [
       "\\big\\langle I_P\\big\\rangle = \\frac{1}{2} Re \\big\\{ i \\omega \\left( \\bar{\\epsilon}^{~a} : EE^{*} + \\xi : HE^{*} \\right)  \\big\\}"
      ]
     },
     "metadata": {},
     "output_type": "display_data"
    }
   ],
   "source": [
    "show(LatexExpr(\"\\\\big\\\\langle I_P\\\\big\\\\rangle = \\\\frac{1}{2} Re \\\\big\\\\{ i \\\\omega \\\\left( \\\\bar{\\\\epsilon}^{~a} : EE^{*} + \\\\xi : HE^{*} \\\\right)  \\\\big\\\\}\"))"
   ]
  },
  {
   "cell_type": "code",
   "execution_count": 114,
   "metadata": {},
   "outputs": [
    {
     "data": {
      "text/html": [
       "<html><script type=\"math/tex; mode=display\">\\newcommand{\\Bold}[1]{\\mathbf{#1}}\\big\\langle I_P\\big\\rangle = \\frac{1}{4}~Re \\big\\{ i \\omega \\left( E^{*} \\cdot \\bar{\\epsilon} \\cdot E + E^{*} \\cdot \\bar{\\xi} \\cdot H - E \\cdot \\bar{\\epsilon}^{*} \\cdot E^{*} - E \\cdot \\bar{\\xi}^{*} \\cdot H^{*} \\right) \\big\\}</script></html>"
      ],
      "text/plain": [
       "\\big\\langle I_P\\big\\rangle = \\frac{1}{4}~Re \\big\\{ i \\omega \\left( E^{*} \\cdot \\bar{\\epsilon} \\cdot E + E^{*} \\cdot \\bar{\\xi} \\cdot H - E \\cdot \\bar{\\epsilon}^{*} \\cdot E^{*} - E \\cdot \\bar{\\xi}^{*} \\cdot H^{*} \\right) \\big\\}"
      ]
     },
     "metadata": {},
     "output_type": "display_data"
    }
   ],
   "source": [
    "show(LatexExpr(\"\\\\big\\\\langle I_P\\\\big\\\\rangle = \\\\frac{1}{4}~Re \\\\big\\\\{ i \\\\omega \\\\left( E^{*} \\\\cdot \\\\bar{\\\\epsilon} \\\\cdot E + E^{*} \\\\cdot \\\\bar{\\\\xi} \\\\cdot H - E \\\\cdot \\\\bar{\\\\epsilon}^{*} \\\\cdot E^{*} - E \\\\cdot \\\\bar{\\\\xi}^{*} \\\\cdot H^{*} \\\\right) \\\\big\\\\}\"))"
   ]
  },
  {
   "cell_type": "code",
   "execution_count": 115,
   "metadata": {},
   "outputs": [
    {
     "data": {
      "text/html": [
       "<html><script type=\"math/tex; mode=display\">\\newcommand{\\Bold}[1]{\\mathbf{#1}}\\big\\langle I_P\\big\\rangle = \\frac{1}{2} Re \\big\\{ i \\omega \\left( \\bar{\\mu}^{~a} : HH^{*} - \\zeta^{\\dagger} : HE^{*} \\right)  \\big\\}</script></html>"
      ],
      "text/plain": [
       "\\big\\langle I_P\\big\\rangle = \\frac{1}{2} Re \\big\\{ i \\omega \\left( \\bar{\\mu}^{~a} : HH^{*} - \\zeta^{\\dagger} : HE^{*} \\right)  \\big\\}"
      ]
     },
     "metadata": {},
     "output_type": "display_data"
    }
   ],
   "source": [
    "show(LatexExpr(\"\\\\big\\\\langle I_P\\\\big\\\\rangle = \\\\frac{1}{2} Re \\\\big\\\\{ i \\\\omega \\\\left( \\\\bar{\\\\mu}^{~a} : HH^{*} - \\\\zeta^{\\\\dagger} : HE^{*} \\\\right)  \\\\big\\\\}\"))\n"
   ]
  },
  {
   "cell_type": "code",
   "execution_count": 116,
   "metadata": {},
   "outputs": [
    {
     "data": {
      "text/plain": [
       "'\"\\\\\\\\big\\\\\\\\langle~I_P~\\\\\\\\big\\\\\\\\rangle=\\\\\\\\frac{1}{2}\\\\\\\\bigg\\\\\\\\langle~E~\\\\\\\\cdot\\\\\\\\frac{\\\\\\\\partial{D}}{\\\\\\\\partial{t}}~-~D\\\\\\\\cdot\\\\\\\\frac{\\\\\\\\partial{E}}{\\\\\\\\partial{t}}~\\\\\\\\bigg\\\\\\\\rangle\"'"
      ]
     },
     "execution_count": 116,
     "metadata": {},
     "output_type": "execute_result"
    }
   ],
   "source": [
    "af_05_latex=maxima.get(\"arr_funs[EQ_3217_B]@latex\")\n",
    "af_05_latex\n",
    "\n"
   ]
  },
  {
   "cell_type": "code",
   "execution_count": 117,
   "metadata": {},
   "outputs": [
    {
     "data": {
      "text/plain": [
       "'\"\\\\\\\\big\\\\\\\\langle~I_P~\\\\\\\\big\\\\\\\\rangle=\\\\\\\\frac{1}{2}~\\\\\\\\bigg\\\\\\\\langle~E\\\\\\\\cdot\\\\\\\\frac{\\\\\\\\partial{P}}{\\\\\\\\partial{t}}-P\\\\\\\\cdot\\\\\\\\frac{\\\\\\\\partial{E}}{\\\\\\\\partial{t}}\\\\\\\\bigg\\\\\\\\rangle\"'"
      ]
     },
     "execution_count": 117,
     "metadata": {},
     "output_type": "execute_result"
    }
   ],
   "source": [
    "af_04_latex=maxima.get(\"arr_funs[EQ_3217_A]@latex\")\n",
    "af_04_latex\n"
   ]
  },
  {
   "cell_type": "code",
   "execution_count": 118,
   "metadata": {},
   "outputs": [
    {
     "data": {
      "text/plain": [
       "'\\\\big\\\\langle~I_P~\\\\big\\\\rangle=\\\\frac{1}{2}~\\\\bigg\\\\langle~E\\\\cdot\\\\frac{\\\\partial{P}}{\\\\partial{t}}-P\\\\cdot\\\\frac{\\\\partial{E}}{\\\\partial{t}}\\\\bigg\\\\rangle'"
      ]
     },
     "execution_count": 118,
     "metadata": {},
     "output_type": "execute_result"
    }
   ],
   "source": [
    "af_04_latex_rep=af_04_latex.replace(\"\\\\\\\\\",\"\\\\\").replace('\\\"','')\n",
    "af_04_latex_rep"
   ]
  },
  {
   "cell_type": "code",
   "execution_count": 119,
   "metadata": {},
   "outputs": [
    {
     "data": {
      "text/plain": [
       "\\big\\langle I_P \\big\\rangle=\\frac{1}{2} \\bigg\\langle E\\cdot\\frac{\\partial{P}}{\\partial{t}}-P\\cdot\\frac{\\partial{E}}{\\partial{t}}\\bigg\\rangle"
      ]
     },
     "execution_count": 119,
     "metadata": {},
     "output_type": "execute_result"
    }
   ],
   "source": [
    "le_af_04_latex=LatexExpr(af_04_latex.replace(\"\\\\\\\\\",\"\\\\\").replace('\\\"','').replace('~',' '))\n",
    "le_af_04_latex"
   ]
  },
  {
   "cell_type": "code",
   "execution_count": 120,
   "metadata": {},
   "outputs": [
    {
     "data": {
      "text/html": [
       "<html><script type=\"math/tex; mode=display\">\\newcommand{\\Bold}[1]{\\mathbf{#1}}\\big\\langle I_P \\big\\rangle=\\frac{1}{2} \\bigg\\langle E\\cdot\\frac{\\partial{P}}{\\partial{t}}-P\\cdot\\frac{\\partial{E}}{\\partial{t}}\\bigg\\rangle</script></html>"
      ],
      "text/plain": [
       "\\big\\langle I_P \\big\\rangle=\\frac{1}{2} \\bigg\\langle E\\cdot\\frac{\\partial{P}}{\\partial{t}}-P\\cdot\\frac{\\partial{E}}{\\partial{t}}\\bigg\\rangle"
      ]
     },
     "metadata": {},
     "output_type": "display_data"
    }
   ],
   "source": [
    "show(LatexExpr(le_af_04_latex))"
   ]
  },
  {
   "cell_type": "code",
   "execution_count": 121,
   "metadata": {},
   "outputs": [
    {
     "data": {
      "text/plain": [
       "'\"\\\\\\\\big\\\\\\\\langle~I_P~\\\\\\\\big\\\\\\\\rangle=\\\\\\\\frac{1}{2}\\\\\\\\bigg\\\\\\\\langle~E~\\\\\\\\cdot\\\\\\\\frac{\\\\\\\\partial{D}}{\\\\\\\\partial{t}}~-~D\\\\\\\\cdot\\\\\\\\frac{\\\\\\\\partial{E}}{\\\\\\\\partial{t}}~\\\\\\\\bigg\\\\\\\\rangle\"'"
      ]
     },
     "execution_count": 121,
     "metadata": {},
     "output_type": "execute_result"
    }
   ],
   "source": [
    "af_05_latex=maxima.get(\"arr_funs[EQ_3217_B]@latex\")\n",
    "af_05_latex"
   ]
  },
  {
   "cell_type": "code",
   "execution_count": 122,
   "metadata": {},
   "outputs": [
    {
     "data": {
      "text/plain": [
       "\\big\\langle I_P \\big\\rangle=\\frac{1}{2}\\bigg\\langle E \\cdot\\frac{\\partial{D}}{\\partial{t}} - D\\cdot\\frac{\\partial{E}}{\\partial{t}} \\bigg\\rangle"
      ]
     },
     "execution_count": 122,
     "metadata": {},
     "output_type": "execute_result"
    }
   ],
   "source": [
    "le_af_05_latex_rep=LatexExpr(af_05_latex.replace(\"\\\\\\\\\",\"\\\\\").replace('\\\"','').replace('~',' '))\n",
    "le_af_05_latex_rep"
   ]
  },
  {
   "cell_type": "code",
   "execution_count": 123,
   "metadata": {},
   "outputs": [
    {
     "data": {
      "text/html": [
       "<html><script type=\"math/tex; mode=display\">\\newcommand{\\Bold}[1]{\\mathbf{#1}}\\big\\langle I_P \\big\\rangle=\\frac{1}{2}\\bigg\\langle E \\cdot\\frac{\\partial{D}}{\\partial{t}} - D\\cdot\\frac{\\partial{E}}{\\partial{t}} \\bigg\\rangle</script></html>"
      ],
      "text/plain": [
       "\\big\\langle I_P \\big\\rangle=\\frac{1}{2}\\bigg\\langle E \\cdot\\frac{\\partial{D}}{\\partial{t}} - D\\cdot\\frac{\\partial{E}}{\\partial{t}} \\bigg\\rangle"
      ]
     },
     "metadata": {},
     "output_type": "display_data"
    }
   ],
   "source": [
    "show(le_af_05_latex_rep)"
   ]
  },
  {
   "cell_type": "code",
   "execution_count": 124,
   "metadata": {},
   "outputs": [
    {
     "data": {
      "text/plain": [
       "'\"\\\\\\\\big\\\\\\\\langle~I_P~\\\\\\\\big\\\\\\\\rangle~=~\\\\\\\\frac{1}{4}~Re~\\\\\\\\big\\\\\\\\{~E^{*}~\\\\\\\\cdot~\\\\\\\\left(i~\\\\\\\\omega~D~\\\\\\\\right)~-~D^{*}~\\\\\\\\cdot~\\\\\\\\left(~i~\\\\\\\\omega~E~\\\\\\\\right)~\\\\\\\\big\\\\\\\\}\"'"
      ]
     },
     "execution_count": 124,
     "metadata": {},
     "output_type": "execute_result"
    }
   ],
   "source": [
    "af_06_latex=maxima.get(\"arr_funs[EQ_3217_C]@latex\")\n",
    "af_06_latex"
   ]
  },
  {
   "cell_type": "code",
   "execution_count": 125,
   "metadata": {},
   "outputs": [
    {
     "data": {
      "text/plain": [
       "\\big\\langle I_P \\big\\rangle = \\frac{1}{4} Re \\big\\{ E^{*} \\cdot \\left(i \\omega D \\right) - D^{*} \\cdot \\left( i \\omega E \\right) \\big\\}"
      ]
     },
     "execution_count": 125,
     "metadata": {},
     "output_type": "execute_result"
    }
   ],
   "source": [
    "le_af_06_latex_rep=LatexExpr(af_06_latex.replace(\"\\\\\\\\\",\"\\\\\").replace('\\\"','').replace('~',' '))\n",
    "le_af_06_latex_rep"
   ]
  },
  {
   "cell_type": "code",
   "execution_count": 126,
   "metadata": {},
   "outputs": [
    {
     "data": {
      "text/html": [
       "<html><script type=\"math/tex; mode=display\">\\newcommand{\\Bold}[1]{\\mathbf{#1}}\\big\\langle I_P \\big\\rangle = \\frac{1}{4} Re \\big\\{ E^{*} \\cdot \\left(i \\omega D \\right) - D^{*} \\cdot \\left( i \\omega E \\right) \\big\\}</script></html>"
      ],
      "text/plain": [
       "\\big\\langle I_P \\big\\rangle = \\frac{1}{4} Re \\big\\{ E^{*} \\cdot \\left(i \\omega D \\right) - D^{*} \\cdot \\left( i \\omega E \\right) \\big\\}"
      ]
     },
     "metadata": {},
     "output_type": "display_data"
    }
   ],
   "source": [
    "show(le_af_06_latex_rep)"
   ]
  },
  {
   "cell_type": "code",
   "execution_count": 127,
   "metadata": {},
   "outputs": [
    {
     "data": {
      "text/plain": [
       "'\"\\\\\\\\big\\\\\\\\langle~I_P~\\\\\\\\big\\\\\\\\rangle~=~\\\\\\\\frac{1}{2}~Re~\\\\\\\\big\\\\\\\\{~i~\\\\\\\\omega~\\\\\\\\left(~\\\\\\\\bar{\\\\\\\\epsilon}^{a}~:~EE^{*}~+~\\\\\\\\xi~:~HE^{*}~\\\\\\\\right)~\\\\\\\\big\\\\\\\\}\"'"
      ]
     },
     "execution_count": 127,
     "metadata": {},
     "output_type": "execute_result"
    }
   ],
   "source": [
    "af_07_latex=maxima.get(\"arr_funs[EQ_3217_D]@latex\")\n",
    "af_07_latex"
   ]
  },
  {
   "cell_type": "code",
   "execution_count": 128,
   "metadata": {},
   "outputs": [
    {
     "data": {
      "text/plain": [
       "\\big\\langle I_P \\big\\rangle = \\frac{1}{2} Re \\big\\{ i \\omega \\left( \\bar{\\epsilon}^{a} : EE^{*} + \\xi : HE^{*} \\right) \\big\\}"
      ]
     },
     "execution_count": 128,
     "metadata": {},
     "output_type": "execute_result"
    }
   ],
   "source": [
    "le_af_07_latex_rep=LatexExpr(af_07_latex.replace(\"\\\\\\\\\",\"\\\\\").replace('\\\"','').replace('~',' '))\n",
    "le_af_07_latex_rep"
   ]
  },
  {
   "cell_type": "code",
   "execution_count": 129,
   "metadata": {},
   "outputs": [
    {
     "data": {
      "text/html": [
       "<html><script type=\"math/tex; mode=display\">\\newcommand{\\Bold}[1]{\\mathbf{#1}}\\big\\langle I_P \\big\\rangle = \\frac{1}{2} Re \\big\\{ i \\omega \\left( \\bar{\\epsilon}^{a} : EE^{*} + \\xi : HE^{*} \\right) \\big\\}</script></html>"
      ],
      "text/plain": [
       "\\big\\langle I_P \\big\\rangle = \\frac{1}{2} Re \\big\\{ i \\omega \\left( \\bar{\\epsilon}^{a} : EE^{*} + \\xi : HE^{*} \\right) \\big\\}"
      ]
     },
     "metadata": {},
     "output_type": "display_data"
    }
   ],
   "source": [
    "show(le_af_07_latex_rep)"
   ]
  },
  {
   "cell_type": "code",
   "execution_count": 130,
   "metadata": {},
   "outputs": [
    {
     "data": {
      "text/plain": [
       "'\"\\\\\\\\big\\\\\\\\langle~I_P~\\\\\\\\big\\\\\\\\rangle~=~\\\\\\\\frac{1}{4}~Re~\\\\\\\\big\\\\\\\\{~i~\\\\\\\\omega~\\\\\\\\big[~E^{*}~\\\\\\\\cdot~\\\\\\\\left(~\\\\\\\\bar{\\\\\\\\epsilon}~-~\\\\\\\\bar{\\\\\\\\epsilon}^{\\\\\\\\dagger}~\\\\\\\\right)~\\\\\\\\cdot~E~+~2~E^{*}~\\\\\\\\cdot~\\\\\\\\bar{\\\\\\\\xi}~\\\\\\\\cdot~H~\\\\\\\\big]~\\\\\\\\big\\\\\\\\}\"'"
      ]
     },
     "execution_count": 130,
     "metadata": {},
     "output_type": "execute_result"
    }
   ],
   "source": [
    "af_08_latex=maxima.get(\"arr_funs[EQ_3217_E]@latex\")\n",
    "af_08_latex"
   ]
  },
  {
   "cell_type": "code",
   "execution_count": 131,
   "metadata": {},
   "outputs": [
    {
     "data": {
      "text/plain": [
       "\\big\\langle I_P \\big\\rangle = \\frac{1}{4} Re \\big\\{ i \\omega \\big[ E^{*} \\cdot \\left( \\bar{\\epsilon} - \\bar{\\epsilon}^{\\dagger} \\right) \\cdot E + 2 E^{*} \\cdot \\bar{\\xi} \\cdot H \\big] \\big\\}"
      ]
     },
     "execution_count": 131,
     "metadata": {},
     "output_type": "execute_result"
    }
   ],
   "source": [
    "le_af_08_latex_rep=LatexExpr(af_08_latex.replace(\"\\\\\\\\\",\"\\\\\").replace('\\\"','').replace('~',' '))\n",
    "le_af_08_latex_rep"
   ]
  },
  {
   "cell_type": "code",
   "execution_count": 132,
   "metadata": {},
   "outputs": [
    {
     "data": {
      "text/html": [
       "<html><script type=\"math/tex; mode=display\">\\newcommand{\\Bold}[1]{\\mathbf{#1}}\\big\\langle I_P \\big\\rangle = \\frac{1}{4} Re \\big\\{ i \\omega \\big[ E^{*} \\cdot \\left( \\bar{\\epsilon} - \\bar{\\epsilon}^{\\dagger} \\right) \\cdot E + 2 E^{*} \\cdot \\bar{\\xi} \\cdot H \\big] \\big\\}</script></html>"
      ],
      "text/plain": [
       "\\big\\langle I_P \\big\\rangle = \\frac{1}{4} Re \\big\\{ i \\omega \\big[ E^{*} \\cdot \\left( \\bar{\\epsilon} - \\bar{\\epsilon}^{\\dagger} \\right) \\cdot E + 2 E^{*} \\cdot \\bar{\\xi} \\cdot H \\big] \\big\\}"
      ]
     },
     "metadata": {},
     "output_type": "display_data"
    }
   ],
   "source": [
    "show(le_af_08_latex_rep)"
   ]
  },
  {
   "cell_type": "code",
   "execution_count": 133,
   "metadata": {},
   "outputs": [
    {
     "data": {
      "text/plain": [
       "'\"\\\\\\\\big\\\\\\\\langle~I_P~\\\\\\\\big\\\\\\\\rangle~=~\\\\\\\\frac{1}{2}~Re~\\\\\\\\big\\\\\\\\{~i~\\\\\\\\omega\\\\\\\\left(~\\\\\\\\bar{\\\\\\\\epsilon}^{a}~:~EE^{*}~+~\\\\\\\\xi~:~HE^{*}~\\\\\\\\right)~\\\\\\\\big\\\\\\\\}\"'"
      ]
     },
     "execution_count": 133,
     "metadata": {},
     "output_type": "execute_result"
    }
   ],
   "source": [
    "af_09_latex=maxima.get(\"arr_funs[EQ_3217_F]@latex\")\n",
    "af_09_latex"
   ]
  },
  {
   "cell_type": "code",
   "execution_count": 134,
   "metadata": {},
   "outputs": [
    {
     "data": {
      "text/plain": [
       "\\big\\langle I_P \\big\\rangle = \\frac{1}{2} Re \\big\\{ i \\omega\\left( \\bar{\\epsilon}^{a} : EE^{*} + \\xi : HE^{*} \\right) \\big\\}"
      ]
     },
     "execution_count": 134,
     "metadata": {},
     "output_type": "execute_result"
    }
   ],
   "source": [
    "le_af_09_latex_rep=LatexExpr(af_09_latex.replace(\"\\\\\\\\\",\"\\\\\").replace('\\\"','').replace('~',' '))\n",
    "le_af_09_latex_rep"
   ]
  },
  {
   "cell_type": "code",
   "execution_count": 135,
   "metadata": {},
   "outputs": [
    {
     "data": {
      "text/plain": [
       "\\big\\langle I_P \\big\\rangle = \\frac{1}{2} Re \\big\\{ i \\omega\\left( \\bar{\\epsilon}^{a} : EE^{*} + \\xi : HE^{*} \\right) \\big\\}"
      ]
     },
     "execution_count": 135,
     "metadata": {},
     "output_type": "execute_result"
    }
   ],
   "source": [
    "le_af_09_latex_rep"
   ]
  },
  {
   "cell_type": "code",
   "execution_count": 136,
   "metadata": {},
   "outputs": [
    {
     "data": {
      "text/html": [
       "<html><script type=\"math/tex; mode=display\">\\newcommand{\\Bold}[1]{\\mathbf{#1}}\\big\\langle I_P \\big\\rangle = \\frac{1}{2} Re \\big\\{ i \\omega\\left( \\bar{\\epsilon}^{a} : EE^{*} + \\xi : HE^{*} \\right) \\big\\}</script></html>"
      ],
      "text/plain": [
       "\\big\\langle I_P \\big\\rangle = \\frac{1}{2} Re \\big\\{ i \\omega\\left( \\bar{\\epsilon}^{a} : EE^{*} + \\xi : HE^{*} \\right) \\big\\}"
      ]
     },
     "metadata": {},
     "output_type": "display_data"
    }
   ],
   "source": [
    "show(le_af_09_latex_rep)"
   ]
  },
  {
   "cell_type": "code",
   "execution_count": 137,
   "metadata": {},
   "outputs": [
    {
     "data": {
      "text/html": [
       "<html><script type=\"math/tex; mode=display\">\\newcommand{\\Bold}[1]{\\mathbf{#1}}\\omega_{\\nu}~\\left(q_{\\nu},\\omega,\\right~~=~q_{\\nu}~\\left(~\\omega~+~\\nu~\\omega_p~\\right)</script></html>"
      ],
      "text/plain": [
       "\\omega_{\\nu}~\\left(q_{\\nu},\\omega,\\right~~=~q_{\\nu}~\\left(~\\omega~+~\\nu~\\omega_p~\\right)"
      ]
     },
     "metadata": {},
     "output_type": "display_data"
    }
   ],
   "source": [
    "show(LatexExpr(\"\\\\omega_{\\\\nu}~\\\\left(q_{\\\\nu},\\\\omega,\\\\right~~=~q_{\\\\nu}~\\\\left(~\\\\omega~+~\\\\nu~\\\\omega_p~\\\\right)\"))"
   ]
  },
  {
   "cell_type": "code",
   "execution_count": 138,
   "metadata": {},
   "outputs": [
    {
     "data": {
      "text/html": [
       "<html><script type=\"math/tex; mode=display\">\\newcommand{\\Bold}[1]{\\mathbf{#1}}\\omega_{\\nu}~\\left(~q_{\\nu},\\omega~\\right)~~=~q_{\\nu}~\\left(~\\omega~+~\\nu~\\omega_p~\\right)</script></html>"
      ],
      "text/plain": [
       "\\omega_{\\nu}~\\left(~q_{\\nu},\\omega~\\right)~~=~q_{\\nu}~\\left(~\\omega~+~\\nu~\\omega_p~\\right)"
      ]
     },
     "metadata": {},
     "output_type": "display_data"
    }
   ],
   "source": [
    "show(LatexExpr(\"\\\\omega_{\\\\nu}~\\\\left(~q_{\\\\nu},\\\\omega~\\\\right)~~=~q_{\\\\nu}~\\\\left(~\\\\omega~+~\\\\nu~\\\\omega_p~\\\\right)\"))"
   ]
  },
  {
   "cell_type": "code",
   "execution_count": 139,
   "metadata": {},
   "outputs": [
    {
     "data": {
      "text/html": [
       "<html><script type=\"math/tex; mode=display\">\\newcommand{\\Bold}[1]{\\mathbf{#1}}q_{\\nu}~=~\\frac{\\omega_{\\nu}}{\\left|~\\omega_{\\nu}~\\right|}</script></html>"
      ],
      "text/plain": [
       "q_{\\nu}~=~\\frac{\\omega_{\\nu}}{\\left|~\\omega_{\\nu}~\\right|}"
      ]
     },
     "metadata": {},
     "output_type": "display_data"
    }
   ],
   "source": [
    "show(LatexExpr(\"q_{\\\\nu}~=~\\\\frac{\\\\omega_{\\\\nu}}{\\\\left|~\\\\omega_{\\\\nu}~\\\\right|}\"))"
   ]
  },
  {
   "cell_type": "code",
   "execution_count": 140,
   "metadata": {},
   "outputs": [
    {
     "data": {
      "text/html": [
       "<html><script type=\"math/tex; mode=display\">\\newcommand{\\Bold}[1]{\\mathbf{#1}}q_{\\nu}=\\frac{\\omega_{\\nu}+\\nu~\\omega_p}{\\left|\\omega+\\nu\\omega_p\\right|}</script></html>"
      ],
      "text/plain": [
       "q_{\\nu}=\\frac{\\omega_{\\nu}+\\nu~\\omega_p}{\\left|\\omega+\\nu\\omega_p\\right|}"
      ]
     },
     "metadata": {},
     "output_type": "display_data"
    }
   ],
   "source": [
    "show(LatexExpr(\"q_{\\\\nu}=\\\\frac{\\\\omega_{\\\\nu}+\\\\nu~\\\\omega_p}{\\\\left|\\\\omega+\\\\nu\\\\omega_p\\\\right|}\"))"
   ]
  },
  {
   "cell_type": "code",
   "execution_count": null,
   "metadata": {},
   "outputs": [],
   "source": []
  }
 ],
 "metadata": {
  "kernelspec": {
   "display_name": "SageMath 9.1",
   "language": "sage",
   "name": "sagemath"
  },
  "language": "python",
  "language_info": {
   "codemirror_mode": {
    "name": "ipython",
    "version": 3
   },
   "file_extension": ".py",
   "mimetype": "text/x-python",
   "name": "python",
   "nbconvert_exporter": "python",
   "pygments_lexer": "ipython3",
   "version": "3.7.3"
  }
 },
 "nbformat": 4,
 "nbformat_minor": 2
}
