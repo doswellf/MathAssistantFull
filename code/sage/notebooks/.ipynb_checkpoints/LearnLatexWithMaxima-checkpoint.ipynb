{
 "cells": [
  {
   "cell_type": "code",
   "execution_count": 1,
   "metadata": {},
   "outputs": [],
   "source": [
    "var('x,y,z');f = function('f')(x,y,z)"
   ]
  },
  {
   "cell_type": "code",
   "execution_count": 2,
   "metadata": {},
   "outputs": [
    {
     "data": {
      "text/plain": [
       "\\frac{\\partial}{\\partial x}f\\left(x, y, z\\right) + \\frac{\\partial}{\\partial y}f\\left(x, y, z\\right) + \\frac{\\partial}{\\partial z}f\\left(x, y, z\\right)"
      ]
     },
     "execution_count": 2,
     "metadata": {},
     "output_type": "execute_result"
    }
   ],
   "source": [
    "latex(diff(f,x)+diff(f,y)+diff(f,z))"
   ]
  },
  {
   "cell_type": "code",
   "execution_count": 3,
   "metadata": {},
   "outputs": [
    {
     "name": "stdout",
     "output_type": "stream",
     "text": [
      "An error occurred.\n",
      "This is pdfTeX, Version 3.141592653-2.6-1.40.22 (TeX Live 2022/dev/Debian) (preloaded format=pdflatex 2022.5.5)  25 SEP 2022 23:09\n",
      "entering extended mode\n",
      " restricted \\write18 enabled.\n",
      " %&-line parsing enabled.\n",
      "**\\nonstopmode \\input{sage.tex}\n",
      "(./sage.tex (/usr/share/texlive/texmf-dist/tex/latex/base/article.cls\n",
      "Document Class: article 2021/10/04 v1.4n Standard LaTeX document class\n",
      "(/usr/share/texlive/texmf-dist/tex/latex/base/size10.clo\n",
      "File: size10.clo 2021/10/04 v1.4n Standard LaTeX file (size option)\n",
      ")\n",
      "\\c@part=\\count185\n",
      "\\c@section=\\count186\n",
      "\\c@subsection=\\count187\n",
      "\\c@subsubsection=\\count188\n",
      "\\c@paragraph=\\count189\n",
      "\\c@subparagraph=\\count190\n",
      "\\c@figure=\\count191\n",
      "\\c@table=\\count192\n",
      "\\abovecaptionskip=\\skip47\n",
      "\\belowcaptionskip=\\skip48\n",
      "\\bibindent=\\dimen138\n",
      ")\n",
      "(/usr/share/texlive/texmf-dist/tex/latex/amsmath/amsmath.sty\n",
      "Package: amsmath 2021/10/15 v2.17l AMS math features\n",
      "\\@mathmargin=\\skip49\n",
      "\n",
      "For additional information on amsmath, use the `?' option.\n",
      "(/usr/share/texlive/texmf-dist/tex/latex/amsmath/amstext.sty\n",
      "Package: amstext 2021/08/26 v2.01 AMS text\n",
      "\n",
      "(/usr/share/texlive/texmf-dist/tex/latex/amsmath/amsgen.sty\n",
      "File: amsgen.sty 1999/11/30 v2.0 generic functions\n",
      "\\@emptytoks=\\toks16\n",
      "\\ex@=\\dimen139\n",
      "))\n",
      "(/usr/share/texlive/texmf-dist/tex/latex/amsmath/amsbsy.sty\n",
      "Package: amsbsy 1999/11/29 v1.2d Bold Symbols\n",
      "\\pmbraise@=\\dimen140\n",
      ")\n",
      "(/usr/share/texlive/texmf-dist/tex/latex/amsmath/amsopn.sty\n",
      "Package: amsopn 2021/08/26 v2.02 operator names\n",
      ")\n",
      "\\inf@bad=\\count193\n",
      "LaTeX Info: Redefining \\frac on input line 234.\n",
      "\\uproot@=\\count194\n",
      "\\leftroot@=\\count195\n",
      "LaTeX Info: Redefining \\overline on input line 399.\n",
      "\\classnum@=\\count196\n",
      "\\DOTSCASE@=\\count197\n",
      "LaTeX Info: Redefining \\ldots on input line 496.\n",
      "LaTeX Info: Redefining \\dots on input line 499.\n",
      "LaTeX Info: Redefining \\cdots on input line 620.\n",
      "\\Mathstrutbox@=\\box50\n",
      "\\strutbox@=\\box51\n",
      "\\big@size=\\dimen141\n",
      "LaTeX Font Info:    Redeclaring font encoding OML on input line 743.\n",
      "LaTeX Font Info:    Redeclaring font encoding OMS on input line 744.\n",
      "\\macc@depth=\\count198\n",
      "\\c@MaxMatrixCols=\\count199\n",
      "\\dotsspace@=\\muskip16\n",
      "\\c@parentequation=\\count266\n",
      "\\dspbrk@lvl=\\count267\n",
      "\\tag@help=\\toks17\n",
      "\\row@=\\count268\n",
      "\\column@=\\count269\n",
      "\\maxfields@=\\count270\n",
      "\\andhelp@=\\toks18\n",
      "\\eqnshift@=\\dimen142\n",
      "\\alignsep@=\\dimen143\n",
      "\\tagshift@=\\dimen144\n",
      "\\tagwidth@=\\dimen145\n",
      "\\totwidth@=\\dimen146\n",
      "\\lineht@=\\dimen147\n",
      "\\@envbody=\\toks19\n",
      "\\multlinegap=\\skip50\n",
      "\\multlinetaggap=\\skip51\n",
      "\\mathdisplay@stack=\\toks20\n",
      "LaTeX Info: Redefining \\[ on input line 2938.\n",
      "LaTeX Info: Redefining \\] on input line 2939.\n",
      ")\n",
      "(/usr/share/texlive/texmf-dist/tex/latex/amsfonts/amssymb.sty\n",
      "Package: amssymb 2013/01/14 v3.01 AMS font symbols\n",
      "\n",
      "(/usr/share/texlive/texmf-dist/tex/latex/amsfonts/amsfonts.sty\n",
      "Package: amsfonts 2013/01/14 v3.01 Basic AMSFonts support\n",
      "\\symAMSa=\\mathgroup4\n",
      "\\symAMSb=\\mathgroup5\n",
      "LaTeX Font Info:    Redeclaring math symbol \\hbar on input line 98.\n",
      "LaTeX Font Info:    Overwriting math alphabet `\\mathfrak' in version `bold'\n",
      "(Font)                  U/euf/m/n --> U/euf/b/n on input line 106.\n",
      "))\n",
      "(/usr/share/texlive/texmf-dist/tex/latex/graphics/graphicx.sty\n",
      "Package: graphicx 2021/09/16 v1.2d Enhanced LaTeX Graphics (DPC,SPQR)\n",
      "\n",
      "(/usr/share/texlive/texmf-dist/tex/latex/graphics/keyval.sty\n",
      "Package: keyval 2014/10/28 v1.15 key=value parser (DPC)\n",
      "\\KV@toks@=\\toks21\n",
      ")\n",
      "(/usr/share/texlive/texmf-dist/tex/latex/graphics/graphics.sty\n",
      "Package: graphics 2021/03/04 v1.4d Standard LaTeX Graphics (DPC,SPQR)\n",
      "\n",
      "(/usr/share/texlive/texmf-dist/tex/latex/graphics/trig.sty\n",
      "Package: trig 2021/08/11 v1.11 sin cos tan (DPC)\n",
      ")\n",
      "(/usr/share/texlive/texmf-dist/tex/latex/graphics-cfg/graphics.cfg\n",
      "File: graphics.cfg 2016/06/04 v1.11 sample graphics configuration\n",
      ")\n",
      "Package graphics Info: Driver file: pdftex.def on input line 107.\n",
      "\n",
      "(/usr/share/texlive/texmf-dist/tex/latex/graphics-def/pdftex.def\n",
      "File: pdftex.def 2020/10/05 v1.2a Graphics/color driver for pdftex\n",
      "))\n",
      "\\Gin@req@height=\\dimen148\n",
      "\\Gin@req@width=\\dimen149\n",
      ")\n",
      "(/usr/share/texlive/texmf-dist/tex/latex/jknapltx/mathrsfs.sty\n",
      "Package: mathrsfs 1996/01/01 Math RSFS package v1.0 (jk)\n",
      "\\symrsfs=\\mathgroup6\n",
      ")\n",
      "(/usr/share/texlive/texmf-dist/tex/latex/base/inputenc.sty\n",
      "Package: inputenc 2021/02/14 v1.3d Input encoding file\n",
      "\\inpenc@prehook=\\toks22\n",
      "\\inpenc@posthook=\\toks23\n",
      ")\n",
      "(/usr/share/texlive/texmf-dist/tex/latex/base/fontenc.sty\n",
      "Package: fontenc 2021/04/29 v2.0v Standard LaTeX package\n",
      ")\n",
      "\n",
      "! LaTeX Error: File `preview.sty' not found.\n",
      "\n",
      "Type X to quit or <RETURN> to proceed,\n",
      "or enter new name. (Default extension: sty)\n",
      "\n",
      "Enter file name: \n",
      "! Emergency stop.\n",
      "<read *> \n",
      "         \n",
      "l.37 \\PreviewEnvironment\n",
      "                        {page}^^M\n",
      "*** (cannot \\read from terminal in nonstop modes)\n",
      "\n",
      " \n",
      "Here is how much of TeX's memory you used:\n",
      " 2186 strings out of 480247\n",
      " 28639 string characters out of 5896152\n",
      " 307606 words of memory out of 5000000\n",
      " 20166 multiletter control sequences out of 15000+600000\n",
      " 470022 words of font info for 29 fonts, out of 8000000 for 9000\n",
      " 14 hyphenation exceptions out of 8191\n",
      " 59i,0n,65p,241b,38s stack positions out of 5000i,500n,10000p,200000b,80000s\n",
      "!  ==> Fatal error occurred, no output PDF file produced!\n",
      "\n",
      "Latex error\n"
     ]
    }
   ],
   "source": [
    "view(latex(diff(f,x)+diff(f,y)+diff(f,z)))"
   ]
  },
  {
   "cell_type": "code",
   "execution_count": 6,
   "metadata": {},
   "outputs": [],
   "source": [
    "f(x)=5*x^3*z^2+7*y^4*x^5-z^3*x^2"
   ]
  },
  {
   "cell_type": "code",
   "execution_count": 7,
   "metadata": {},
   "outputs": [
    {
     "data": {
      "text/plain": [
       "x |--> 28*x^5*y^3 + 35*x^4*y^4 - 10*x^3*z + 18*x^2*z^2 - 2*x*z^3"
      ]
     },
     "execution_count": 7,
     "metadata": {},
     "output_type": "execute_result"
    }
   ],
   "source": [
    "diff(f,x)+diff(f,y)-diff(f,z)"
   ]
  },
  {
   "cell_type": "code",
   "execution_count": 8,
   "metadata": {},
   "outputs": [
    {
     "data": {
      "text/plain": [
       "x |--> 21875*y^4 + 87500*y^3 - 10*z^3 + 300*z^2 + 1250*z"
      ]
     },
     "execution_count": 8,
     "metadata": {},
     "output_type": "execute_result"
    }
   ],
   "source": [
    "(diff(f,x)+diff(f,y)+diff(f,z)).subs(x=5)"
   ]
  },
  {
   "cell_type": "code",
   "execution_count": 9,
   "metadata": {},
   "outputs": [
    {
     "data": {
      "text/html": [
       "<html><script type=\"math/tex; mode=display\">\\newcommand{\\Bold}[1]{\\mathbf{#1}}P\\scriptscriptstyle{[+1,s]}</script></html>"
      ],
      "text/plain": [
       "P\\scriptscriptstyle{[+1,s]}"
      ]
     },
     "metadata": {},
     "output_type": "display_data"
    }
   ],
   "source": [
    "show(LatexExpr(r\"P\\scriptscriptstyle{[+1,s]}\"))"
   ]
  },
  {
   "cell_type": "code",
   "execution_count": 10,
   "metadata": {},
   "outputs": [
    {
     "data": {
      "text/html": [
       "<html><script type=\"math/tex; mode=display\">\\newcommand{\\Bold}[1]{\\mathbf{#1}}y \\neq x^{20} + 1</script></html>"
      ],
      "text/plain": [
       "y \\neq x^{20} + 1"
      ]
     },
     "metadata": {},
     "output_type": "display_data"
    }
   ],
   "source": [
    "show(LatexExpr(r\"y \\neq\") + latex(x^20 + 1))"
   ]
  },
  {
   "cell_type": "code",
   "execution_count": 11,
   "metadata": {},
   "outputs": [
    {
     "data": {
      "text/plain": [
       "P_{[+1,s]}"
      ]
     },
     "execution_count": 11,
     "metadata": {},
     "output_type": "execute_result"
    }
   ],
   "source": [
    "LatexExpr(\"P_{[+1,s]}\")"
   ]
  },
  {
   "cell_type": "code",
   "execution_count": 12,
   "metadata": {},
   "outputs": [
    {
     "data": {
      "text/html": [
       "<html><script type=\"math/tex; mode=display\">\\newcommand{\\Bold}[1]{\\mathbf{#1}}P_{[+1,s]}</script></html>"
      ],
      "text/plain": [
       "P_{[+1,s]}"
      ]
     },
     "metadata": {},
     "output_type": "display_data"
    }
   ],
   "source": [
    "show(LatexExpr(\"P_{[+1,s]}\"))"
   ]
  },
  {
   "cell_type": "code",
   "execution_count": 13,
   "metadata": {},
   "outputs": [],
   "source": [
    "fn=maxima('function(e, n) := ratcoef(e, x, n)');"
   ]
  },
  {
   "cell_type": "code",
   "execution_count": 14,
   "metadata": {},
   "outputs": [
    {
     "data": {
      "text/plain": [
       "function(e,n):=ratcoef(e,x,n)"
      ]
     },
     "execution_count": 14,
     "metadata": {},
     "output_type": "execute_result"
    }
   ],
   "source": [
    "fn"
   ]
  },
  {
   "cell_type": "code",
   "execution_count": 15,
   "metadata": {},
   "outputs": [
    {
     "data": {
      "text/plain": [
       "(function(e,n):=ratcoef(e,x,n))(_SAGE_VAR_x^2,10)"
      ]
     },
     "execution_count": 15,
     "metadata": {},
     "output_type": "execute_result"
    }
   ],
   "source": [
    "fn(x^2, 10)"
   ]
  },
  {
   "cell_type": "code",
   "execution_count": 16,
   "metadata": {},
   "outputs": [],
   "source": [
    "msm=maxima(\"sremove(\\\"$\\\",tex('diff(5*x^4+3*y^2,x,y),false))\")"
   ]
  },
  {
   "cell_type": "code",
   "execution_count": 17,
   "metadata": {},
   "outputs": [
    {
     "data": {
      "text/html": [
       "<html><script type=\"math/tex; mode=display\">\\newcommand{\\Bold}[1]{\\mathbf{#1}}{{{\\it \\partial}^{y}}\\over{{\\it \\partial}\\,x^{y}}}\\,\\left(3\\,y^2+5\r\n",
       " \\,x^4\\right)</script></html>"
      ],
      "text/plain": [
       "{{{\\it \\partial}^{y}}\\over{{\\it \\partial}\\,x^{y}}}\\,\\left(3\\,y^2+5\r\n",
       " \\,x^4\\right)"
      ]
     },
     "metadata": {},
     "output_type": "display_data"
    }
   ],
   "source": [
    "show(LatexExpr(msm))"
   ]
  },
  {
   "cell_type": "code",
   "execution_count": 18,
   "metadata": {},
   "outputs": [
    {
     "data": {
      "text/plain": [
       "'{{{\\\\it\\\\partial}^{y}}\\\\over{{\\\\it\\\\partial}\\\\,x^{y}}}\\\\,\\\\left(3\\\\,y^2+5\\\\,x^4\\\\right)'"
      ]
     },
     "execution_count": 18,
     "metadata": {},
     "output_type": "execute_result"
    }
   ],
   "source": [
    "mss = msm.str()\n",
    "msqs = mss.replace('\\\"','').replace('\\\\\\\\','\\\\').replace('\\\"','')\n",
    "msqs"
   ]
  },
  {
   "cell_type": "code",
   "execution_count": 19,
   "metadata": {},
   "outputs": [
    {
     "data": {
      "text/html": [
       "<html><script type=\"math/tex; mode=display\">\\newcommand{\\Bold}[1]{\\mathbf{#1}}{{{\\it\\partial}^{y}}\\over{{\\it\\partial}\\,x^{y}}}\\,\\left(3\\,y^2+5\\,x^4\\right)</script></html>"
      ],
      "text/plain": [
       "{{{\\it\\partial}^{y}}\\over{{\\it\\partial}\\,x^{y}}}\\,\\left(3\\,y^2+5\\,x^4\\right)"
      ]
     },
     "metadata": {},
     "output_type": "display_data"
    }
   ],
   "source": [
    "show(LatexExpr(msqs))\n"
   ]
  },
  {
   "cell_type": "code",
   "execution_count": 20,
   "metadata": {},
   "outputs": [],
   "source": [
    "view(LatexExpr(msqs))"
   ]
  },
  {
   "cell_type": "code",
   "execution_count": 21,
   "metadata": {},
   "outputs": [
    {
     "data": {
      "text/html": [
       "<html><script type=\"math/tex; mode=display\">\\newcommand{\\Bold}[1]{\\mathbf{#1}}\\textbf{stationary points: }\\left(1, 2\\right), \\left(3, 4\\right), \\left(x, x^{2} - 1\\right)</script></html>"
      ],
      "text/plain": [
       "\\textbf{stationary points: }\\left(1, 2\\right), \\left(3, 4\\right), \\left(x, x^{2} - 1\\right)"
      ]
     },
     "metadata": {},
     "output_type": "display_data"
    }
   ],
   "source": [
    "var('x')\n",
    "stats=((1,2),(3,4),(x,x^2-1))\n",
    "tex_string = r\"\\textbf{stationary points: }\"\n",
    "tex_string += \", \".join(map(latex,stats))\n",
    "show(LatexExpr(tex_string))\n",
    "view(LatexExpr(tex_string))\n"
   ]
  },
  {
   "cell_type": "code",
   "execution_count": 22,
   "metadata": {},
   "outputs": [],
   "source": [
    "texString=r\"P\\scriptscriptstyle{[+1,s]}\""
   ]
  },
  {
   "cell_type": "code",
   "execution_count": 23,
   "metadata": {},
   "outputs": [
    {
     "data": {
      "text/html": [
       "<html><script type=\"math/tex; mode=display\">\\newcommand{\\Bold}[1]{\\mathbf{#1}}P\\scriptscriptstyle{[+1,s]}</script></html>"
      ],
      "text/plain": [
       "P\\scriptscriptstyle{[+1,s]}"
      ]
     },
     "metadata": {},
     "output_type": "display_data"
    }
   ],
   "source": [
    "show(LatexExpr(texString))"
   ]
  },
  {
   "cell_type": "code",
   "execution_count": 24,
   "metadata": {},
   "outputs": [],
   "source": [
    "latex.engine(\"xelatex\")"
   ]
  },
  {
   "cell_type": "code",
   "execution_count": 25,
   "metadata": {},
   "outputs": [
    {
     "data": {
      "text/latex": [
       "The equation $ y^2 = x^3 + x $ defines and elliptic curve.\n",
       "We have $2006 = {factor(2006)}$."
      ],
      "text/plain": [
       "<IPython.core.display.Latex object>"
      ]
     },
     "metadata": {},
     "output_type": "display_data"
    }
   ],
   "source": [
    "%%latex\n",
    "The equation $ y^2 = x^3 + x $ defines and elliptic curve.\n",
    "We have $2006 = {factor(2006)}$.\n"
   ]
  },
  {
   "cell_type": "code",
   "execution_count": 26,
   "metadata": {},
   "outputs": [
    {
     "data": {
      "text/plain": [
       "\"P_{\\\\scriptscriptstyle{[+1,s]}}\""
      ]
     },
     "execution_count": 26,
     "metadata": {},
     "output_type": "execute_result"
    }
   ],
   "source": [
    "maxima('defstruct(var_table (name, value, latex));vt_ch01:new(var_table);vt_ch01@name:P_p1_s;vt_ch01@value:0.97;vt_ch01@latex:\"P_{\\\\\\\\scriptscriptstyle{[+1,s]}}\"'); \n",
    "vtcl_latex=maxima('vt_ch01@latex');\n",
    "vtcl_latex"
   ]
  },
  {
   "cell_type": "code",
   "execution_count": 27,
   "metadata": {},
   "outputs": [
    {
     "data": {
      "text/html": [
       "<html><script type=\"math/tex; mode=display\">\\newcommand{\\Bold}[1]{\\mathbf{#1}}                        P_{\\scriptscriptstyle{[+1,s]}}</script></html>"
      ],
      "text/plain": [
       "                        P_{\\scriptscriptstyle{[+1,s]}}"
      ]
     },
     "metadata": {},
     "output_type": "display_data"
    }
   ],
   "source": [
    "show(LatexExpr(vtcl_latex))"
   ]
  },
  {
   "cell_type": "code",
   "execution_count": 28,
   "metadata": {
    "scrolled": true
   },
   "outputs": [
    {
     "data": {
      "text/plain": [
       "\"/home/fraser/projects/Math/maxima/cmt_struct_sage_test_101.mac\""
      ]
     },
     "execution_count": 28,
     "metadata": {},
     "output_type": "execute_result"
    }
   ],
   "source": [
    "maxima('load(\"/home/fraser/projects/Math/maxima/cmt_struct_sage_test_101.mac\")')"
   ]
  },
  {
   "cell_type": "code",
   "execution_count": 29,
   "metadata": {},
   "outputs": [
    {
     "data": {
      "text/plain": [
       "[P_p1_s,0.0531,\"P_{\\\\scriptscriptstyle{[+1,s]}}\",\"P_{[+1,s]}\"]"
      ]
     },
     "execution_count": 29,
     "metadata": {},
     "output_type": "execute_result"
    }
   ],
   "source": [
    "maxima('vals:[vinfo_ch01@name,vinfo_ch01@value,assoc(\\'math,vinfo_ch01@latex),assoc(\\'text, vinfo_ch01@latex)];print(vals)')"
   ]
  },
  {
   "cell_type": "code",
   "execution_count": 30,
   "metadata": {},
   "outputs": [
    {
     "data": {
      "text/html": [
       "<html><script type=\"math/tex; mode=display\">\\newcommand{\\Bold}[1]{\\mathbf{#1}}                                  P_{[+1,s]}</script></html>"
      ],
      "text/plain": [
       "                                  P_{[+1,s]}"
      ]
     },
     "metadata": {},
     "output_type": "display_data"
    }
   ],
   "source": [
    "vinf_latex_math=maxima('assoc(\\'text, vinfo_ch01@latex)');\n",
    "vinf_latex_math\n",
    "show(LatexExpr(vinf_latex_math))"
   ]
  },
  {
   "cell_type": "code",
   "execution_count": 31,
   "metadata": {},
   "outputs": [],
   "source": [
    "view(LatexExpr(vinf_latex_math))"
   ]
  },
  {
   "cell_type": "code",
   "execution_count": 32,
   "metadata": {},
   "outputs": [
    {
     "data": {
      "text/html": [
       "<html><script type=\"math/tex; mode=display\">\\newcommand{\\Bold}[1]{\\mathbf{#1}}                                  P_{[+1,s]}</script></html>"
      ],
      "text/plain": [
       "                                  P_{[+1,s]}"
      ]
     },
     "metadata": {},
     "output_type": "display_data"
    }
   ],
   "source": [
    "vinf_latex_text=maxima('assoc(\\'text, vinfo_ch01@latex)');\n",
    "vinf_latex_text\n",
    "show(LatexExpr(vinf_latex_text))"
   ]
  },
  {
   "cell_type": "code",
   "execution_count": 33,
   "metadata": {},
   "outputs": [],
   "source": [
    "view(LatexExpr(vinf_latex_text))"
   ]
  },
  {
   "cell_type": "code",
   "execution_count": 34,
   "metadata": {},
   "outputs": [],
   "source": [
    "latex.engine('latex')"
   ]
  },
  {
   "cell_type": "code",
   "execution_count": 35,
   "metadata": {},
   "outputs": [],
   "source": [
    "# This 2 step method keeps maxima and sage from mangling the string of tex received\n",
    "# from maxima by sagemath but does not appear to work with all of my maxima-based latex \n",
    "ftl01=maxima.eval(\"finfo_Pv_z@latex\");\n",
    "finf_latex_01=maxima(ftl01)"
   ]
  },
  {
   "cell_type": "code",
   "execution_count": 36,
   "metadata": {},
   "outputs": [
    {
     "data": {
      "text/plain": [
       "'\"P_\\\\\\\\nu(z)=\\\\\\\\left|\\\\\\\\omega_\\\\\\\\nu\\\\\\\\right|\\\\\\\\sum_{-\\\\\\\\infty}^{\\\\\\\\infty}p_{\\\\\\\\scriptscriptstyle{-}}\\\\\\\\left|a_{\\\\\\\\scriptscriptstyle{-\\\\\\\\nu}}(z)\\\\\\\\right|^2\"'"
      ]
     },
     "execution_count": 36,
     "metadata": {},
     "output_type": "execute_result"
    }
   ],
   "source": [
    "ftl01"
   ]
  },
  {
   "cell_type": "code",
   "execution_count": 37,
   "metadata": {},
   "outputs": [
    {
     "data": {
      "text/plain": [
       "\"P_\\\\nu(z)=\\\\left|\\\\omega_\\\\nu\\\\right|\\\\sum_{-\\\\infty}^{\\\\infty}p_{\\\\scriptscriptstyle{-}}\\\\left|a_{\\\\scriptscriptstyle{-\\\\nu}}(z)\\\\right|^2\""
      ]
     },
     "execution_count": 37,
     "metadata": {},
     "output_type": "execute_result"
    }
   ],
   "source": [
    "LatexExpr(ftl01)"
   ]
  },
  {
   "cell_type": "code",
   "execution_count": 38,
   "metadata": {},
   "outputs": [
    {
     "data": {
      "text/plain": [
       "\"P_\\\\nu(z)=\\\\left|\\\\omega_\\\\nu\\\\right|\\\\sum_{-\\\\infty}^{\\\\infty}p_{\\\\scriptscriptstyle{-}}\\\\left|a_{\\\\scriptscriptstyle{-\\\\nu}}(z)\\\\right|^2\""
      ]
     },
     "execution_count": 38,
     "metadata": {},
     "output_type": "execute_result"
    }
   ],
   "source": [
    "finf_latex_01"
   ]
  },
  {
   "cell_type": "code",
   "execution_count": 39,
   "metadata": {},
   "outputs": [
    {
     "data": {
      "text/plain": [
       "P_\\nu(z)=\\left|\\omega_\\nu\\right|\\sum_{-\\infty}^{\\infty}p_{\\scriptscriptstyle{-\\\r\n",
       "}}\\left|a_{\\scriptscriptstyle{-\\nu}}(z)\\right|^2"
      ]
     },
     "execution_count": 39,
     "metadata": {},
     "output_type": "execute_result"
    }
   ],
   "source": [
    "LatexExpr(finf_latex_01)"
   ]
  },
  {
   "cell_type": "code",
   "execution_count": 40,
   "metadata": {},
   "outputs": [
    {
     "data": {
      "text/html": [
       "<html><script type=\"math/tex; mode=display\">\\newcommand{\\Bold}[1]{\\mathbf{#1}}P_{[+1,s]}</script></html>"
      ],
      "text/plain": [
       "P_{[+1,s]}"
      ]
     },
     "metadata": {},
     "output_type": "display_data"
    }
   ],
   "source": [
    "show(LatexExpr(\"P_{[+1,s]}\"))"
   ]
  },
  {
   "cell_type": "code",
   "execution_count": 41,
   "metadata": {},
   "outputs": [
    {
     "data": {
      "text/plain": [
       "\"P_\\\\nu(z)=\\\\left|\\\\omega_\\\\nu\\\\right|\\\\sum_{-\\\\infty}^{\\\\infty}p_{\\\\scriptscriptstyle{-}}\\\\left|a_{\\\\scriptscriptstyle{-\\\\nu}}(z)\\\\right|^2\""
      ]
     },
     "execution_count": 41,
     "metadata": {},
     "output_type": "execute_result"
    }
   ],
   "source": [
    "finf_latex_01"
   ]
  },
  {
   "cell_type": "code",
   "execution_count": 42,
   "metadata": {},
   "outputs": [
    {
     "data": {
      "text/html": [
       "<html><script type=\"math/tex; mode=display\">\\newcommand{\\Bold}[1]{\\mathbf{#1}}P_\\nu(z)=\\left|\\omega_\\nu\\right|\\sum_{-\\infty}^{\\infty}p_{\\scriptscriptstyle{-\\\r\n",
       "}}\\left|a_{\\scriptscriptstyle{-\\nu}}(z)\\right|^2</script></html>"
      ],
      "text/plain": [
       "P_\\nu(z)=\\left|\\omega_\\nu\\right|\\sum_{-\\infty}^{\\infty}p_{\\scriptscriptstyle{-\\\r\n",
       "}}\\left|a_{\\scriptscriptstyle{-\\nu}}(z)\\right|^2"
      ]
     },
     "metadata": {},
     "output_type": "display_data"
    }
   ],
   "source": [
    "show(LatexExpr(finf_latex_01))"
   ]
  },
  {
   "cell_type": "code",
   "execution_count": 43,
   "metadata": {},
   "outputs": [],
   "source": [
    "view(LatexExpr(finf_latex_01))"
   ]
  },
  {
   "cell_type": "code",
   "execution_count": 44,
   "metadata": {},
   "outputs": [],
   "source": [
    "fpvs=maxima.eval(\"finfo_Pv_z@latex\");"
   ]
  },
  {
   "cell_type": "code",
   "execution_count": 45,
   "metadata": {},
   "outputs": [
    {
     "data": {
      "text/plain": [
       "'\"P_\\\\\\\\nu(z)=\\\\\\\\left|\\\\\\\\omega_\\\\\\\\nu\\\\\\\\right|\\\\\\\\sum_{-\\\\\\\\infty}^{\\\\\\\\infty}p_{\\\\\\\\scriptscriptstyle{-}}\\\\\\\\left|a_{\\\\\\\\scriptscriptstyle{-\\\\\\\\nu}}(z)\\\\\\\\right|^2\"'"
      ]
     },
     "execution_count": 45,
     "metadata": {},
     "output_type": "execute_result"
    }
   ],
   "source": [
    "fpvs"
   ]
  },
  {
   "cell_type": "code",
   "execution_count": 46,
   "metadata": {},
   "outputs": [
    {
     "data": {
      "text/plain": [
       "'\"P_\\\\nu(z)=\\\\left|\\\\omega_\\\\nu\\\\right|\\\\sum_{-\\\\infty}^{\\\\infty}p_{\\\\scriptscriptstyle{-}}\\\\left|a_{\\\\scriptscriptstyle{-\\\\nu}}(z)\\\\right|^2\"'"
      ]
     },
     "execution_count": 46,
     "metadata": {},
     "output_type": "execute_result"
    }
   ],
   "source": [
    "fpvs.replace(\"\\\\\\\\\",\"\\\\\")"
   ]
  },
  {
   "cell_type": "code",
   "execution_count": 47,
   "metadata": {},
   "outputs": [
    {
     "data": {
      "text/plain": [
       "\"P_\\nu(z)=\\left|\\omega_\\nu\\right|\\sum_{-\\infty}^{\\infty}p_{\\scriptscriptstyle{-}}\\left|a_{\\scriptscriptstyle{-\\nu}}(z)\\right|^2\""
      ]
     },
     "execution_count": 47,
     "metadata": {},
     "output_type": "execute_result"
    }
   ],
   "source": [
    "LatexExpr(fpvs.replace(\"\\\\\\\\\",\"\\\\\"))"
   ]
  },
  {
   "cell_type": "code",
   "execution_count": 48,
   "metadata": {},
   "outputs": [
    {
     "data": {
      "text/html": [
       "<html><script type=\"math/tex; mode=display\">\\newcommand{\\Bold}[1]{\\mathbf{#1}}P_\\nu(z)=\\left|\\omega_\\nu\\right|\\sum_{-\\infty}^{\\infty}p_{\\scriptscriptstyle{-}}\\left|a_{\\scriptscriptstyle{-\\nu}}(z)\\right|^2</script></html>"
      ],
      "text/plain": [
       "P_\\nu(z)=\\left|\\omega_\\nu\\right|\\sum_{-\\infty}^{\\infty}p_{\\scriptscriptstyle{-}}\\left|a_{\\scriptscriptstyle{-\\nu}}(z)\\right|^2"
      ]
     },
     "metadata": {},
     "output_type": "display_data"
    }
   ],
   "source": [
    "show(LatexExpr(fpvs.replace(\"\\\\\\\\\",\"\\\\\").replace(\"\\\"\",\"\")))"
   ]
  },
  {
   "cell_type": "code",
   "execution_count": 49,
   "metadata": {},
   "outputs": [],
   "source": [
    "view(LatexExpr(fpvs.replace(\"\\\\\\\\\",\"\\\\\").replace(\"\\\"\",\"\")))"
   ]
  },
  {
   "cell_type": "code",
   "execution_count": 50,
   "metadata": {},
   "outputs": [
    {
     "data": {
      "text/plain": [
       "'\"P_{\\\\\\\\scriptscriptstyle{dz}}(z)=\\\\\\\\frac{\\\\\\\\partial}{\\\\\\\\partial{z}}\\\\\\\\sum_{m=-\\\\\\\\infty}^{\\\\\\\\infty}~q_\\\\\\\\nu~p_{\\\\\\\\scriptscriptstyle{-}}\\\\\\\\left|a_{-\\\\\\\\nu}(z)\\\\\\\\right|^2\"'"
      ]
     },
     "execution_count": 50,
     "metadata": {},
     "output_type": "execute_result"
    }
   ],
   "source": [
    "# in this case the latex string was not processed properly by LatexExpr\n",
    "# use the maxima.eval() string.replace() method below from now on\n",
    "# use ~ (tilde) in latex strings from maxima to separate latex parts \n",
    "# LatexExpr appears to take out spaces, leading to misinterpreted format commands\n",
    "ftl02=maxima.eval(\"finfo_Pdz_z@latex\")\n",
    "finf_latex_02=maxima(ftl02)\n",
    "ftl02\n",
    "# finf_latex_02=maxima(\"finfo_Pdz_z@latex\")"
   ]
  },
  {
   "cell_type": "code",
   "execution_count": 51,
   "metadata": {},
   "outputs": [
    {
     "data": {
      "text/plain": [
       "\"P_{\\\\scriptscriptstyle{dz}}(z)=\\\\frac{\\\\partial}{\\\\partial{z}}\\\\sum_{m=-\\\\infty}^{\\\\infty}~q_\\\\nu~p_{\\\\scriptscriptstyle{-}}\\\\left|a_{-\\\\nu}(z)\\\\right|^2\""
      ]
     },
     "execution_count": 51,
     "metadata": {},
     "output_type": "execute_result"
    }
   ],
   "source": [
    "finf_latex_02"
   ]
  },
  {
   "cell_type": "code",
   "execution_count": 52,
   "metadata": {},
   "outputs": [
    {
     "data": {
      "text/plain": [
       "<class 'sage.interfaces.maxima.MaximaElement'>"
      ]
     },
     "execution_count": 52,
     "metadata": {},
     "output_type": "execute_result"
    }
   ],
   "source": [
    "type(finf_latex_02)"
   ]
  },
  {
   "cell_type": "code",
   "execution_count": 53,
   "metadata": {},
   "outputs": [
    {
     "data": {
      "text/plain": [
       "P_{\\scriptscriptstyle{dz}}(z)=\\frac{\\partial}{\\partial{z}}\\sum_{m=-\\infty}^{\\i\\\r\n",
       "nfty}~q_\\nu~p_{\\scriptscriptstyle{-}}\\left|a_{-\\nu}(z)\\right|^2"
      ]
     },
     "execution_count": 53,
     "metadata": {},
     "output_type": "execute_result"
    }
   ],
   "source": [
    "LatexExpr(finf_latex_02)"
   ]
  },
  {
   "cell_type": "code",
   "execution_count": 54,
   "metadata": {},
   "outputs": [
    {
     "data": {
      "text/html": [
       "<html><script type=\"math/tex; mode=display\">\\newcommand{\\Bold}[1]{\\mathbf{#1}}P_{\\scriptscriptstyle{dz}}(z)=\\frac{\\partial}{\\partial{z}}\\sum_{m=-\\infty}^{\\i\\\r\n",
       "nfty}~q_\\nu~p_{\\scriptscriptstyle{-}}\\left|a_{-\\nu}(z)\\right|^2</script></html>"
      ],
      "text/plain": [
       "P_{\\scriptscriptstyle{dz}}(z)=\\frac{\\partial}{\\partial{z}}\\sum_{m=-\\infty}^{\\i\\\r\n",
       "nfty}~q_\\nu~p_{\\scriptscriptstyle{-}}\\left|a_{-\\nu}(z)\\right|^2"
      ]
     },
     "metadata": {},
     "output_type": "display_data"
    }
   ],
   "source": [
    "show(LatexExpr(finf_latex_02))"
   ]
  },
  {
   "cell_type": "code",
   "execution_count": 55,
   "metadata": {},
   "outputs": [
    {
     "data": {
      "text/plain": [
       "'P_{\\\\scriptscriptstyle{dz}}(z)=\\\\frac{\\\\partial}{\\\\partial{z}}\\\\sum_{m=-\\\\infty}^{\\\\infty}~q_\\\\nu~p_{\\\\scriptscriptstyle{-}}\\\\left|a_{-\\\\nu}(z)\\\\right|^2'"
      ]
     },
     "execution_count": 55,
     "metadata": {},
     "output_type": "execute_result"
    }
   ],
   "source": [
    "ffl02 = finf_latex_02.str()\n",
    "rfl02=ffl02.replace(\"\\\\\\\\\",\"\\\\\").replace('\\\"','')\n",
    "rfl02"
   ]
  },
  {
   "cell_type": "code",
   "execution_count": 56,
   "metadata": {},
   "outputs": [
    {
     "data": {
      "text/plain": [
       "P_{\\scriptscriptstyle{dz}}(z)=\\frac{\\partial}{\\partial{z}}\\sum_{m=-\\infty}^{\\infty}~q_\\nu~p_{\\scriptscriptstyle{-}}\\left|a_{-\\nu}(z)\\right|^2"
      ]
     },
     "execution_count": 56,
     "metadata": {},
     "output_type": "execute_result"
    }
   ],
   "source": [
    "LatexExpr(rfl02)"
   ]
  },
  {
   "cell_type": "code",
   "execution_count": 57,
   "metadata": {
    "scrolled": true
   },
   "outputs": [
    {
     "data": {
      "text/html": [
       "<html><script type=\"math/tex; mode=display\">\\newcommand{\\Bold}[1]{\\mathbf{#1}}P_{\\scriptscriptstyle{dz}}(z)=\\frac{\\partial}{\\partial{z}}\\sum_{m=-\\infty}^{\\infty}~q_\\nu~p_{\\scriptscriptstyle{-}}\\left|a_{-\\nu}(z)\\right|^2</script></html>"
      ],
      "text/plain": [
       "P_{\\scriptscriptstyle{dz}}(z)=\\frac{\\partial}{\\partial{z}}\\sum_{m=-\\infty}^{\\infty}~q_\\nu~p_{\\scriptscriptstyle{-}}\\left|a_{-\\nu}(z)\\right|^2"
      ]
     },
     "metadata": {},
     "output_type": "display_data"
    }
   ],
   "source": [
    "show(LatexExpr(rfl02))"
   ]
  },
  {
   "cell_type": "markdown",
   "metadata": {},
   "source": [
    "#### Starting With a Plain String Instead of a Maxima Object"
   ]
  },
  {
   "cell_type": "code",
   "execution_count": 58,
   "metadata": {},
   "outputs": [],
   "source": [
    "finf_latex_03 =\"P_{\\\\scriptscriptstyle{dz}}(z)=\\\\frac{\\\\partial}{\\\\partial{z}}\\\\sum_{m=-\\\\infty}^{\\\\\\\\\\\\infty}~q_\\\\nu~p_{\\\\scriptscriptstyle{-}}\\\\left|a_{-\\\\nu}(z)\\\\right|^2\""
   ]
  },
  {
   "cell_type": "code",
   "execution_count": 59,
   "metadata": {},
   "outputs": [
    {
     "data": {
      "text/plain": [
       "P_{\\scriptscriptstyle{dz}}(z)=\\frac{\\partial}{\\partial{z}}\\sum_{m=-\\infty}^{\\\\\\infty}~q_\\nu~p_{\\scriptscriptstyle{-}}\\left|a_{-\\nu}(z)\\right|^2"
      ]
     },
     "execution_count": 59,
     "metadata": {},
     "output_type": "execute_result"
    }
   ],
   "source": [
    "LatexExpr(finf_latex_03)"
   ]
  },
  {
   "cell_type": "code",
   "execution_count": 60,
   "metadata": {},
   "outputs": [
    {
     "data": {
      "text/html": [
       "<html><script type=\"math/tex; mode=display\">\\newcommand{\\Bold}[1]{\\mathbf{#1}}P_{\\scriptscriptstyle{dz}}(z)=\\frac{\\partial}{\\partial{z}}\\sum_{m=-\\infty}^{\\\\\\infty}~q_\\nu~p_{\\scriptscriptstyle{-}}\\left|a_{-\\nu}(z)\\right|^2</script></html>"
      ],
      "text/plain": [
       "P_{\\scriptscriptstyle{dz}}(z)=\\frac{\\partial}{\\partial{z}}\\sum_{m=-\\infty}^{\\\\\\infty}~q_\\nu~p_{\\scriptscriptstyle{-}}\\left|a_{-\\nu}(z)\\right|^2"
      ]
     },
     "metadata": {},
     "output_type": "display_data"
    }
   ],
   "source": [
    "show(LatexExpr(finf_latex_03.replace(\"\\\\nfty\",\"\\nfty\")))"
   ]
  },
  {
   "cell_type": "code",
   "execution_count": 61,
   "metadata": {},
   "outputs": [
    {
     "data": {
      "text/plain": [
       "<class 'sage.interfaces.maxima.MaximaElement'>"
      ]
     },
     "execution_count": 61,
     "metadata": {},
     "output_type": "execute_result"
    }
   ],
   "source": [
    "type(finf_latex_02)"
   ]
  },
  {
   "cell_type": "code",
   "execution_count": null,
   "metadata": {},
   "outputs": [],
   "source": []
  },
  {
   "cell_type": "code",
   "execution_count": 62,
   "metadata": {},
   "outputs": [
    {
     "data": {
      "text/html": [
       "<html><script type=\"math/tex; mode=display\">\\newcommand{\\Bold}[1]{\\mathbf{#1}}P_{\\scriptscriptstyle{dz}}(z)=\\frac{\\partial}{\\partial{z}}\\sum_{m=-\\infty}^{\\i\\\r\n",
       "nfty}~q_\\nu~p_{\\scriptscriptstyle{-}}\\left|a_{-\\nu}(z)\\right|^2</script></html>"
      ],
      "text/plain": [
       "P_{\\scriptscriptstyle{dz}}(z)=\\frac{\\partial}{\\partial{z}}\\sum_{m=-\\infty}^{\\i\\\r\n",
       "nfty}~q_\\nu~p_{\\scriptscriptstyle{-}}\\left|a_{-\\nu}(z)\\right|^2"
      ]
     },
     "metadata": {},
     "output_type": "display_data"
    }
   ],
   "source": [
    "\n",
    "show(LatexExpr(finf_latex_02))"
   ]
  },
  {
   "cell_type": "code",
   "execution_count": 63,
   "metadata": {},
   "outputs": [],
   "source": [
    "# THIS maxima.eval() string-based method works as long as you use ~ (tilde) to separate latex commands\n",
    "# LatexExpr rams latex commands together in some cases, resulting in bad formatting or rejection by latex\n",
    "# The latex strings in maxima may be able to revert to single backslash, but sage side won't need the replace()\n",
    "# for \\\\\\\\ -> \\\\\n",
    "# The replace for the extra double quotes at each end will still be required."
   ]
  },
  {
   "cell_type": "code",
   "execution_count": 64,
   "metadata": {},
   "outputs": [
    {
     "data": {
      "text/plain": [
       "'\"P_{\\\\\\\\scriptscriptstyle{dz}}(z)=\\\\\\\\frac{\\\\\\\\partial}{\\\\\\\\partial{z}}\\\\\\\\sum_{m=-\\\\\\\\infty}^{\\\\\\\\infty}~q_\\\\\\\\nu~p_{\\\\\\\\scriptscriptstyle{-}}\\\\\\\\left|a_{-\\\\\\\\nu}(z)\\\\\\\\right|^2\"'"
      ]
     },
     "execution_count": 64,
     "metadata": {},
     "output_type": "execute_result"
    }
   ],
   "source": [
    "fpdzs=maxima.eval(\"finfo_Pdz_z@latex\")\n",
    "fpdzs"
   ]
  },
  {
   "cell_type": "code",
   "execution_count": 65,
   "metadata": {},
   "outputs": [
    {
     "data": {
      "text/plain": [
       "'\"P_{\\\\scriptscriptstyle{dz}}(z)=\\\\frac{\\\\partial}{\\\\partial{z}}\\\\sum_{m=-\\\\infty}^{\\\\infty}~q_\\\\nu~p_{\\\\scriptscriptstyle{-}}\\\\left|a_{-\\\\nu}(z)\\\\right|^2\"'"
      ]
     },
     "execution_count": 65,
     "metadata": {},
     "output_type": "execute_result"
    }
   ],
   "source": [
    "fpdzs.replace(\"\\\\\\\\\",\"\\\\\")"
   ]
  },
  {
   "cell_type": "code",
   "execution_count": 66,
   "metadata": {},
   "outputs": [
    {
     "data": {
      "text/plain": [
       "\"P_{\\scriptscriptstyle{dz}}(z)=\\frac{\\partial}{\\partial{z}}\\sum_{m=-\\infty}^{\\infty}~q_\\nu~p_{\\scriptscriptstyle{-}}\\left|a_{-\\nu}(z)\\right|^2\""
      ]
     },
     "execution_count": 66,
     "metadata": {},
     "output_type": "execute_result"
    }
   ],
   "source": [
    "LatexExpr(fpdzs.replace(\"\\\\\\\\\",\"\\\\\"))"
   ]
  },
  {
   "cell_type": "code",
   "execution_count": 67,
   "metadata": {},
   "outputs": [
    {
     "data": {
      "text/html": [
       "<html><script type=\"math/tex; mode=display\">\\newcommand{\\Bold}[1]{\\mathbf{#1}}P_{\\scriptscriptstyle{dz}}(z)=\\frac{\\partial}{\\partial{z}}\\sum_{m=-\\infty}^{\\infty}~q_\\nu~p_{\\scriptscriptstyle{-}}\\left|a_{-\\nu}(z)\\right|^2</script></html>"
      ],
      "text/plain": [
       "P_{\\scriptscriptstyle{dz}}(z)=\\frac{\\partial}{\\partial{z}}\\sum_{m=-\\infty}^{\\infty}~q_\\nu~p_{\\scriptscriptstyle{-}}\\left|a_{-\\nu}(z)\\right|^2"
      ]
     },
     "metadata": {},
     "output_type": "display_data"
    }
   ],
   "source": [
    "show(LatexExpr(fpdzs.replace(\"\\\\\\\\\",\"\\\\\").replace(\"\\\"\",\"\")))"
   ]
  },
  {
   "cell_type": "code",
   "execution_count": 68,
   "metadata": {},
   "outputs": [],
   "source": [
    "view(LatexExpr(fpdzs.replace(\"\\\\\\\\\",\"\\\\\").replace(\"\\\"\",\"\")))"
   ]
  },
  {
   "cell_type": "code",
   "execution_count": 69,
   "metadata": {},
   "outputs": [],
   "source": [
    "# THE LINES BELOW ARE SIMILAR TO THE ONES ABOVE BUT FROM A DIFFERENT FILE\n",
    "# THIS FILE WAS USED TO TROUBLESHOOT LATEX TRANSFER ISSUES FROM MAXIMA TO SAGE\n",
    "# THE LATEX SPACE SYMBOL ~ (TILDE) WAS USED TO PREVENT MASHING TOGETHER OF LATEX CODE"
   ]
  },
  {
   "cell_type": "code",
   "execution_count": 70,
   "metadata": {},
   "outputs": [
    {
     "data": {
      "text/plain": [
       "\"/home/fraser/projects/Math/maxima/cmt_struct_sage_test_102.mac\""
      ]
     },
     "execution_count": 70,
     "metadata": {},
     "output_type": "execute_result"
    }
   ],
   "source": [
    "maxima('load(\"/home/fraser/projects/Math/maxima/cmt_struct_sage_test_102.mac\")')"
   ]
  },
  {
   "cell_type": "code",
   "execution_count": 71,
   "metadata": {},
   "outputs": [],
   "source": [
    "fpdzv=maxima(\"finfo_Pdz_z@latex\");\n",
    "fpdzs=maxima.eval(\"finfo_Pdz_z@latex\");"
   ]
  },
  {
   "cell_type": "code",
   "execution_count": 72,
   "metadata": {},
   "outputs": [
    {
     "data": {
      "text/plain": [
       "\"P_{dz}(z)~=~\\\\left|~\\\\omega_\\\\nu~\\\\right|~\\\\sum_{-\\\\infty}^{\\\\infty}~p_{m}~\\\\left|~a_{-\\\\nu}~(z)\\\\right|^2\""
      ]
     },
     "execution_count": 72,
     "metadata": {},
     "output_type": "execute_result"
    }
   ],
   "source": [
    "fpdzv"
   ]
  },
  {
   "cell_type": "code",
   "execution_count": 73,
   "metadata": {},
   "outputs": [
    {
     "data": {
      "text/plain": [
       "'\"P_{dz}(z)~=~\\\\\\\\left|~\\\\\\\\omega_\\\\\\\\nu~\\\\\\\\right|~\\\\\\\\sum_{-\\\\\\\\infty}^{\\\\\\\\infty}~p_{m}~\\\\\\\\left|~a_{-\\\\\\\\nu}~(z)\\\\\\\\right|^2\"'"
      ]
     },
     "execution_count": 73,
     "metadata": {},
     "output_type": "execute_result"
    }
   ],
   "source": [
    "fpdzs"
   ]
  },
  {
   "cell_type": "code",
   "execution_count": 74,
   "metadata": {},
   "outputs": [
    {
     "data": {
      "text/plain": [
       "P_{dz}(z)~= ~\\left|~\\omega_\\nu~\\right|~\\sum_{-\\infty}^{\\infty}~p_{m}~\\left|~a_\\\r\n",
       "{-\\nu}~(z)\\right|^2"
      ]
     },
     "execution_count": 74,
     "metadata": {},
     "output_type": "execute_result"
    }
   ],
   "source": [
    "LatexExpr(fpdzv)\n"
   ]
  },
  {
   "cell_type": "code",
   "execution_count": 75,
   "metadata": {},
   "outputs": [
    {
     "data": {
      "text/plain": [
       "\"P_{dz}(z)~=~\\\\left|~\\\\omega_\\\\nu~\\\\right|~\\\\sum_{-\\\\infty}^{\\\\infty}~p_{m}~\\\\left|~a_{-\\\\nu}~(z)\\\\right|^2\""
      ]
     },
     "execution_count": 75,
     "metadata": {},
     "output_type": "execute_result"
    }
   ],
   "source": [
    "LatexExpr(fpdzs)"
   ]
  },
  {
   "cell_type": "code",
   "execution_count": 76,
   "metadata": {},
   "outputs": [
    {
     "data": {
      "text/html": [
       "<html><script type=\"math/tex; mode=display\">\\newcommand{\\Bold}[1]{\\mathbf{#1}}P_{dz}(z)~= ~\\left|~\\omega_\\nu~\\right|~\\sum_{-\\infty}^{\\infty}~p_{m}~\\left|~a_\\\r\n",
       "{-\\nu}~(z)\\right|^2</script></html>"
      ],
      "text/plain": [
       "P_{dz}(z)~= ~\\left|~\\omega_\\nu~\\right|~\\sum_{-\\infty}^{\\infty}~p_{m}~\\left|~a_\\\r\n",
       "{-\\nu}~(z)\\right|^2"
      ]
     },
     "metadata": {},
     "output_type": "display_data"
    }
   ],
   "source": [
    "# USING ONLY maxima() causes bad reception of the latex from maxima by sagemath.\n",
    "# USE maxima.eval, then use .replace(\"\\\\\\\\\",\"\\\\\").replace(\"\\\"\",\"\") to clean up the string\n",
    "#\n",
    "show(LatexExpr(fpdzv))"
   ]
  },
  {
   "cell_type": "code",
   "execution_count": 77,
   "metadata": {},
   "outputs": [
    {
     "data": {
      "text/html": [
       "<html><script type=\"math/tex; mode=display\">\\newcommand{\\Bold}[1]{\\mathbf{#1}}P_{dz}(z)~=~\\left|~\\omega_\\nu~\\right|~\\sum_{-\\infty}^{\\infty}~p_{m}~\\left|~a_{-\\nu}~(z)\\right|^2</script></html>"
      ],
      "text/plain": [
       "P_{dz}(z)~=~\\left|~\\omega_\\nu~\\right|~\\sum_{-\\infty}^{\\infty}~p_{m}~\\left|~a_{-\\nu}~(z)\\right|^2"
      ]
     },
     "metadata": {},
     "output_type": "display_data"
    }
   ],
   "source": [
    "show(LatexExpr(fpdzs.replace(\"\\\\\\\\\",\"\\\\\").replace(\"\\\"\",\"\")))"
   ]
  },
  {
   "cell_type": "code",
   "execution_count": 78,
   "metadata": {},
   "outputs": [],
   "source": [
    "fpdz_str=\"P_{\\\\\\\\scriptscriptstyle{dz}}(z)=\\\\\\\\frac{\\\\\\\\partial}{\\\\\\\\partial{z}}\\\\\\\\sum_{m=-\\\\\\\\infty}^{\\\\\\\\infty}q_\\\\\\\\nu ~ p_{\\\\\\\\scriptscriptstyle{-}}\\\\\\\\left|a_{-\\\\\\\\nu}(z)\\\\\\\\right|^2\""
   ]
  },
  {
   "cell_type": "code",
   "execution_count": 79,
   "metadata": {},
   "outputs": [
    {
     "data": {
      "text/plain": [
       "'P_{\\\\\\\\scriptscriptstyle{dz}}(z)=\\\\\\\\frac{\\\\\\\\partial}{\\\\\\\\partial{z}}\\\\\\\\sum_{m=-\\\\\\\\infty}^{\\\\\\\\infty}q_\\\\\\\\nu ~ p_{\\\\\\\\scriptscriptstyle{-}}\\\\\\\\left|a_{-\\\\\\\\nu}(z)\\\\\\\\right|^2'"
      ]
     },
     "execution_count": 79,
     "metadata": {},
     "output_type": "execute_result"
    }
   ],
   "source": [
    "fpdz_str"
   ]
  },
  {
   "cell_type": "code",
   "execution_count": 80,
   "metadata": {},
   "outputs": [
    {
     "data": {
      "text/plain": [
       "P_{\\scriptscriptstyle{dz}}(z)=\\frac{\\partial}{\\partial{z}}\\sum_{m=-\\infty}^{\\infty}q_\\nu ~ p_{\\scriptscriptstyle{-}}\\left|a_{-\\nu}(z)\\right|^2"
      ]
     },
     "execution_count": 80,
     "metadata": {},
     "output_type": "execute_result"
    }
   ],
   "source": [
    "LatexExpr(fpdz_str.replace(\"\\\\\\\\\",\"\\\\\"))"
   ]
  },
  {
   "cell_type": "code",
   "execution_count": 81,
   "metadata": {},
   "outputs": [
    {
     "data": {
      "text/plain": [
       "P_{\\scriptscriptstyle{dz}}(z)=\\frac{\\partial}{\\partial{z}}\\sum_{m=-\\infty}^{\\infty}q_\\nu ~ p_{\\scriptscriptstyle{-}}\\left|a_{-\\nu}(z)\\right|^2"
      ]
     },
     "execution_count": 81,
     "metadata": {},
     "output_type": "execute_result"
    }
   ],
   "source": [
    "LatexExpr(fpdz_str.replace(\"\\\\\\\\\",\"\\\\\"))"
   ]
  },
  {
   "cell_type": "code",
   "execution_count": 82,
   "metadata": {},
   "outputs": [
    {
     "data": {
      "text/html": [
       "<html><script type=\"math/tex; mode=display\">\\newcommand{\\Bold}[1]{\\mathbf{#1}}P_{\\scriptscriptstyle{dz}}(z)=\\frac{\\partial}{\\partial{z}}\\sum_{m=-\\infty}^{\\infty}q_\\nu ~ p_{\\scriptscriptstyle{-}}\\left|a_{-\\nu}(z)\\right|^2</script></html>"
      ],
      "text/plain": [
       "P_{\\scriptscriptstyle{dz}}(z)=\\frac{\\partial}{\\partial{z}}\\sum_{m=-\\infty}^{\\infty}q_\\nu ~ p_{\\scriptscriptstyle{-}}\\left|a_{-\\nu}(z)\\right|^2"
      ]
     },
     "metadata": {},
     "output_type": "display_data"
    }
   ],
   "source": [
    "show(LatexExpr(fpdz_str.replace(\"\\\\\\\\\",\"\\\\\")))"
   ]
  },
  {
   "cell_type": "code",
   "execution_count": 83,
   "metadata": {},
   "outputs": [
    {
     "data": {
      "text/plain": [
       "\"P_{dz}(z)~=~\\\\left|~\\\\omega_\\\\nu~\\\\right|~\\\\sum_{-\\\\infty}^{\\\\infty}~p_{m}~\\\\left|~a_{-\\\\nu}~(z)\\\\right|^2\""
      ]
     },
     "execution_count": 83,
     "metadata": {},
     "output_type": "execute_result"
    }
   ],
   "source": [
    "fpdz = maxima(\"finfo_Pdz_z@latex\")\n",
    "fpdz"
   ]
  },
  {
   "cell_type": "code",
   "execution_count": 84,
   "metadata": {},
   "outputs": [
    {
     "data": {
      "text/plain": [
       "P_{dz}(z)~= ~\\left|~\\omega_\\nu~\\right|~\\sum_{-\\infty}^{\\infty}~p_{m}~\\left|~a_\\\r\n",
       "{-\\nu}~(z)\\right|^2"
      ]
     },
     "execution_count": 84,
     "metadata": {},
     "output_type": "execute_result"
    }
   ],
   "source": [
    "LatexExpr(fpdz)"
   ]
  },
  {
   "cell_type": "code",
   "execution_count": 85,
   "metadata": {},
   "outputs": [
    {
     "data": {
      "text/html": [
       "<html><script type=\"math/tex; mode=display\">\\newcommand{\\Bold}[1]{\\mathbf{#1}}P_{dz}(z)~= ~\\left|~\\omega_\\nu~\\right|~\\sum_{-\\infty}^{\\infty}~p_{m}~\\left|~a_\\\r\n",
       "{-\\nu}~(z)\\right|^2</script></html>"
      ],
      "text/plain": [
       "P_{dz}(z)~= ~\\left|~\\omega_\\nu~\\right|~\\sum_{-\\infty}^{\\infty}~p_{m}~\\left|~a_\\\r\n",
       "{-\\nu}~(z)\\right|^2"
      ]
     },
     "metadata": {},
     "output_type": "display_data"
    }
   ],
   "source": [
    "show(LatexExpr(fpdz))"
   ]
  },
  {
   "cell_type": "markdown",
   "metadata": {},
   "source": [
    "#### Using maxima.get() Returns String Instead Of Maxima Object"
   ]
  },
  {
   "cell_type": "code",
   "execution_count": 86,
   "metadata": {},
   "outputs": [
    {
     "data": {
      "text/plain": [
       "'\"P_{dz}(z)~=~\\\\\\\\left|~\\\\\\\\omega_\\\\\\\\nu~\\\\\\\\right|~\\\\\\\\sum_{-\\\\\\\\infty}^{\\\\\\\\infty}~p_{m}~\\\\\\\\left|~a_{-\\\\\\\\nu}~(z)\\\\\\\\right|^2\"'"
      ]
     },
     "execution_count": 86,
     "metadata": {},
     "output_type": "execute_result"
    }
   ],
   "source": [
    "fpdz_get=maxima.get(\"finfo_Pdz_z@latex\")\n",
    "fpdz_get"
   ]
  },
  {
   "cell_type": "code",
   "execution_count": 87,
   "metadata": {},
   "outputs": [
    {
     "data": {
      "text/plain": [
       "<class 'str'>"
      ]
     },
     "execution_count": 87,
     "metadata": {},
     "output_type": "execute_result"
    }
   ],
   "source": [
    "type(fpdz_get)"
   ]
  },
  {
   "cell_type": "code",
   "execution_count": 88,
   "metadata": {},
   "outputs": [
    {
     "data": {
      "text/plain": [
       "\"P_{dz}(z)~=~\\\\left|~\\\\omega_\\\\nu~\\\\right|~\\\\sum_{-\\\\infty}^{\\\\infty}~p_{m}~\\\\left|~a_{-\\\\nu}~(z)\\\\right|^2\""
      ]
     },
     "execution_count": 88,
     "metadata": {},
     "output_type": "execute_result"
    }
   ],
   "source": [
    "LatexExpr(fpdz_get)"
   ]
  },
  {
   "cell_type": "markdown",
   "metadata": {},
   "source": [
    "#### Use string.replace() To Remove 2 backslashes And Enclosing Double Quotes"
   ]
  },
  {
   "cell_type": "code",
   "execution_count": 89,
   "metadata": {},
   "outputs": [
    {
     "data": {
      "text/plain": [
       "'P_{dz}(z)~=~\\\\left|~\\\\omega_\\\\nu~\\\\right|~\\\\sum_{-\\\\infty}^{\\\\infty}~p_{m}~\\\\left|~a_{-\\\\nu}~(z)\\\\right|^2'"
      ]
     },
     "execution_count": 89,
     "metadata": {},
     "output_type": "execute_result"
    }
   ],
   "source": [
    "fpdz_get_sub=fpdz_get.replace(\"\\\\\\\\\",\"\\\\\").replace('\\\"','')\n",
    "fpdz_get_sub"
   ]
  },
  {
   "cell_type": "code",
   "execution_count": 90,
   "metadata": {},
   "outputs": [
    {
     "data": {
      "text/html": [
       "<html><script type=\"math/tex; mode=display\">\\newcommand{\\Bold}[1]{\\mathbf{#1}}P_{dz}(z)~=~\\left|~\\omega_\\nu~\\right|~\\sum_{-\\infty}^{\\infty}~p_{m}~\\left|~a_{-\\nu}~(z)\\right|^2</script></html>"
      ],
      "text/plain": [
       "P_{dz}(z)~=~\\left|~\\omega_\\nu~\\right|~\\sum_{-\\infty}^{\\infty}~p_{m}~\\left|~a_{-\\nu}~(z)\\right|^2"
      ]
     },
     "metadata": {},
     "output_type": "display_data"
    }
   ],
   "source": [
    "show(LatexExpr(fpdz_get_sub))"
   ]
  },
  {
   "cell_type": "code",
   "execution_count": 91,
   "metadata": {},
   "outputs": [
    {
     "data": {
      "text/plain": [
       "S(A, \\omega_0, t, \\phi)=A~sin(\\omega_0~t + \\phi)"
      ]
     },
     "execution_count": 91,
     "metadata": {},
     "output_type": "execute_result"
    }
   ],
   "source": [
    "tf_01 = \"S(A, \\\\omega_0, t, \\\\phi)=A~sin(\\\\omega_0~t + \\\\phi)\"\n",
    "le_tf_01 = LatexExpr(tf_01)\n",
    "le_tf_01"
   ]
  },
  {
   "cell_type": "code",
   "execution_count": 92,
   "metadata": {},
   "outputs": [
    {
     "data": {
      "text/html": [
       "<html><script type=\"math/tex; mode=display\">\\newcommand{\\Bold}[1]{\\mathbf{#1}}S(A, \\omega_0, t, \\phi)=A~sin(\\omega_0~t + \\phi)</script></html>"
      ],
      "text/plain": [
       "S(A, \\omega_0, t, \\phi)=A~sin(\\omega_0~t + \\phi)"
      ]
     },
     "metadata": {},
     "output_type": "display_data"
    }
   ],
   "source": [
    "show(le_tf_01)"
   ]
  },
  {
   "cell_type": "code",
   "execution_count": 93,
   "metadata": {},
   "outputs": [
    {
     "data": {
      "text/plain": [
       "'\\\\frac{A_{0}}{z}\\\\,sin(k_a~z)~e^{\\\\left( \\\\frac{-i~\\\\pi~z}{4}\\\\right)}'"
      ]
     },
     "execution_count": 93,
     "metadata": {},
     "output_type": "execute_result"
    }
   ],
   "source": [
    "tf_02=r\"\\frac{A_{0}}{z}\\,sin(k_a~z)~e^{\\left( \\frac{-i~\\pi~z}{4}\\right)}\"\n",
    "tf_02\n"
   ]
  },
  {
   "cell_type": "code",
   "execution_count": 94,
   "metadata": {},
   "outputs": [
    {
     "data": {
      "text/plain": [
       "\\frac{A_{0}}{z}\\,sin(k_a~z)~e^{\\left( \\frac{-i~\\pi~z}{4}\\right)}"
      ]
     },
     "execution_count": 94,
     "metadata": {},
     "output_type": "execute_result"
    }
   ],
   "source": [
    "le_tf_02=LatexExpr(tf_02)\n",
    "le_tf_02"
   ]
  },
  {
   "cell_type": "code",
   "execution_count": 95,
   "metadata": {},
   "outputs": [
    {
     "data": {
      "text/html": [
       "<html><script type=\"math/tex; mode=display\">\\newcommand{\\Bold}[1]{\\mathbf{#1}}\\frac{A_{0}}{z}\\,sin(k_a~z)~e^{\\left( \\frac{-i~\\pi~z}{4}\\right)}</script></html>"
      ],
      "text/plain": [
       "\\frac{A_{0}}{z}\\,sin(k_a~z)~e^{\\left( \\frac{-i~\\pi~z}{4}\\right)}"
      ]
     },
     "metadata": {},
     "output_type": "display_data"
    }
   ],
   "source": [
    "show(le_tf_02)"
   ]
  },
  {
   "cell_type": "code",
   "execution_count": 96,
   "metadata": {},
   "outputs": [
    {
     "data": {
      "text/plain": [
       "'\\\\frac{A_{0}}{z}\\\\,sin(k_a~z)~e^{\\\\left( \\\\frac{-i~\\\\pi~z}{4}\\\\right)}'"
      ]
     },
     "execution_count": 96,
     "metadata": {},
     "output_type": "execute_result"
    }
   ],
   "source": [
    "tf_03=\"\\\\frac{A_{0}}{z}\\\\,sin(k_a~z)~e^{\\\\left( \\\\frac{-i~\\\\pi~z}{4}\\\\right)}\"\n",
    "tf_03"
   ]
  },
  {
   "cell_type": "code",
   "execution_count": 97,
   "metadata": {},
   "outputs": [
    {
     "data": {
      "text/plain": [
       "\\frac{A_{0}}{z}\\,sin(k_a~z)~e^{\\left( \\frac{-i~\\pi~z}{4}\\right)}"
      ]
     },
     "execution_count": 97,
     "metadata": {},
     "output_type": "execute_result"
    }
   ],
   "source": [
    "le_tf_03=LatexExpr(tf_03)\n",
    "le_tf_03"
   ]
  },
  {
   "cell_type": "code",
   "execution_count": 98,
   "metadata": {},
   "outputs": [
    {
     "data": {
      "text/html": [
       "<html><script type=\"math/tex; mode=display\">\\newcommand{\\Bold}[1]{\\mathbf{#1}}\\frac{A_{0}}{z}\\,sin(k_a~z)~e^{\\left( \\frac{-i~\\pi~z}{4}\\right)}</script></html>"
      ],
      "text/plain": [
       "\\frac{A_{0}}{z}\\,sin(k_a~z)~e^{\\left( \\frac{-i~\\pi~z}{4}\\right)}"
      ]
     },
     "metadata": {},
     "output_type": "display_data"
    }
   ],
   "source": [
    "show(le_tf_03)"
   ]
  },
  {
   "cell_type": "code",
   "execution_count": 99,
   "metadata": {},
   "outputs": [
    {
     "data": {
      "text/plain": [
       "'E(r_t,z,t)=\\\\sum_{k=-\\\\infty}^{\\\\infty}(A_k(A_0,k_A,z)~E_k(r_t)~e^{ \\\\left( i \\\\omega t-\\\\gamma_k z \\\\right)}'"
      ]
     },
     "execution_count": 99,
     "metadata": {},
     "output_type": "execute_result"
    }
   ],
   "source": [
    "tf_04=r\"E(r_t,z,t)=\\sum_{k=-\\infty}^{\\infty}(A_k(A_0,k_A,z)~E_k(r_t)~e^{ \\left( i \\omega t-\\gamma_k z \\right)}\"\n",
    "tf_04\n"
   ]
  },
  {
   "cell_type": "code",
   "execution_count": 100,
   "metadata": {},
   "outputs": [
    {
     "data": {
      "text/plain": [
       "E(r_t,z,t)=\\sum_{k=-\\infty}^{\\infty}(A_k(A_0,k_A,z)~E_k(r_t)~e^{ \\left( i \\omega t-\\gamma_k z \\right)}"
      ]
     },
     "execution_count": 100,
     "metadata": {},
     "output_type": "execute_result"
    }
   ],
   "source": [
    "le_tf_04=LatexExpr(tf_04)\n",
    "le_tf_04\n"
   ]
  },
  {
   "cell_type": "code",
   "execution_count": 101,
   "metadata": {},
   "outputs": [
    {
     "data": {
      "text/html": [
       "<html><script type=\"math/tex; mode=display\">\\newcommand{\\Bold}[1]{\\mathbf{#1}}E(r_t,z,t)=\\sum_{k=-\\infty}^{\\infty}(A_k(A_0,k_A,z)~E_k(r_t)~e^{ \\left( i \\omega t-\\gamma_k z \\right)}</script></html>"
      ],
      "text/plain": [
       "E(r_t,z,t)=\\sum_{k=-\\infty}^{\\infty}(A_k(A_0,k_A,z)~E_k(r_t)~e^{ \\left( i \\omega t-\\gamma_k z \\right)}"
      ]
     },
     "metadata": {},
     "output_type": "display_data"
    }
   ],
   "source": [
    "show(le_tf_04)"
   ]
  },
  {
   "cell_type": "code",
   "execution_count": 102,
   "metadata": {},
   "outputs": [
    {
     "data": {
      "text/plain": [
       "'E(r_t,z,t)=\\\\sum_{k=-\\\\infty}^{\\\\infty}(A_k(A_0,k_A,z)~E_k(r_t)~e^{\\\\left( i \\\\omega t \\\\gamma_k z \\\\right)}'"
      ]
     },
     "execution_count": 102,
     "metadata": {},
     "output_type": "execute_result"
    }
   ],
   "source": [
    "tf_05=\"E(r_t,z,t)=\\\\sum_{k=-\\\\infty}^{\\\\infty}(A_k(A_0,k_A,z)~E_k(r_t)~e^{\\\\left( i \\\\omega t \\\\gamma_k z \\\\right)}\"\n",
    "tf_05"
   ]
  },
  {
   "cell_type": "code",
   "execution_count": 103,
   "metadata": {},
   "outputs": [
    {
     "data": {
      "text/plain": [
       "E(r_t,z,t)=\\sum_{k=-\\infty}^{\\infty}(A_k(A_0,k_A,z)~E_k(r_t)~e^{\\left( i \\omega t \\gamma_k z \\right)}"
      ]
     },
     "execution_count": 103,
     "metadata": {},
     "output_type": "execute_result"
    }
   ],
   "source": [
    "le_tf_05=LatexExpr(tf_05)\n",
    "le_tf_05"
   ]
  },
  {
   "cell_type": "code",
   "execution_count": 104,
   "metadata": {},
   "outputs": [
    {
     "data": {
      "text/html": [
       "<html><script type=\"math/tex; mode=display\">\\newcommand{\\Bold}[1]{\\mathbf{#1}}E(r_t,z,t)=\\sum_{k=-\\infty}^{\\infty}(A_k(A_0,k_A,z)~E_k(r_t)~e^{\\left( i \\omega t \\gamma_k z \\right)}</script></html>"
      ],
      "text/plain": [
       "E(r_t,z,t)=\\sum_{k=-\\infty}^{\\infty}(A_k(A_0,k_A,z)~E_k(r_t)~e^{\\left( i \\omega t \\gamma_k z \\right)}"
      ]
     },
     "metadata": {},
     "output_type": "display_data"
    }
   ],
   "source": [
    "show(le_tf_05)"
   ]
  },
  {
   "cell_type": "code",
   "execution_count": 105,
   "metadata": {},
   "outputs": [
    {
     "data": {
      "text/plain": [
       "'E(r_t,z,t)~=~\\\\sum_{k=-\\\\infty}^{ \\\\infty}A_k(A_0,k_A,z)~E_k(r_t)~e^{ \\\\left( i \\\\omega t-\\\\gamma_k z\\\\right) }'"
      ]
     },
     "execution_count": 105,
     "metadata": {},
     "output_type": "execute_result"
    }
   ],
   "source": [
    "tf_06=\"E(r_t,z,t)~=~\\\\sum_{k=-\\\\infty}^{ \\\\infty}A_k(A_0,k_A,z)~E_k(r_t)~e^{ \\\\left( i \\\\omega t-\\\\gamma_k z\\\\right) }\" \n",
    "tf_06"
   ]
  },
  {
   "cell_type": "code",
   "execution_count": 106,
   "metadata": {},
   "outputs": [
    {
     "data": {
      "text/plain": [
       "E(r_t,z,t)~=~\\sum_{k=-\\infty}^{ \\infty}A_k(A_0,k_A,z)~E_k(r_t)~e^{ \\left( i \\omega t-\\gamma_k z\\right) }"
      ]
     },
     "execution_count": 106,
     "metadata": {},
     "output_type": "execute_result"
    }
   ],
   "source": [
    "le_tf_06=LatexExpr(tf_06)\n",
    "le_tf_06"
   ]
  },
  {
   "cell_type": "code",
   "execution_count": 107,
   "metadata": {},
   "outputs": [
    {
     "data": {
      "text/html": [
       "<html><script type=\"math/tex; mode=display\">\\newcommand{\\Bold}[1]{\\mathbf{#1}}E(r_t,z,t)~=~\\sum_{k=-\\infty}^{ \\infty}A_k(A_0,k_A,z)~E_k(r_t)~e^{ \\left( i \\omega t-\\gamma_k z\\right) }</script></html>"
      ],
      "text/plain": [
       "E(r_t,z,t)~=~\\sum_{k=-\\infty}^{ \\infty}A_k(A_0,k_A,z)~E_k(r_t)~e^{ \\left( i \\omega t-\\gamma_k z\\right) }"
      ]
     },
     "metadata": {},
     "output_type": "display_data"
    }
   ],
   "source": [
    "show(le_tf_06)"
   ]
  },
  {
   "cell_type": "code",
   "execution_count": 108,
   "metadata": {},
   "outputs": [
    {
     "data": {
      "text/html": [
       "<html><script type=\"math/tex; mode=display\">\\newcommand{\\Bold}[1]{\\mathbf{#1}}E(r_t,z,t)~=~\\sum_{k=-\\infty}^{ \\infty}A_k(A_0,k_A,z)~E_k(r_t)~e^{ \\left( i \\omega t-\\gamma_k z\\right) }</script></html>"
      ],
      "text/plain": [
       "E(r_t,z,t)~=~\\sum_{k=-\\infty}^{ \\infty}A_k(A_0,k_A,z)~E_k(r_t)~e^{ \\left( i \\omega t-\\gamma_k z\\right) }"
      ]
     },
     "metadata": {},
     "output_type": "display_data"
    }
   ],
   "source": [
    "show(LatexExpr(\"E(r_t,z,t)~=~\\\\sum_{k=-\\\\infty}^{ \\\\infty}A_k(A_0,k_A,z)~E_k(r_t)~e^{ \\\\left( i \\\\omega t-\\\\gamma_k z\\\\right) }\"))"
   ]
  },
  {
   "cell_type": "code",
   "execution_count": 109,
   "metadata": {},
   "outputs": [
    {
     "data": {
      "text/plain": [
       "'P_v(z)=\\\\sum_{m=-\\\\infty}^{\\\\infty}P_{vm}(z)'"
      ]
     },
     "execution_count": 109,
     "metadata": {},
     "output_type": "execute_result"
    }
   ],
   "source": [
    "tf_07=r\"P_v(z)=\\sum_{m=-\\infty}^{\\infty}P_{vm}(z)\"\n",
    "tf_07"
   ]
  },
  {
   "cell_type": "code",
   "execution_count": 110,
   "metadata": {},
   "outputs": [
    {
     "data": {
      "text/plain": [
       "P_v(z)=\\sum_{m=-\\infty}^{\\infty}P_{vm}(z)"
      ]
     },
     "execution_count": 110,
     "metadata": {},
     "output_type": "execute_result"
    }
   ],
   "source": [
    "le_tf_07=LatexExpr(tf_07)\n",
    "le_tf_07"
   ]
  },
  {
   "cell_type": "code",
   "execution_count": 111,
   "metadata": {},
   "outputs": [
    {
     "data": {
      "text/html": [
       "<html><script type=\"math/tex; mode=display\">\\newcommand{\\Bold}[1]{\\mathbf{#1}}P_v(z)=\\sum_{m=-\\infty}^{\\infty}P_{vm}(z)</script></html>"
      ],
      "text/plain": [
       "P_v(z)=\\sum_{m=-\\infty}^{\\infty}P_{vm}(z)"
      ]
     },
     "metadata": {},
     "output_type": "display_data"
    }
   ],
   "source": [
    "show(le_tf_07)"
   ]
  },
  {
   "cell_type": "code",
   "execution_count": 112,
   "metadata": {},
   "outputs": [
    {
     "data": {
      "text/plain": [
       "'P_v(z)=\\\\sum_{m=-\\\\infty}^{\\\\infty}P_{vm}(z)'"
      ]
     },
     "execution_count": 112,
     "metadata": {},
     "output_type": "execute_result"
    }
   ],
   "source": [
    "tf_08=\"P_v(z)=\\\\sum_{m=-\\\\infty}^{\\\\infty}P_{vm}(z)\"\n",
    "tf_08"
   ]
  },
  {
   "cell_type": "code",
   "execution_count": 113,
   "metadata": {},
   "outputs": [
    {
     "data": {
      "text/plain": [
       "P_v(z)=\\sum_{m=-\\infty}^{\\infty}P_{vm}(z)"
      ]
     },
     "execution_count": 113,
     "metadata": {},
     "output_type": "execute_result"
    }
   ],
   "source": [
    "le_tf_08=LatexExpr(tf_08)\n",
    "le_tf_08"
   ]
  },
  {
   "cell_type": "code",
   "execution_count": 114,
   "metadata": {},
   "outputs": [
    {
     "data": {
      "text/html": [
       "<html><script type=\"math/tex; mode=display\">\\newcommand{\\Bold}[1]{\\mathbf{#1}}P_v(z)=\\sum_{m=-\\infty}^{\\infty}P_{vm}(z)</script></html>"
      ],
      "text/plain": [
       "P_v(z)=\\sum_{m=-\\infty}^{\\infty}P_{vm}(z)"
      ]
     },
     "metadata": {},
     "output_type": "display_data"
    }
   ],
   "source": [
    "show(le_tf_08)"
   ]
  },
  {
   "cell_type": "code",
   "execution_count": 115,
   "metadata": {},
   "outputs": [
    {
     "data": {
      "text/html": [
       "<html><script type=\"math/tex; mode=display\">\\newcommand{\\Bold}[1]{\\mathbf{#1}}P_dz \\left( z \\right) = \\frac {\\partial{ \\sum_{m=-\\infty}^{\\infty} q_v~p_m \\left| a_m^{\\left( \\nu \\right)}\\right|^2 }</script></html>"
      ],
      "text/plain": [
       "P_dz \\left( z \\right) = \\frac {\\partial{ \\sum_{m=-\\infty}^{\\infty} q_v~p_m \\left| a_m^{\\left( \\nu \\right)}\\right|^2 }"
      ]
     },
     "metadata": {},
     "output_type": "display_data"
    }
   ],
   "source": [
    "show(LatexExpr(\"P_dz \\\\left( z \\\\right) = \\\\frac {\\\\partial{ \\\\sum_{m=-\\\\infty}^{\\\\infty} q_v~p_m \\\\left| a_m^{\\\\left( \\\\nu \\\\right)}\\\\right|^2 }\"))"
   ]
  },
  {
   "cell_type": "code",
   "execution_count": 116,
   "metadata": {},
   "outputs": [
    {
     "data": {
      "text/html": [
       "<html><script type=\"math/tex; mode=display\">\\newcommand{\\Bold}[1]{\\mathbf{#1}}P_{dz}\\left(z\\right)=\\frac{\\partial}{\\partial{z}}\\sum_{m=-\\infty}^{\\infty} q_v~p_m \\left| a_m^{\\left(\\nu\\right)}\\right|^2</script></html>"
      ],
      "text/plain": [
       "P_{dz}\\left(z\\right)=\\frac{\\partial}{\\partial{z}}\\sum_{m=-\\infty}^{\\infty} q_v~p_m \\left| a_m^{\\left(\\nu\\right)}\\right|^2"
      ]
     },
     "metadata": {},
     "output_type": "display_data"
    }
   ],
   "source": [
    "show(LatexExpr(\"P_{dz}\\\\left(z\\\\right)=\\\\frac{\\\\partial}{\\\\partial{z}}\\\\sum_{m=-\\\\infty}^{\\\\infty} q_v~p_m \\\\left| a_m^{\\\\left(\\\\nu\\\\right)}\\\\right|^2\" ))"
   ]
  },
  {
   "cell_type": "code",
   "execution_count": 117,
   "metadata": {},
   "outputs": [
    {
     "data": {
      "text/html": [
       "<html><script type=\"math/tex; mode=display\">\\newcommand{\\Bold}[1]{\\mathbf{#1}}q_{\\nu}=\\frac{\\omega_{\\nu}+\\nu~\\omega_p}{\\left|\\omega+\\nu\\omega_p\\right|}</script></html>"
      ],
      "text/plain": [
       "q_{\\nu}=\\frac{\\omega_{\\nu}+\\nu~\\omega_p}{\\left|\\omega+\\nu\\omega_p\\right|}"
      ]
     },
     "metadata": {},
     "output_type": "display_data"
    }
   ],
   "source": [
    "show(LatexExpr(\"q_{\\\\nu}=\\\\frac{\\\\omega_{\\\\nu}+\\\\nu~\\\\omega_p}{\\\\left|\\\\omega+\\\\nu\\\\omega_p\\\\right|}\"))"
   ]
  },
  {
   "cell_type": "code",
   "execution_count": 119,
   "metadata": {},
   "outputs": [
    {
     "data": {
      "text/html": [
       "<html><script type=\"math/tex; mode=display\">\\newcommand{\\Bold}[1]{\\mathbf{#1}}if~w_{\\nu} > 0~then~q_{\\nu}=+1</script></html>"
      ],
      "text/plain": [
       "if~w_{\\nu} > 0~then~q_{\\nu}=+1"
      ]
     },
     "metadata": {},
     "output_type": "display_data"
    }
   ],
   "source": [
    "show(LatexExpr(\"if~w_{\\\\nu} > 0~then~q_{\\\\nu}=+1\"))"
   ]
  },
  {
   "cell_type": "code",
   "execution_count": 120,
   "metadata": {},
   "outputs": [
    {
     "data": {
      "text/html": [
       "<html><script type=\"math/tex; mode=display\">\\newcommand{\\Bold}[1]{\\mathbf{#1}}\\left| N_m \\right| = 4</script></html>"
      ],
      "text/plain": [
       "\\left| N_m \\right| = 4"
      ]
     },
     "metadata": {},
     "output_type": "display_data"
    }
   ],
   "source": [
    "show(LatexExpr(\"\\\\left| N_m \\\\right| = 4\"))"
   ]
  },
  {
   "cell_type": "code",
   "execution_count": 121,
   "metadata": {},
   "outputs": [
    {
     "data": {
      "text/html": [
       "<html><script type=\"math/tex; mode=display\">\\newcommand{\\Bold}[1]{\\mathbf{#1}}P_m \\left( z \\right) = p_m~\\left| a_m^{\\left( \\nu \\right) } \\right|^2</script></html>"
      ],
      "text/plain": [
       "P_m \\left( z \\right) = p_m~\\left| a_m^{\\left( \\nu \\right) } \\right|^2"
      ]
     },
     "metadata": {},
     "output_type": "display_data"
    }
   ],
   "source": [
    "show(LatexExpr(\"P_m \\\\left( z \\\\right) = p_m~\\\\left| a_m^{\\\\left( \\\\nu \\\\right) } \\\\right|^2\"))"
   ]
  },
  {
   "cell_type": "code",
   "execution_count": 123,
   "metadata": {},
   "outputs": [
    {
     "data": {
      "text/html": [
       "<html><script type=\"math/tex; mode=display\">\\newcommand{\\Bold}[1]{\\mathbf{#1}}P \\left( z \\right) = \\sum_{m=-\\infty}^{\\infty}P_m \\left(z\\right)</script></html>"
      ],
      "text/plain": [
       "P \\left( z \\right) = \\sum_{m=-\\infty}^{\\infty}P_m \\left(z\\right)"
      ]
     },
     "metadata": {},
     "output_type": "display_data"
    }
   ],
   "source": [
    "show(LatexExpr(\"P \\\\left( z \\\\right) = \\\\sum_{m=-\\\\infty}^{\\\\infty}P_m \\\\left(z\\\\right)\"))"
   ]
  },
  {
   "cell_type": "code",
   "execution_count": 124,
   "metadata": {},
   "outputs": [
    {
     "data": {
      "text/html": [
       "<html><script type=\"math/tex; mode=display\">\\newcommand{\\Bold}[1]{\\mathbf{#1}}P \\left( z \\right) = \\sum_{m=-\\infty}^{\\infty}p_m \\left|a_m^{\\left( \\nu \\right)} \\right|^2 \\left( z \\right)</script></html>"
      ],
      "text/plain": [
       "P \\left( z \\right) = \\sum_{m=-\\infty}^{\\infty}p_m \\left|a_m^{\\left( \\nu \\right)} \\right|^2 \\left( z \\right)"
      ]
     },
     "metadata": {},
     "output_type": "display_data"
    }
   ],
   "source": [
    "show(LatexExpr( \"P \\\\left( z \\\\right) = \\\\sum_{m=-\\\\infty}^{\\\\infty}p_m \\\\left|a_m^{\\\\left( \\\\nu \\\\right)} \\\\right|^2 \\\\left( z \\\\right)\"\n",
    " ))"
   ]
  },
  {
   "cell_type": "code",
   "execution_count": 136,
   "metadata": {},
   "outputs": [
    {
     "data": {
      "text/html": [
       "<html><script type=\"math/tex; mode=display\">\\newcommand{\\Bold}[1]{\\mathbf{#1}}D_{P_z}\\left( z \\right) = \\frac{\\partial}{\\partial{z}}\\sum_{m=-\\infty}^{\\infty}\\left| a_m^{\\left( \\nu \\right)}  \\right|^2</script></html>"
      ],
      "text/plain": [
       "D_{P_z}\\left( z \\right) = \\frac{\\partial}{\\partial{z}}\\sum_{m=-\\infty}^{\\infty}\\left| a_m^{\\left( \\nu \\right)}  \\right|^2"
      ]
     },
     "metadata": {},
     "output_type": "display_data"
    }
   ],
   "source": [
    "show(LatexExpr(\"D_{P_z}\\\\left( z \\\\right) = \\\\frac{\\\\partial}{\\\\partial{z}}\\\\sum_{m=-\\\\infty}^{\\\\infty}\\\\left| a_m^{\\\\left( \\\\nu \\\\right)}  \\\\right|^2\"))"
   ]
  },
  {
   "cell_type": "code",
   "execution_count": 140,
   "metadata": {},
   "outputs": [
    {
     "data": {
      "text/html": [
       "<html><script type=\"math/tex; mode=display\">\\newcommand{\\Bold}[1]{\\mathbf{#1}}\\begin{align} _nC_k={n \\choose k}=\\frac{n!}{k!(n-k)!} \\end{align}</script></html>"
      ],
      "text/plain": [
       "\\begin{align} _nC_k={n \\choose k}=\\frac{n!}{k!(n-k)!} \\end{align}"
      ]
     },
     "metadata": {},
     "output_type": "display_data"
    }
   ],
   "source": [
    "show(LatexExpr(r\"\\begin{align} _nC_k={n \\choose k}=\\frac{n!}{k!(n-k)!} \\end{align}\"))"
   ]
  },
  {
   "cell_type": "code",
   "execution_count": 141,
   "metadata": {},
   "outputs": [
    {
     "data": {
      "text/html": [
       "<html><script type=\"math/tex; mode=display\">\\newcommand{\\Bold}[1]{\\mathbf{#1}}\\sigma = \\sqrt{\\frac{\\sum{(x-\\mu)^2}}{N}} \\nonumber</script></html>"
      ],
      "text/plain": [
       "\\sigma = \\sqrt{\\frac{\\sum{(x-\\mu)^2}}{N}} \\nonumber"
      ]
     },
     "metadata": {},
     "output_type": "display_data"
    }
   ],
   "source": [
    "show(LatexExpr(r\"\\sigma = \\sqrt{\\frac{\\sum{(x-\\mu)^2}}{N}} \\nonumber\"))"
   ]
  },
  {
   "cell_type": "code",
   "execution_count": 146,
   "metadata": {},
   "outputs": [
    {
     "data": {
      "text/html": [
       "<html><script type=\"math/tex; mode=display\">\\newcommand{\\Bold}[1]{\\mathbf{#1}}y = \\frac{{n!}}{{k!\\left( {n - k} \\right)!}}p^k q^{n - k}  = \\left( {\\begin{array}{*{20}c}n  \\\\ k  \\\\ \\end{array}} \\right)p^k q^{n - k}</script></html>"
      ],
      "text/plain": [
       "y = \\frac{{n!}}{{k!\\left( {n - k} \\right)!}}p^k q^{n - k}  = \\left( {\\begin{array}{*{20}c}n  \\\\ k  \\\\ \\end{array}} \\right)p^k q^{n - k}"
      ]
     },
     "metadata": {},
     "output_type": "display_data"
    }
   ],
   "source": [
    "show(LatexExpr( r\"y = \\frac{{n!}}{{k!\\left( {n - k} \\right)!}}p^k q^{n - k}  = \\left( {\\begin{array}{*{20}c}n  \\\\ k  \\\\ \\end{array}} \\right)p^k q^{n - k}\" ))"
   ]
  },
  {
   "cell_type": "code",
   "execution_count": 172,
   "metadata": {},
   "outputs": [
    {
     "data": {
      "text/html": [
       "<html><script type=\"math/tex; mode=display\">\\newcommand{\\Bold}[1]{\\mathbf{#1}}\\begin{bmatrix} 1 \\\\ S \\left( t \\right) \\\\ C \\left( t \\right) \\end{bmatrix} = \\begin{bmatrix} \\left( 1 + r \\Delta \\right) & \\left( 1 + r \\Delta \\right) \\\\ S_1 \\left( t + \\Delta \\right) & S_2 \\left( t + \\Delta \\right) \\\\ C_1 \\left( t + \\Delta \\right) & C_2 \\left( t + \\Delta \\right) \\\\ \\end{bmatrix}\\begin{bmatrix} \\Psi_1 \\\\ \\Psi_2\\end{bmatrix}</script></html>"
      ],
      "text/plain": [
       "\\begin{bmatrix} 1 \\\\ S \\left( t \\right) \\\\ C \\left( t \\right) \\end{bmatrix} = \\begin{bmatrix} \\left( 1 + r \\Delta \\right) & \\left( 1 + r \\Delta \\right) \\\\ S_1 \\left( t + \\Delta \\right) & S_2 \\left( t + \\Delta \\right) \\\\ C_1 \\left( t + \\Delta \\right) & C_2 \\left( t + \\Delta \\right) \\\\ \\end{bmatrix}\\begin{bmatrix} \\Psi_1 \\\\ \\Psi_2\\end{bmatrix}"
      ]
     },
     "metadata": {},
     "output_type": "display_data"
    }
   ],
   "source": [
    "show(LatexExpr(r\"\\begin{bmatrix} 1 \\\\ S \\left( t \\right) \\\\ C \\left( t \\right) \\end{bmatrix} = \\begin{bmatrix} \\left( 1 + r \\Delta \\right) & \\left( 1 + r \\Delta \\right) \\\\ S_1 \\left( t + \\Delta \\right) & S_2 \\left( t + \\Delta \\right) \\\\ C_1 \\left( t + \\Delta \\right) & C_2 \\left( t + \\Delta \\right) \\\\ \\end{bmatrix}\\begin{bmatrix} \\Psi_1 \\\\ \\Psi_2\\end{bmatrix}\")) "
   ]
  },
  {
   "cell_type": "code",
   "execution_count": 171,
   "metadata": {},
   "outputs": [
    {
     "data": {
      "text/html": [
       "<html><script type=\"math/tex; mode=display\">\\newcommand{\\Bold}[1]{\\mathbf{#1}}\\begin{bmatrix} C_1 \\left( t + \\Delta \\right) & C_2 \\left( t + \\Delta \\right) \\end{bmatrix} \\begin{bmatrix} \\Psi_1 \\\\ \\Psi_2\\end{bmatrix}</script></html>"
      ],
      "text/plain": [
       "\\begin{bmatrix} C_1 \\left( t + \\Delta \\right) & C_2 \\left( t + \\Delta \\right) \\end{bmatrix} \\begin{bmatrix} \\Psi_1 \\\\ \\Psi_2\\end{bmatrix}"
      ]
     },
     "metadata": {},
     "output_type": "display_data"
    }
   ],
   "source": [
    "show(LatexExpr(r\"\\begin{bmatrix} C_1 \\left( t + \\Delta \\right) & C_2 \\left( t + \\Delta \\right) \\end{bmatrix} \\begin{bmatrix} \\Psi_1 \\\\ \\Psi_2\\end{bmatrix}\")) "
   ]
  },
  {
   "cell_type": "code",
   "execution_count": 177,
   "metadata": {},
   "outputs": [
    {
     "data": {
      "text/html": [
       "<html><script type=\"math/tex; mode=display\">\\newcommand{\\Bold}[1]{\\mathbf{#1}}\\sigma_{M_{1}-M_{2}} = \\sqrt{\\frac{\\sigma_{1}^{2}}{n_{1}}+\\frac{\\sigma_{2}^{2}}{n_{2}}}=\\sqrt{\\frac{\\sigma^2}{n}+\\frac{\\sigma^2}{n}}=\\sqrt{\\frac{2 \\sigma^2}{n}}$</script></html>"
      ],
      "text/plain": [
       "\\sigma_{M_{1}-M_{2}} = \\sqrt{\\frac{\\sigma_{1}^{2}}{n_{1}}+\\frac{\\sigma_{2}^{2}}{n_{2}}}=\\sqrt{\\frac{\\sigma^2}{n}+\\frac{\\sigma^2}{n}}=\\sqrt{\\frac{2 \\sigma^2}{n}}$"
      ]
     },
     "metadata": {},
     "output_type": "display_data"
    }
   ],
   "source": [
    "show(LatexExpr(r\"\\sigma_{M_{1}-M_{2}} = \\sqrt{\\frac{\\sigma_{1}^{2}}{n_{1}}+\\frac{\\sigma_{2}^{2}}{n_{2}}}=\\sqrt{\\frac{\\sigma^2}{n}+\\frac{\\sigma^2}{n}}=\\sqrt{\\frac{2 \\sigma^2}{n}}$\"))"
   ]
  },
  {
   "cell_type": "code",
   "execution_count": 178,
   "metadata": {},
   "outputs": [
    {
     "data": {
      "text/html": [
       "<html><script type=\"math/tex; mode=display\">\\newcommand{\\Bold}[1]{\\mathbf{#1}}\\sigma_{M} = \\frac{\\sigma}{\\sqrt(N)}</script></html>"
      ],
      "text/plain": [
       "\\sigma_{M} = \\frac{\\sigma}{\\sqrt(N)}"
      ]
     },
     "metadata": {},
     "output_type": "display_data"
    }
   ],
   "source": [
    " show(LatexExpr(r\"\\sigma_{M} = \\frac{\\sigma}{\\sqrt(N)}\"))"
   ]
  },
  {
   "cell_type": "code",
   "execution_count": 181,
   "metadata": {},
   "outputs": [
    {
     "data": {
      "text/html": [
       "<html><script type=\"math/tex; mode=display\">\\newcommand{\\Bold}[1]{\\mathbf{#1}}P(x)= \\frac{N!}{x!(N-x)!} pi^{x}(1-pi)^{N-x}</script></html>"
      ],
      "text/plain": [
       "P(x)= \\frac{N!}{x!(N-x)!} pi^{x}(1-pi)^{N-x}"
      ]
     },
     "metadata": {},
     "output_type": "display_data"
    }
   ],
   "source": [
    "show(LatexExpr(r\"P(x)= \\frac{N!}{x!(N-x)!} pi^{x}(1-pi)^{N-x}\"))"
   ]
  },
  {
   "cell_type": "code",
   "execution_count": 189,
   "metadata": {},
   "outputs": [
    {
     "data": {
      "text/html": [
       "<html><script type=\"math/tex; mode=display\">\\newcommand{\\Bold}[1]{\\mathbf{#1}}\\sum_{i=1}^{n} \\left( \\frac {t_i + t_{i-1}}{2} \\right) (t_i-t_{i-1}) \\rightarrow \\int_{0}^{T}f(s)\\,ds</script></html>"
      ],
      "text/plain": [
       "\\sum_{i=1}^{n} \\left( \\frac {t_i + t_{i-1}}{2} \\right) (t_i-t_{i-1}) \\rightarrow \\int_{0}^{T}f(s)\\,ds"
      ]
     },
     "metadata": {},
     "output_type": "display_data"
    }
   ],
   "source": [
    "show(LatexExpr(r\"\\sum_{i=1}^{n} \\left( \\frac {t_i + t_{i-1}}{2} \\right) (t_i-t_{i-1}) \\rightarrow \\int_{0}^{T}f(s)\\,ds\" ))"
   ]
  },
  {
   "cell_type": "code",
   "execution_count": 192,
   "metadata": {},
   "outputs": [
    {
     "data": {
      "text/html": [
       "<html><script type=\"math/tex; mode=display\">\\newcommand{\\Bold}[1]{\\mathbf{#1}}\\int_{0}^{T} g(s)\\,df(s) \\approx \\sum_{i=1}^{n} g \\left( \\frac{t_i+t_{i-1}}{2} \\right) (f(t)_i)-f(t_{i-1}))</script></html>"
      ],
      "text/plain": [
       "\\int_{0}^{T} g(s)\\,df(s) \\approx \\sum_{i=1}^{n} g \\left( \\frac{t_i+t_{i-1}}{2} \\right) (f(t)_i)-f(t_{i-1}))"
      ]
     },
     "metadata": {},
     "output_type": "display_data"
    }
   ],
   "source": [
    "show(LatexExpr(r\"\\int_{0}^{T} g(s)\\,df(s) \\approx \\sum_{i=1}^{n} g \\left( \\frac{t_i+t_{i-1}}{2} \\right) (f(t)_i)-f(t_{i-1}))\" ))"
   ]
  },
  {
   "cell_type": "code",
   "execution_count": null,
   "metadata": {},
   "outputs": [],
   "source": [
    "show(LatexExpr(r\"\\delta_k \\Delta W_k =  \"))"
   ]
  }
 ],
 "metadata": {
  "kernelspec": {
   "display_name": "SageMath 9.4",
   "language": "sage",
   "name": "sagemath"
  },
  "language": "python",
  "language_info": {
   "codemirror_mode": {
    "name": "ipython",
    "version": 3
   },
   "file_extension": ".py",
   "mimetype": "text/x-python",
   "name": "python",
   "nbconvert_exporter": "python",
   "pygments_lexer": "ipython3",
   "version": "3.9.5"
  }
 },
 "nbformat": 4,
 "nbformat_minor": 2
}
